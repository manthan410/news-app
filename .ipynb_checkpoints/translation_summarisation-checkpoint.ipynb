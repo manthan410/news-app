{
 "cells": [
  {
   "cell_type": "code",
   "execution_count": 19,
   "id": "7594423d",
   "metadata": {},
   "outputs": [],
   "source": [
    "import pandas as pd\n",
    "import time"
   ]
  },
  {
   "cell_type": "code",
   "execution_count": 73,
   "id": "474f0906",
   "metadata": {},
   "outputs": [
    {
     "data": {
      "text/html": [
       "<div>\n",
       "<style scoped>\n",
       "    .dataframe tbody tr th:only-of-type {\n",
       "        vertical-align: middle;\n",
       "    }\n",
       "\n",
       "    .dataframe tbody tr th {\n",
       "        vertical-align: top;\n",
       "    }\n",
       "\n",
       "    .dataframe thead th {\n",
       "        text-align: right;\n",
       "    }\n",
       "</style>\n",
       "<table border=\"1\" class=\"dataframe\">\n",
       "  <thead>\n",
       "    <tr style=\"text-align: right;\">\n",
       "      <th></th>\n",
       "      <th>title</th>\n",
       "      <th>link</th>\n",
       "      <th>content</th>\n",
       "      <th>pubDate</th>\n",
       "      <th>image_url</th>\n",
       "      <th>source_id</th>\n",
       "      <th>category</th>\n",
       "    </tr>\n",
       "  </thead>\n",
       "  <tbody>\n",
       "    <tr>\n",
       "      <th>0</th>\n",
       "      <td>Inflation fällt im März auf 7,4 Prozent: Warum...</td>\n",
       "      <td>https://www.businessinsider.de/wirtschaft/verb...</td>\n",
       "      <td>Die Inflation sinkt deutlich. picture alliance...</td>\n",
       "      <td>2023-03-30 12:01:57</td>\n",
       "      <td>https://cdn.businessinsider.de/wp-content/uplo...</td>\n",
       "      <td>businessinsider_de</td>\n",
       "      <td>['business']</td>\n",
       "    </tr>\n",
       "    <tr>\n",
       "      <th>1</th>\n",
       "      <td>Kampf dem Kasino-Kapitalismus</td>\n",
       "      <td>https://www.hna.de/wirtschaft/kasino-kapitalis...</td>\n",
       "      <td>Der Untergang der Silicon Valley Bank und der ...</td>\n",
       "      <td>2023-03-30 10:51:44</td>\n",
       "      <td>https://www.hna.de/bilder/2023/03/28/92180198/...</td>\n",
       "      <td>hna</td>\n",
       "      <td>['business']</td>\n",
       "    </tr>\n",
       "    <tr>\n",
       "      <th>2</th>\n",
       "      <td>Nachbesserung bei Mehrwegangebotspflicht nötig</td>\n",
       "      <td>https://www.hna.de/wirtschaft/nachbesserung-be...</td>\n",
       "      <td>Berlin - Die Deutsche Umwelthilfe (DUH) pocht ...</td>\n",
       "      <td>2023-03-30 10:49:34</td>\n",
       "      <td>https://www.hna.de/bilder/2023/03/30/92181278/...</td>\n",
       "      <td>hna</td>\n",
       "      <td>['business']</td>\n",
       "    </tr>\n",
       "    <tr>\n",
       "      <th>3</th>\n",
       "      <td>Muss ich jetzt noch meine Heizung tauschen? Ha...</td>\n",
       "      <td>https://www.hna.de/wirtschaft/tauschen-habecks...</td>\n",
       "      <td>Die Ampel-Parteien haben sich auf neue Regelun...</td>\n",
       "      <td>2023-03-30 10:43:34</td>\n",
       "      <td>https://www.hna.de/bilder/2023/03/29/92178487/...</td>\n",
       "      <td>hna</td>\n",
       "      <td>['business']</td>\n",
       "    </tr>\n",
       "    <tr>\n",
       "      <th>4</th>\n",
       "      <td>Austrian Airlines: Tarifeinigung nach Streikdr...</td>\n",
       "      <td>https://www.hna.de/wirtschaft/austrian-airline...</td>\n",
       "      <td>Wien - Bordpersonal und Management der Lufthan...</td>\n",
       "      <td>2023-03-30 10:24:56</td>\n",
       "      <td>https://www.hna.de/bilder/2023/03/30/92181205/...</td>\n",
       "      <td>hna</td>\n",
       "      <td>['business']</td>\n",
       "    </tr>\n",
       "  </tbody>\n",
       "</table>\n",
       "</div>"
      ],
      "text/plain": [
       "                                               title   \n",
       "0  Inflation fällt im März auf 7,4 Prozent: Warum...  \\\n",
       "1                      Kampf dem Kasino-Kapitalismus   \n",
       "2     Nachbesserung bei Mehrwegangebotspflicht nötig   \n",
       "3  Muss ich jetzt noch meine Heizung tauschen? Ha...   \n",
       "4  Austrian Airlines: Tarifeinigung nach Streikdr...   \n",
       "\n",
       "                                                link   \n",
       "0  https://www.businessinsider.de/wirtschaft/verb...  \\\n",
       "1  https://www.hna.de/wirtschaft/kasino-kapitalis...   \n",
       "2  https://www.hna.de/wirtschaft/nachbesserung-be...   \n",
       "3  https://www.hna.de/wirtschaft/tauschen-habecks...   \n",
       "4  https://www.hna.de/wirtschaft/austrian-airline...   \n",
       "\n",
       "                                             content              pubDate   \n",
       "0  Die Inflation sinkt deutlich. picture alliance...  2023-03-30 12:01:57  \\\n",
       "1  Der Untergang der Silicon Valley Bank und der ...  2023-03-30 10:51:44   \n",
       "2  Berlin - Die Deutsche Umwelthilfe (DUH) pocht ...  2023-03-30 10:49:34   \n",
       "3  Die Ampel-Parteien haben sich auf neue Regelun...  2023-03-30 10:43:34   \n",
       "4  Wien - Bordpersonal und Management der Lufthan...  2023-03-30 10:24:56   \n",
       "\n",
       "                                           image_url           source_id   \n",
       "0  https://cdn.businessinsider.de/wp-content/uplo...  businessinsider_de  \\\n",
       "1  https://www.hna.de/bilder/2023/03/28/92180198/...                 hna   \n",
       "2  https://www.hna.de/bilder/2023/03/30/92181278/...                 hna   \n",
       "3  https://www.hna.de/bilder/2023/03/29/92178487/...                 hna   \n",
       "4  https://www.hna.de/bilder/2023/03/30/92181205/...                 hna   \n",
       "\n",
       "       category  \n",
       "0  ['business']  \n",
       "1  ['business']  \n",
       "2  ['business']  \n",
       "3  ['business']  \n",
       "4  ['business']  "
      ]
     },
     "execution_count": 73,
     "metadata": {},
     "output_type": "execute_result"
    }
   ],
   "source": [
    "df_business= pd.read_csv('business.csv')\n",
    "df_business.head()"
   ]
  },
  {
   "cell_type": "code",
   "execution_count": 74,
   "id": "a13d9825",
   "metadata": {},
   "outputs": [
    {
     "data": {
      "text/html": [
       "<div>\n",
       "<style scoped>\n",
       "    .dataframe tbody tr th:only-of-type {\n",
       "        vertical-align: middle;\n",
       "    }\n",
       "\n",
       "    .dataframe tbody tr th {\n",
       "        vertical-align: top;\n",
       "    }\n",
       "\n",
       "    .dataframe thead th {\n",
       "        text-align: right;\n",
       "    }\n",
       "</style>\n",
       "<table border=\"1\" class=\"dataframe\">\n",
       "  <thead>\n",
       "    <tr style=\"text-align: right;\">\n",
       "      <th></th>\n",
       "      <th>title</th>\n",
       "      <th>link</th>\n",
       "      <th>content</th>\n",
       "      <th>pubDate</th>\n",
       "      <th>image_url</th>\n",
       "      <th>source_id</th>\n",
       "      <th>category</th>\n",
       "    </tr>\n",
       "  </thead>\n",
       "  <tbody>\n",
       "    <tr>\n",
       "      <th>0</th>\n",
       "      <td>Heinrich-Mann-Preis für György Dalos: Gegner d...</td>\n",
       "      <td>https://taz.de/Heinrich-Mann-Preis-fuer-Gyoerg...</td>\n",
       "      <td>Im Schreiben György Dalos’ spiegelt sich der W...</td>\n",
       "      <td>2023-03-30 07:32:00</td>\n",
       "      <td>https://taz.de/picture/6179872/948/32499005-1....</td>\n",
       "      <td>taz</td>\n",
       "      <td>['entertainment', 'environment']</td>\n",
       "    </tr>\n",
       "    <tr>\n",
       "      <th>1</th>\n",
       "      <td>Gesundheit: Jennifer Aniston achtet auf Adam S...</td>\n",
       "      <td>https://www.insuedthueringen.de/inhalt.gesundh...</td>\n",
       "      <td>NaN</td>\n",
       "      <td>2023-03-30 06:30:07</td>\n",
       "      <td>https://www.insuedthueringen.de/media.media.7a...</td>\n",
       "      <td>insuedthueringen</td>\n",
       "      <td>['entertainment']</td>\n",
       "    </tr>\n",
       "    <tr>\n",
       "      <th>2</th>\n",
       "      <td>Deutschland: Bilder des Tages</td>\n",
       "      <td>https://www.insuedthueringen.de/inhalt.deutsch...</td>\n",
       "      <td>NaN</td>\n",
       "      <td>2023-03-30 06:27:23</td>\n",
       "      <td>https://www.insuedthueringen.de/media.media.7e...</td>\n",
       "      <td>insuedthueringen</td>\n",
       "      <td>['entertainment']</td>\n",
       "    </tr>\n",
       "    <tr>\n",
       "      <th>3</th>\n",
       "      <td>Campino trifft König Charles – Sänger kassiert...</td>\n",
       "      <td>https://www.watson.de/unterhaltung/prominente/...</td>\n",
       "      <td>Campino tauchte beim Staatsbankett von König C...</td>\n",
       "      <td>2023-03-30 06:23:44</td>\n",
       "      <td>NaN</td>\n",
       "      <td>watson</td>\n",
       "      <td>['entertainment']</td>\n",
       "    </tr>\n",
       "    <tr>\n",
       "      <th>4</th>\n",
       "      <td>König Charles besucht Ökodorf in Brandenburg –...</td>\n",
       "      <td>https://www.watson.de/nachhaltigkeit/nachhalti...</td>\n",
       "      <td>Von der britischen Boulevardpresse wurde Prinz...</td>\n",
       "      <td>2023-03-30 06:20:45</td>\n",
       "      <td>NaN</td>\n",
       "      <td>watson</td>\n",
       "      <td>['entertainment']</td>\n",
       "    </tr>\n",
       "    <tr>\n",
       "      <th>5</th>\n",
       "      <td>Überraschendes Liebes-Outing: Lana Del Rey sol...</td>\n",
       "      <td>https://www.promiflash.de/news/2023/03/30/uebe...</td>\n",
       "      <td>NaN</td>\n",
       "      <td>2023-03-30 05:30:00</td>\n",
       "      <td>NaN</td>\n",
       "      <td>promiflash</td>\n",
       "      <td>['entertainment']</td>\n",
       "    </tr>\n",
       "    <tr>\n",
       "      <th>6</th>\n",
       "      <td>Motsi Mabuse erlebt \"Schock\" bei Treffen mit K...</td>\n",
       "      <td>https://www.watson.de/unterhaltung/royals/5011...</td>\n",
       "      <td>Auch Motsi Mabuse war zum Staatsbankett gelade...</td>\n",
       "      <td>2023-03-30 05:15:57</td>\n",
       "      <td>NaN</td>\n",
       "      <td>watson</td>\n",
       "      <td>['entertainment']</td>\n",
       "    </tr>\n",
       "    <tr>\n",
       "      <th>7</th>\n",
       "      <td>\"Let's Dance\"-Tanzpaar \"verschollen\": Sharon B...</td>\n",
       "      <td>https://www.watson.de/unterhaltung/prominente/...</td>\n",
       "      <td>Bislang tanzte Sharon mit Christian Polanc. Fü...</td>\n",
       "      <td>2023-03-30 05:09:12</td>\n",
       "      <td>NaN</td>\n",
       "      <td>watson</td>\n",
       "      <td>['entertainment']</td>\n",
       "    </tr>\n",
       "    <tr>\n",
       "      <th>8</th>\n",
       "      <td>ProSieben-Moderatorin wehrt sich gegen Po-Krit...</td>\n",
       "      <td>https://www.watson.de/unterhaltung/prominente/...</td>\n",
       "      <td>Nach den Spa Awards 2023 erhielt eine ProSiebe...</td>\n",
       "      <td>2023-03-30 05:07:15</td>\n",
       "      <td>NaN</td>\n",
       "      <td>watson</td>\n",
       "      <td>['entertainment']</td>\n",
       "    </tr>\n",
       "    <tr>\n",
       "      <th>9</th>\n",
       "      <td>Nach Wendler-Eklat: Senderchef von RTL Zwei sp...</td>\n",
       "      <td>https://www.watson.de/unterhaltung/prominente/...</td>\n",
       "      <td>Michael Wendler und Laura Müller werden erstma...</td>\n",
       "      <td>2023-03-30 05:05:48</td>\n",
       "      <td>NaN</td>\n",
       "      <td>watson</td>\n",
       "      <td>['entertainment']</td>\n",
       "    </tr>\n",
       "  </tbody>\n",
       "</table>\n",
       "</div>"
      ],
      "text/plain": [
       "                                               title   \n",
       "0  Heinrich-Mann-Preis für György Dalos: Gegner d...  \\\n",
       "1  Gesundheit: Jennifer Aniston achtet auf Adam S...   \n",
       "2                      Deutschland: Bilder des Tages   \n",
       "3  Campino trifft König Charles – Sänger kassiert...   \n",
       "4  König Charles besucht Ökodorf in Brandenburg –...   \n",
       "5  Überraschendes Liebes-Outing: Lana Del Rey sol...   \n",
       "6  Motsi Mabuse erlebt \"Schock\" bei Treffen mit K...   \n",
       "7  \"Let's Dance\"-Tanzpaar \"verschollen\": Sharon B...   \n",
       "8  ProSieben-Moderatorin wehrt sich gegen Po-Krit...   \n",
       "9  Nach Wendler-Eklat: Senderchef von RTL Zwei sp...   \n",
       "\n",
       "                                                link   \n",
       "0  https://taz.de/Heinrich-Mann-Preis-fuer-Gyoerg...  \\\n",
       "1  https://www.insuedthueringen.de/inhalt.gesundh...   \n",
       "2  https://www.insuedthueringen.de/inhalt.deutsch...   \n",
       "3  https://www.watson.de/unterhaltung/prominente/...   \n",
       "4  https://www.watson.de/nachhaltigkeit/nachhalti...   \n",
       "5  https://www.promiflash.de/news/2023/03/30/uebe...   \n",
       "6  https://www.watson.de/unterhaltung/royals/5011...   \n",
       "7  https://www.watson.de/unterhaltung/prominente/...   \n",
       "8  https://www.watson.de/unterhaltung/prominente/...   \n",
       "9  https://www.watson.de/unterhaltung/prominente/...   \n",
       "\n",
       "                                             content              pubDate   \n",
       "0  Im Schreiben György Dalos’ spiegelt sich der W...  2023-03-30 07:32:00  \\\n",
       "1                                                NaN  2023-03-30 06:30:07   \n",
       "2                                                NaN  2023-03-30 06:27:23   \n",
       "3  Campino tauchte beim Staatsbankett von König C...  2023-03-30 06:23:44   \n",
       "4  Von der britischen Boulevardpresse wurde Prinz...  2023-03-30 06:20:45   \n",
       "5                                                NaN  2023-03-30 05:30:00   \n",
       "6  Auch Motsi Mabuse war zum Staatsbankett gelade...  2023-03-30 05:15:57   \n",
       "7  Bislang tanzte Sharon mit Christian Polanc. Fü...  2023-03-30 05:09:12   \n",
       "8  Nach den Spa Awards 2023 erhielt eine ProSiebe...  2023-03-30 05:07:15   \n",
       "9  Michael Wendler und Laura Müller werden erstma...  2023-03-30 05:05:48   \n",
       "\n",
       "                                           image_url         source_id   \n",
       "0  https://taz.de/picture/6179872/948/32499005-1....               taz  \\\n",
       "1  https://www.insuedthueringen.de/media.media.7a...  insuedthueringen   \n",
       "2  https://www.insuedthueringen.de/media.media.7e...  insuedthueringen   \n",
       "3                                                NaN            watson   \n",
       "4                                                NaN            watson   \n",
       "5                                                NaN        promiflash   \n",
       "6                                                NaN            watson   \n",
       "7                                                NaN            watson   \n",
       "8                                                NaN            watson   \n",
       "9                                                NaN            watson   \n",
       "\n",
       "                           category  \n",
       "0  ['entertainment', 'environment']  \n",
       "1                 ['entertainment']  \n",
       "2                 ['entertainment']  \n",
       "3                 ['entertainment']  \n",
       "4                 ['entertainment']  \n",
       "5                 ['entertainment']  \n",
       "6                 ['entertainment']  \n",
       "7                 ['entertainment']  \n",
       "8                 ['entertainment']  \n",
       "9                 ['entertainment']  "
      ]
     },
     "execution_count": 74,
     "metadata": {},
     "output_type": "execute_result"
    }
   ],
   "source": [
    "df_entertainment= pd.read_csv('entertainment.csv', index_col=0)\n",
    "df_entertainment.head(10)"
   ]
  },
  {
   "cell_type": "code",
   "execution_count": 75,
   "id": "0989275c",
   "metadata": {},
   "outputs": [
    {
     "data": {
      "text/html": [
       "<div>\n",
       "<style scoped>\n",
       "    .dataframe tbody tr th:only-of-type {\n",
       "        vertical-align: middle;\n",
       "    }\n",
       "\n",
       "    .dataframe tbody tr th {\n",
       "        vertical-align: top;\n",
       "    }\n",
       "\n",
       "    .dataframe thead th {\n",
       "        text-align: right;\n",
       "    }\n",
       "</style>\n",
       "<table border=\"1\" class=\"dataframe\">\n",
       "  <thead>\n",
       "    <tr style=\"text-align: right;\">\n",
       "      <th></th>\n",
       "      <th>title</th>\n",
       "      <th>link</th>\n",
       "      <th>content</th>\n",
       "      <th>pubDate</th>\n",
       "      <th>image_url</th>\n",
       "      <th>source_id</th>\n",
       "      <th>category</th>\n",
       "    </tr>\n",
       "  </thead>\n",
       "  <tbody>\n",
       "    <tr>\n",
       "      <th>0</th>\n",
       "      <td>Krieg gegen die Ukraine: So ist die Lage</td>\n",
       "      <td>https://www.nordbayern.de/politik/krieg-gegen-...</td>\n",
       "      <td>Kiew - Der ukrainische Staatschef wünscht sich...</td>\n",
       "      <td>2023-03-30 12:43:47</td>\n",
       "      <td>NaN</td>\n",
       "      <td>nordbayern</td>\n",
       "      <td>['politics']</td>\n",
       "    </tr>\n",
       "    <tr>\n",
       "      <th>1</th>\n",
       "      <td>Putin-kritisches Kinderbild: Alleinerziehender...</td>\n",
       "      <td>https://www.tz.de/politik/ukraine-krieg-russla...</td>\n",
       "      <td>NaN</td>\n",
       "      <td>2023-03-30 07:56:35</td>\n",
       "      <td>https://www.tz.de/bilder/2023/03/28/92177942/3...</td>\n",
       "      <td>tz</td>\n",
       "      <td>['politics']</td>\n",
       "    </tr>\n",
       "    <tr>\n",
       "      <th>2</th>\n",
       "      <td>20 Jahre nach Beginn des Irakkrieges: Keine Kr...</td>\n",
       "      <td>https://taz.de/20-Jahre-nach-Beginn-des-Irakkr...</td>\n",
       "      <td>NaN</td>\n",
       "      <td>2023-03-30 06:58:00</td>\n",
       "      <td>https://taz.de/picture/6181615/948/Irak-USA-1....</td>\n",
       "      <td>taz</td>\n",
       "      <td>['politics']</td>\n",
       "    </tr>\n",
       "    <tr>\n",
       "      <th>3</th>\n",
       "      <td>Kriegsverbrechen und Armenien: Putins Angst vo...</td>\n",
       "      <td>https://taz.de/Kriegsverbrechen-und-Armenien/!...</td>\n",
       "      <td>NaN</td>\n",
       "      <td>2023-03-30 06:15:00</td>\n",
       "      <td>https://taz.de/picture/6181339/948/32236971-1....</td>\n",
       "      <td>taz</td>\n",
       "      <td>['politics']</td>\n",
       "    </tr>\n",
       "    <tr>\n",
       "      <th>4</th>\n",
       "      <td>Verhältnis zu Russland: Armenien geht auf Distanz</td>\n",
       "      <td>https://taz.de/Verhaeltnis-zu-Russland/!5921590/</td>\n",
       "      <td>NaN</td>\n",
       "      <td>2023-03-30 06:12:00</td>\n",
       "      <td>https://taz.de/picture/6179961/948/32004832-1....</td>\n",
       "      <td>taz</td>\n",
       "      <td>['politics']</td>\n",
       "    </tr>\n",
       "  </tbody>\n",
       "</table>\n",
       "</div>"
      ],
      "text/plain": [
       "                                               title   \n",
       "0           Krieg gegen die Ukraine: So ist die Lage  \\\n",
       "1  Putin-kritisches Kinderbild: Alleinerziehender...   \n",
       "2  20 Jahre nach Beginn des Irakkrieges: Keine Kr...   \n",
       "3  Kriegsverbrechen und Armenien: Putins Angst vo...   \n",
       "4  Verhältnis zu Russland: Armenien geht auf Distanz   \n",
       "\n",
       "                                                link   \n",
       "0  https://www.nordbayern.de/politik/krieg-gegen-...  \\\n",
       "1  https://www.tz.de/politik/ukraine-krieg-russla...   \n",
       "2  https://taz.de/20-Jahre-nach-Beginn-des-Irakkr...   \n",
       "3  https://taz.de/Kriegsverbrechen-und-Armenien/!...   \n",
       "4   https://taz.de/Verhaeltnis-zu-Russland/!5921590/   \n",
       "\n",
       "                                             content              pubDate   \n",
       "0  Kiew - Der ukrainische Staatschef wünscht sich...  2023-03-30 12:43:47  \\\n",
       "1                                                NaN  2023-03-30 07:56:35   \n",
       "2                                                NaN  2023-03-30 06:58:00   \n",
       "3                                                NaN  2023-03-30 06:15:00   \n",
       "4                                                NaN  2023-03-30 06:12:00   \n",
       "\n",
       "                                           image_url   source_id      category  \n",
       "0                                                NaN  nordbayern  ['politics']  \n",
       "1  https://www.tz.de/bilder/2023/03/28/92177942/3...          tz  ['politics']  \n",
       "2  https://taz.de/picture/6181615/948/Irak-USA-1....         taz  ['politics']  \n",
       "3  https://taz.de/picture/6181339/948/32236971-1....         taz  ['politics']  \n",
       "4  https://taz.de/picture/6179961/948/32004832-1....         taz  ['politics']  "
      ]
     },
     "execution_count": 75,
     "metadata": {},
     "output_type": "execute_result"
    }
   ],
   "source": [
    "df_politics= pd.read_csv('politics.csv', index_col=0)\n",
    "df_politics.head()"
   ]
  },
  {
   "cell_type": "code",
   "execution_count": 76,
   "id": "bbb233f8",
   "metadata": {},
   "outputs": [
    {
     "data": {
      "text/html": [
       "<div>\n",
       "<style scoped>\n",
       "    .dataframe tbody tr th:only-of-type {\n",
       "        vertical-align: middle;\n",
       "    }\n",
       "\n",
       "    .dataframe tbody tr th {\n",
       "        vertical-align: top;\n",
       "    }\n",
       "\n",
       "    .dataframe thead th {\n",
       "        text-align: right;\n",
       "    }\n",
       "</style>\n",
       "<table border=\"1\" class=\"dataframe\">\n",
       "  <thead>\n",
       "    <tr style=\"text-align: right;\">\n",
       "      <th></th>\n",
       "      <th>title</th>\n",
       "      <th>link</th>\n",
       "      <th>content</th>\n",
       "      <th>pubDate</th>\n",
       "      <th>image_url</th>\n",
       "      <th>source_id</th>\n",
       "      <th>category</th>\n",
       "    </tr>\n",
       "  </thead>\n",
       "  <tbody>\n",
       "    <tr>\n",
       "      <th>0</th>\n",
       "      <td>Esports Battles March 2023 CSGO 2023: REMBAZA ...</td>\n",
       "      <td>https://www.news.de/sport/856822638/rembaza-ge...</td>\n",
       "      <td>NaN</td>\n",
       "      <td>2023-03-30 08:05:03</td>\n",
       "      <td>NaN</td>\n",
       "      <td>news_de</td>\n",
       "      <td>['sports']</td>\n",
       "    </tr>\n",
       "    <tr>\n",
       "      <th>1</th>\n",
       "      <td>»Der Radsport hat mir alles gegeben – und mir ...</td>\n",
       "      <td>https://www.spiegel.de/sport/der-radsport-hat-...</td>\n",
       "      <td>Auf dem Rad war er ein Idol. Doch Bradley Wigg...</td>\n",
       "      <td>2023-03-30 05:58:40</td>\n",
       "      <td>https://cdn.prod.www.spiegel.de/images/2e988f6...</td>\n",
       "      <td>spiegel</td>\n",
       "      <td>['sports']</td>\n",
       "    </tr>\n",
       "    <tr>\n",
       "      <th>2</th>\n",
       "      <td>CCT South America Series #6 2023: FURIA ACADEM...</td>\n",
       "      <td>https://www.news.de/sport/856822344/furia-acad...</td>\n",
       "      <td>NaN</td>\n",
       "      <td>2023-03-30 03:05:02</td>\n",
       "      <td>NaN</td>\n",
       "      <td>news_de</td>\n",
       "      <td>['sports']</td>\n",
       "    </tr>\n",
       "    <tr>\n",
       "      <th>3</th>\n",
       "      <td>CCT South America Series #6 2023: CS:GO-Match-...</td>\n",
       "      <td>https://www.news.de/sport/856822317/oddik-gege...</td>\n",
       "      <td>NaN</td>\n",
       "      <td>2023-03-30 00:05:02</td>\n",
       "      <td>NaN</td>\n",
       "      <td>news_de</td>\n",
       "      <td>['sports']</td>\n",
       "    </tr>\n",
       "    <tr>\n",
       "      <th>4</th>\n",
       "      <td>BVB-Doku: Spieler sprechen über den Bombenansc...</td>\n",
       "      <td>https://www.t-online.de/sport/fussball/bundesl...</td>\n",
       "      <td>NaN</td>\n",
       "      <td>2023-03-29 22:09:10</td>\n",
       "      <td>https://images.t-online.de/2022/05/92153882v1/...</td>\n",
       "      <td>t-online</td>\n",
       "      <td>['sports']</td>\n",
       "    </tr>\n",
       "  </tbody>\n",
       "</table>\n",
       "</div>"
      ],
      "text/plain": [
       "                                               title   \n",
       "0  Esports Battles March 2023 CSGO 2023: REMBAZA ...  \\\n",
       "1  »Der Radsport hat mir alles gegeben – und mir ...   \n",
       "2  CCT South America Series #6 2023: FURIA ACADEM...   \n",
       "3  CCT South America Series #6 2023: CS:GO-Match-...   \n",
       "4  BVB-Doku: Spieler sprechen über den Bombenansc...   \n",
       "\n",
       "                                                link   \n",
       "0  https://www.news.de/sport/856822638/rembaza-ge...  \\\n",
       "1  https://www.spiegel.de/sport/der-radsport-hat-...   \n",
       "2  https://www.news.de/sport/856822344/furia-acad...   \n",
       "3  https://www.news.de/sport/856822317/oddik-gege...   \n",
       "4  https://www.t-online.de/sport/fussball/bundesl...   \n",
       "\n",
       "                                             content              pubDate   \n",
       "0                                                NaN  2023-03-30 08:05:03  \\\n",
       "1  Auf dem Rad war er ein Idol. Doch Bradley Wigg...  2023-03-30 05:58:40   \n",
       "2                                                NaN  2023-03-30 03:05:02   \n",
       "3                                                NaN  2023-03-30 00:05:02   \n",
       "4                                                NaN  2023-03-29 22:09:10   \n",
       "\n",
       "                                           image_url source_id    category  \n",
       "0                                                NaN   news_de  ['sports']  \n",
       "1  https://cdn.prod.www.spiegel.de/images/2e988f6...   spiegel  ['sports']  \n",
       "2                                                NaN   news_de  ['sports']  \n",
       "3                                                NaN   news_de  ['sports']  \n",
       "4  https://images.t-online.de/2022/05/92153882v1/...  t-online  ['sports']  "
      ]
     },
     "execution_count": 76,
     "metadata": {},
     "output_type": "execute_result"
    }
   ],
   "source": [
    "df_sports= pd.read_csv('sports.csv', index_col=0)\n",
    "df_sports.head()"
   ]
  },
  {
   "cell_type": "code",
   "execution_count": 77,
   "id": "cfbbceb6",
   "metadata": {},
   "outputs": [
    {
     "data": {
      "text/html": [
       "<div>\n",
       "<style scoped>\n",
       "    .dataframe tbody tr th:only-of-type {\n",
       "        vertical-align: middle;\n",
       "    }\n",
       "\n",
       "    .dataframe tbody tr th {\n",
       "        vertical-align: top;\n",
       "    }\n",
       "\n",
       "    .dataframe thead th {\n",
       "        text-align: right;\n",
       "    }\n",
       "</style>\n",
       "<table border=\"1\" class=\"dataframe\">\n",
       "  <thead>\n",
       "    <tr style=\"text-align: right;\">\n",
       "      <th></th>\n",
       "      <th>title</th>\n",
       "      <th>link</th>\n",
       "      <th>content</th>\n",
       "      <th>pubDate</th>\n",
       "      <th>image_url</th>\n",
       "      <th>source_id</th>\n",
       "      <th>category</th>\n",
       "    </tr>\n",
       "  </thead>\n",
       "  <tbody>\n",
       "    <tr>\n",
       "      <th>0</th>\n",
       "      <td>Stiftung Warentest testet Akku-Rasenmäher: Dre...</td>\n",
       "      <td>https://www.inside-digital.de/news/stiftung-wa...</td>\n",
       "      <td>Akku-Rasenmäher sind im Garten unglaublich pra...</td>\n",
       "      <td>2023-03-30 11:30:00</td>\n",
       "      <td>NaN</td>\n",
       "      <td>inside-digital</td>\n",
       "      <td>['technology']</td>\n",
       "    </tr>\n",
       "    <tr>\n",
       "      <th>1</th>\n",
       "      <td>Auch AVM, Hue &amp; Sonos betroffen: Diese App ste...</td>\n",
       "      <td>https://www.inside-digital.de/news/auch-avm-hu...</td>\n",
       "      <td>Die Nachricht kam für die Nutzer der Smart-Hom...</td>\n",
       "      <td>2023-03-30 11:30:00</td>\n",
       "      <td>NaN</td>\n",
       "      <td>inside-digital</td>\n",
       "      <td>['technology']</td>\n",
       "    </tr>\n",
       "    <tr>\n",
       "      <th>2</th>\n",
       "      <td>Spotify: Neue Funktion verärgert unzählige Kunden</td>\n",
       "      <td>https://www.inside-digital.de/news/spotify-neu...</td>\n",
       "      <td>Die Kurzvideo-App TikTok ist unglaublich erfol...</td>\n",
       "      <td>2023-03-30 10:00:00</td>\n",
       "      <td>NaN</td>\n",
       "      <td>inside-digital</td>\n",
       "      <td>['technology']</td>\n",
       "    </tr>\n",
       "    <tr>\n",
       "      <th>3</th>\n",
       "      <td>iPhone 15: Insider erklärt Apples spannendste ...</td>\n",
       "      <td>https://www.inside-digital.de/news/iphone-15-i...</td>\n",
       "      <td>Vor einigen Wochen zeigten sich die ersten Ren...</td>\n",
       "      <td>2023-03-30 10:00:00</td>\n",
       "      <td>NaN</td>\n",
       "      <td>inside-digital</td>\n",
       "      <td>['technology']</td>\n",
       "    </tr>\n",
       "    <tr>\n",
       "      <th>4</th>\n",
       "      <td>Einigung auf ehrgeizigere Ziele: EU will mehr ...</td>\n",
       "      <td>https://taz.de/Einigung-auf-ehrgeizigere-Ziele...</td>\n",
       "      <td>NaN</td>\n",
       "      <td>2023-03-30 07:04:00</td>\n",
       "      <td>https://taz.de/picture/6181627/948/32497536-1....</td>\n",
       "      <td>taz</td>\n",
       "      <td>['environment', 'science']</td>\n",
       "    </tr>\n",
       "  </tbody>\n",
       "</table>\n",
       "</div>"
      ],
      "text/plain": [
       "                                               title   \n",
       "0  Stiftung Warentest testet Akku-Rasenmäher: Dre...  \\\n",
       "1  Auch AVM, Hue & Sonos betroffen: Diese App ste...   \n",
       "2  Spotify: Neue Funktion verärgert unzählige Kunden   \n",
       "3  iPhone 15: Insider erklärt Apples spannendste ...   \n",
       "4  Einigung auf ehrgeizigere Ziele: EU will mehr ...   \n",
       "\n",
       "                                                link   \n",
       "0  https://www.inside-digital.de/news/stiftung-wa...  \\\n",
       "1  https://www.inside-digital.de/news/auch-avm-hu...   \n",
       "2  https://www.inside-digital.de/news/spotify-neu...   \n",
       "3  https://www.inside-digital.de/news/iphone-15-i...   \n",
       "4  https://taz.de/Einigung-auf-ehrgeizigere-Ziele...   \n",
       "\n",
       "                                             content              pubDate   \n",
       "0  Akku-Rasenmäher sind im Garten unglaublich pra...  2023-03-30 11:30:00  \\\n",
       "1  Die Nachricht kam für die Nutzer der Smart-Hom...  2023-03-30 11:30:00   \n",
       "2  Die Kurzvideo-App TikTok ist unglaublich erfol...  2023-03-30 10:00:00   \n",
       "3  Vor einigen Wochen zeigten sich die ersten Ren...  2023-03-30 10:00:00   \n",
       "4                                                NaN  2023-03-30 07:04:00   \n",
       "\n",
       "                                           image_url       source_id   \n",
       "0                                                NaN  inside-digital  \\\n",
       "1                                                NaN  inside-digital   \n",
       "2                                                NaN  inside-digital   \n",
       "3                                                NaN  inside-digital   \n",
       "4  https://taz.de/picture/6181627/948/32497536-1....             taz   \n",
       "\n",
       "                     category  \n",
       "0              ['technology']  \n",
       "1              ['technology']  \n",
       "2              ['technology']  \n",
       "3              ['technology']  \n",
       "4  ['environment', 'science']  "
      ]
     },
     "execution_count": 77,
     "metadata": {},
     "output_type": "execute_result"
    }
   ],
   "source": [
    "df_tech= pd.read_csv('tech.csv', index_col=0)\n",
    "df_tech.head()"
   ]
  },
  {
   "cell_type": "code",
   "execution_count": 78,
   "id": "bb3a5fdf",
   "metadata": {},
   "outputs": [
    {
     "data": {
      "text/html": [
       "<div>\n",
       "<style scoped>\n",
       "    .dataframe tbody tr th:only-of-type {\n",
       "        vertical-align: middle;\n",
       "    }\n",
       "\n",
       "    .dataframe tbody tr th {\n",
       "        vertical-align: top;\n",
       "    }\n",
       "\n",
       "    .dataframe thead th {\n",
       "        text-align: right;\n",
       "    }\n",
       "</style>\n",
       "<table border=\"1\" class=\"dataframe\">\n",
       "  <thead>\n",
       "    <tr style=\"text-align: right;\">\n",
       "      <th></th>\n",
       "      <th>Unnamed: 0</th>\n",
       "      <th>title</th>\n",
       "      <th>link</th>\n",
       "      <th>content</th>\n",
       "      <th>pubDate</th>\n",
       "      <th>image_url</th>\n",
       "    </tr>\n",
       "  </thead>\n",
       "  <tbody>\n",
       "    <tr>\n",
       "      <th>0</th>\n",
       "      <td>0</td>\n",
       "      <td>Tausende demonstrieren in Portugal gegen hohe ...</td>\n",
       "      <td>https://www.spiegel.de/ausland/portugal-in-der...</td>\n",
       "      <td>In Lissabon und anderen Städten Portugals habe...</td>\n",
       "      <td>2023-04-02 12:18:26</td>\n",
       "      <td>https://cdn.prod.www.spiegel.de/images/50fb7a6...</td>\n",
       "    </tr>\n",
       "    <tr>\n",
       "      <th>1</th>\n",
       "      <td>1</td>\n",
       "      <td>Britischer Geheimdienst sieht Alkohol als Mitu...</td>\n",
       "      <td>https://www.spiegel.de/ausland/ukraine-grossbr...</td>\n",
       "      <td>Die britische Regierung hält den Konsum von Al...</td>\n",
       "      <td>2023-04-02 11:56:27</td>\n",
       "      <td>https://cdn.prod.www.spiegel.de/images/b31acd6...</td>\n",
       "    </tr>\n",
       "    <tr>\n",
       "      <th>2</th>\n",
       "      <td>2</td>\n",
       "      <td>Wie Wladimir Putin sich das Kriegsende vorstellt</td>\n",
       "      <td>https://www.spiegel.de/ausland/ukraine-krieg-w...</td>\n",
       "      <td>Anmelden Sagen, was ist. Testen Sie das digita...</td>\n",
       "      <td>2023-04-02 11:40:32</td>\n",
       "      <td>data:image/svg+xml,%3Csvg xmlns='http://www.w3...</td>\n",
       "    </tr>\n",
       "    <tr>\n",
       "      <th>3</th>\n",
       "      <td>3</td>\n",
       "      <td>Es wird eng für Sanna Marin</td>\n",
       "      <td>https://www.spiegel.de/ausland/finnland-wahl-e...</td>\n",
       "      <td>Helsinki, Finnland Sanna Marin muss um ihr Amt...</td>\n",
       "      <td>2023-04-02 10:27:51</td>\n",
       "      <td>data:image/svg+xml,%3Csvg xmlns='http://www.w3...</td>\n",
       "    </tr>\n",
       "    <tr>\n",
       "      <th>4</th>\n",
       "      <td>4</td>\n",
       "      <td>Taliban halten Briten fest</td>\n",
       "      <td>https://www.spiegel.de/ausland/afghanistan-tal...</td>\n",
       "      <td>In Afghanistan werden einer Hilfsorganisation ...</td>\n",
       "      <td>2023-04-02 09:09:42</td>\n",
       "      <td>https://cdn.prod.www.spiegel.de/images/98ee424...</td>\n",
       "    </tr>\n",
       "  </tbody>\n",
       "</table>\n",
       "</div>"
      ],
      "text/plain": [
       "   Unnamed: 0                                              title   \n",
       "0           0  Tausende demonstrieren in Portugal gegen hohe ...  \\\n",
       "1           1  Britischer Geheimdienst sieht Alkohol als Mitu...   \n",
       "2           2   Wie Wladimir Putin sich das Kriegsende vorstellt   \n",
       "3           3                        Es wird eng für Sanna Marin   \n",
       "4           4                         Taliban halten Briten fest   \n",
       "\n",
       "                                                link   \n",
       "0  https://www.spiegel.de/ausland/portugal-in-der...  \\\n",
       "1  https://www.spiegel.de/ausland/ukraine-grossbr...   \n",
       "2  https://www.spiegel.de/ausland/ukraine-krieg-w...   \n",
       "3  https://www.spiegel.de/ausland/finnland-wahl-e...   \n",
       "4  https://www.spiegel.de/ausland/afghanistan-tal...   \n",
       "\n",
       "                                             content              pubDate   \n",
       "0  In Lissabon und anderen Städten Portugals habe...  2023-04-02 12:18:26  \\\n",
       "1  Die britische Regierung hält den Konsum von Al...  2023-04-02 11:56:27   \n",
       "2  Anmelden Sagen, was ist. Testen Sie das digita...  2023-04-02 11:40:32   \n",
       "3  Helsinki, Finnland Sanna Marin muss um ihr Amt...  2023-04-02 10:27:51   \n",
       "4  In Afghanistan werden einer Hilfsorganisation ...  2023-04-02 09:09:42   \n",
       "\n",
       "                                           image_url  \n",
       "0  https://cdn.prod.www.spiegel.de/images/50fb7a6...  \n",
       "1  https://cdn.prod.www.spiegel.de/images/b31acd6...  \n",
       "2  data:image/svg+xml,%3Csvg xmlns='http://www.w3...  \n",
       "3  data:image/svg+xml,%3Csvg xmlns='http://www.w3...  \n",
       "4  https://cdn.prod.www.spiegel.de/images/98ee424...  "
      ]
     },
     "execution_count": 78,
     "metadata": {},
     "output_type": "execute_result"
    }
   ],
   "source": [
    "df_worldNews=pd.read_csv('world_news.csv')\n",
    "df_worldNews.head()"
   ]
  },
  {
   "cell_type": "code",
   "execution_count": 79,
   "id": "58d71b22",
   "metadata": {},
   "outputs": [],
   "source": [
    "df_business=df_business.dropna(subset=['content'])\n"
   ]
  },
  {
   "cell_type": "code",
   "execution_count": 80,
   "id": "b3cbb37d",
   "metadata": {},
   "outputs": [],
   "source": [
    "df_entertainment=df_entertainment.dropna(subset=['content'])"
   ]
  },
  {
   "cell_type": "code",
   "execution_count": 81,
   "id": "ef216ba2",
   "metadata": {},
   "outputs": [],
   "source": [
    "#len(df_entertainment)"
   ]
  },
  {
   "cell_type": "code",
   "execution_count": 82,
   "id": "d5d87adf",
   "metadata": {},
   "outputs": [],
   "source": [
    "df_politics=df_politics.dropna(subset=['content'])"
   ]
  },
  {
   "cell_type": "code",
   "execution_count": 83,
   "id": "2dd2f6d6",
   "metadata": {},
   "outputs": [],
   "source": [
    "df_sports=df_sports.dropna(subset=['content'])"
   ]
  },
  {
   "cell_type": "code",
   "execution_count": 84,
   "id": "065657b5",
   "metadata": {},
   "outputs": [],
   "source": [
    "df_tech=df_tech.dropna(subset=['content'])"
   ]
  },
  {
   "cell_type": "code",
   "execution_count": 85,
   "id": "6bb4c203",
   "metadata": {},
   "outputs": [],
   "source": [
    "df_worldNews=df_worldNews.dropna(subset=['content'])"
   ]
  },
  {
   "cell_type": "markdown",
   "id": "3b12a294",
   "metadata": {},
   "source": [
    "# Machine Translation"
   ]
  },
  {
   "cell_type": "code",
   "execution_count": 51,
   "id": "ce6a3ac5",
   "metadata": {},
   "outputs": [],
   "source": [
    "#!pip install translate"
   ]
  },
  {
   "cell_type": "code",
   "execution_count": 17,
   "id": "9e8983ed",
   "metadata": {},
   "outputs": [
    {
     "name": "stdout",
     "output_type": "stream",
     "text": [
      "QUERY LENGTH LIMIT EXCEEDED. MAX ALLOWED QUERY : 500 CHARS QUERY LENGTH LIMIT EXCEEDED. MAX ALLOWED QUERY : 500 CHARS\n"
     ]
    }
   ],
   "source": [
    "# german to english\n",
    "#import translate\n",
    "from translate import Translator\n",
    "news_article = df_business['content'][2]\n",
    "translator= Translator(to_lang=\"english\")\n",
    "translation = translator.translate(news_article)\n",
    "print(translation)"
   ]
  },
  {
   "cell_type": "code",
   "execution_count": 50,
   "id": "aba3bc8a",
   "metadata": {},
   "outputs": [],
   "source": [
    "#!pip install googletrans\n",
    "#!pip install git+https://github.com/BoseCorp/py-googletrans.git --upgrade"
   ]
  },
  {
   "cell_type": "code",
   "execution_count": 18,
   "id": "c060d4d3",
   "metadata": {},
   "outputs": [],
   "source": [
    "from googletrans import Translator\n",
    "news_article = df_business['content'][2]\n",
    "translator = Translator()\n",
    "#translator.translate(news_article , dest ='de').text"
   ]
  },
  {
   "cell_type": "code",
   "execution_count": 38,
   "id": "a8713d2e",
   "metadata": {},
   "outputs": [
    {
     "name": "stdout",
     "output_type": "stream",
     "text": [
      "Requirement already satisfied: textblob in c:\\users\\manth\\anaconda3\\lib\\site-packages (0.17.1)\n",
      "Requirement already satisfied: nltk>=3.1 in c:\\users\\manth\\anaconda3\\lib\\site-packages (from textblob) (3.7)\n",
      "Requirement already satisfied: regex>=2021.8.3 in c:\\users\\manth\\anaconda3\\lib\\site-packages (from nltk>=3.1->textblob) (2022.7.9)\n",
      "Requirement already satisfied: click in c:\\users\\manth\\anaconda3\\lib\\site-packages (from nltk>=3.1->textblob) (8.0.4)\n",
      "Requirement already satisfied: tqdm in c:\\users\\manth\\anaconda3\\lib\\site-packages (from nltk>=3.1->textblob) (4.64.1)\n",
      "Requirement already satisfied: joblib in c:\\users\\manth\\anaconda3\\lib\\site-packages (from nltk>=3.1->textblob) (1.1.0)\n",
      "Requirement already satisfied: colorama in c:\\users\\manth\\anaconda3\\lib\\site-packages (from click->nltk>=3.1->textblob) (0.4.5)\n"
     ]
    }
   ],
   "source": [
    "#!pip install -U textblob      ##########--also uses google translate api"
   ]
  },
  {
   "cell_type": "code",
   "execution_count": 19,
   "id": "fb731893",
   "metadata": {},
   "outputs": [
    {
     "name": "stdout",
     "output_type": "stream",
     "text": [
      "original text word count 197\n",
      "Berlin - Die Deutsche Umwelthilfe (DUH) pocht nach weiteren, bei Testkäufen festgestellten Verstößen gegen die Mehrwegangebotspflicht im Gastgewerbe auf Nachbesserungen am Gesetz. „Wir dringen darauf, dass das noch in dieser Legislaturperiode geschieht“, sagt die DUH-Bundesgeschäftsführerin Barbara Metz in Berlin. Zudem müssten die Bundesländer ihren Vollzugsaufgaben nachkommen, Verstöße sanktionieren und dafür sorgen, dass das Gesetz ernst genommen werde. Bereits im Januar hatte die DUH stichprobenartige Testbesuche in 35 Filialen großer Ketten in Berlin, München und Köln durchgeführt und dabei Verstöße festgestellt. In der vergangenen Woche folgten weitere Stichproben und Nachtests. Zwei Unternehmen hatten nach Angaben des Vereins Unterlassungserklärungen unterzeichnet, gegen fünf würden Unterlassungsklagen vor den jeweiligen Landgerichten erhoben. Bei einer repräsentativen Forsa-Umfrage im Auftrag des Vereins hätten zudem 86 Prozent der Befragten angegeben, normalerweise Einwegboxen für Essen zum Mitnehmen zu nutzen. Auf die Frage, warum Mehrweg nicht genutzt werde, erklärten 72 Prozent, es fehle ein entsprechendes Angebot, und 27 Prozent erklärten, sie wollten die Boxen nicht herumtragen oder lagern. 55 Prozent gaben an, ihnen sei ein niedriger Preis oder ein geringer Pfandbetrag wichtig. Die Umfrage belege, dass sich Verbraucherinnen und Verbraucher unternehmensübergreifende Mehrweglösungen, möglichst viele Rückgabestellen und Preisvorteile für Mehrweg wünschten, sagte Thomas Fischer, DUH-Leiter für Kreislaufwirtschaft. dpa\n",
      "Berlin - Deutsche Environmental Aid (DUH) insists after further violations found for test purchases of the reusable obligation in the hospitality industry on improvements to the law. \"We penetrate that this is still happening during this legislative period,\" says Duh federal manager Barbara Metz in Berlin. In addition, the federal states would have to fulfill their enforcement tasks, sanction violations and ensure that the law is taken seriously. Already in January the DUH had carried out sophisticated test visits in 35 branches of large chains in Berlin, Munich and Cologne and found violations. Further samples and night tests followed last week. According to the association, two companies had signed ceased declarations that omission lawsuits would be charged against the respective regional courts. In the case of a representative Forsa survey on behalf of the association, 86 percent of those surveyed would also have specified to use disposable boxes for food to take away. When asked why reuses were not used, 72 percent said that there was no corresponding offer, and 27 percent said they did not want to carry or store the boxes. 55 percent said that they were important to a low price or a low deposit amount. The survey shows that consumers wished for multi-route solutions, as many returns and price advantages for reusable, said Thomas Fischer, Duh manager for circular economy. dpa\n",
      "translated word count 225\n"
     ]
    }
   ],
   "source": [
    "from textblob import TextBlob\n",
    "blob = TextBlob(df_business['content'][2])\n",
    "print(\"original text word count {}\".format(len(blob.split())))\n",
    "print(blob)##### 196 german words\n",
    "#blob.detect_language()  ### DOES NOT WORK\n",
    "#blob.translate(to='en')###does not work\n",
    "translated_text= blob.translate(from_lang='de', to='en')\n",
    "print(translated_text)\n",
    "print(\"translated word count {}\".format(len(translated_text.split())))"
   ]
  },
  {
   "cell_type": "code",
   "execution_count": 89,
   "id": "8cc442ae",
   "metadata": {},
   "outputs": [],
   "source": [
    "#!nvidia-smi"
   ]
  },
  {
   "cell_type": "code",
   "execution_count": 58,
   "id": "75d81f7b",
   "metadata": {},
   "outputs": [],
   "source": [
    "#!pip install -U easynmt   ####easyNNMT , OpenNMT uses CTtranslate2"
   ]
  },
  {
   "cell_type": "code",
   "execution_count": 20,
   "id": "546954dd",
   "metadata": {},
   "outputs": [],
   "source": [
    "from easynmt import EasyNMT"
   ]
  },
  {
   "cell_type": "code",
   "execution_count": 21,
   "id": "8794b7ba",
   "metadata": {},
   "outputs": [],
   "source": [
    "model = EasyNMT('opus-mt')"
   ]
  },
  {
   "cell_type": "code",
   "execution_count": 22,
   "id": "70d9417f",
   "metadata": {},
   "outputs": [
    {
     "name": "stderr",
     "output_type": "stream",
     "text": [
      "C:\\Users\\manth\\anaconda3\\lib\\site-packages\\transformers\\models\\marian\\tokenization_marian.py:194: UserWarning: Recommended: pip install sacremoses.\n",
      "  warnings.warn(\"Recommended: pip install sacremoses.\")\n",
      "C:\\Users\\manth\\anaconda3\\lib\\site-packages\\transformers\\generation\\utils.py:1288: UserWarning: Using `max_length`'s default (512) to control the generation length. This behaviour is deprecated and will be removed from the config in v5 of Transformers -- we recommend using `max_new_tokens` to control the maximum length of the generation.\n",
      "  warnings.warn(\n"
     ]
    },
    {
     "name": "stdout",
     "output_type": "stream",
     "text": [
      "Berlin - Deutsche Umwelthilfe (DUH) is looking for further violations of the reusable offer obligation in the hospitality industry, which have been found in test purchases, for improvements to the law. \"We insist that this is still happening in this legislative period,\" says Barbara Metz, Managing Director of the DUH in Berlin. In addition, the federal states had to fulfil their enforcement tasks, sanction violations and ensure that the law was taken seriously. In January, the DUH had already carried out random test visits in 35 branches of large chains in Berlin, Munich and Cologne and identified violations. In the past week, further samples and follow-up tests followed. According to the association, two companies had signed injunction declarations that five injunctions would be brought before the respective regional courts. In the case of a representative Forsa survey on behalf of the association, 86 percent of the respondents also indicated that they would normally use one-way boxes for food to take away. When asked why reusable use is not possible, 72 percent said there was a lack of an offer, and 27 percent said they did not want to carry the boxes around or store them. 55 percent said they had a low price or a small deposit. The survey shows that consumers wanted cross-company reusable solutions, as many return points as possible and price advantages for reusables, said Thomas Fischer, DUH Head of Circular Economy. dpa\n",
      "Translated word count 236\n"
     ]
    }
   ],
   "source": [
    "news_article = df_business['content'][2]\n",
    "text= model.translate(news_article, target_lang='en')\n",
    "print(text)\n",
    "print(\"Translated word count {}\".format(len(text.split())))"
   ]
  },
  {
   "cell_type": "code",
   "execution_count": 31,
   "id": "f2520e7f",
   "metadata": {},
   "outputs": [
    {
     "data": {
      "text/plain": [
       "'de'"
      ]
     },
     "execution_count": 31,
     "metadata": {},
     "output_type": "execute_result"
    }
   ],
   "source": [
    "model.language_detection(news_article) ## uses fastText"
   ]
  },
  {
   "cell_type": "code",
   "execution_count": 36,
   "id": "2a47980b",
   "metadata": {},
   "outputs": [
    {
     "name": "stdout",
     "output_type": "stream",
     "text": [
      "Berlin - Deutsche Umwelthilfe (DUH) is looking for further infringements of the reusable offer obligation in the hospitality industry, which have been found in test purchases, to be remedied by the law. \"We insist that this is still happening in this legislative period,\" says Barbara Metz, Managing Director of the DUH in Berlin. In addition, the federal states had to fulfil their enforcement tasks, sanction violations and ensure that the law was taken seriously. In January, the DUH had already carried out random test visits in 35 branches of large chains in Berlin, Munich and Cologne, and found violations. In the past week, further samples and follow-up tests followed. According to the association, two companies had signed injunction declarations that five injunctions would be brought before the respective regional courts. In the case of a representative Forsa survey on behalf of the association, 86 percent of the respondents would also have indicated that they would normally use one-way boxes for food to take away. When asked why reusable use is not possible, 72 percent said there was a lack of an offer, and 27 percent said they did not want to carry or store the boxes around. 55 percent said that they had a low price or a low deposit. The survey shows that consumers wanted cross-company reusable solutions, as many return points as possible and price advantages for reusables, said Thomas Fischer, DUH leader for circular economy. dpa\n",
      "Translated in 21.93 sec\n",
      "Translated word count 239\n"
     ]
    }
   ],
   "source": [
    "start_time = time.time()\n",
    "news_article = df_business['content'][2]\n",
    "text= model.translate(news_article, target_lang='en', beam_size=2) # higher beam size better text quality ; default is 5.\n",
    "print(text)\n",
    "print(\"Translated in {:.2f} sec\".format(time.time()-start_time))\n",
    "print(\"Translated word count {}\".format(len(text.split())))"
   ]
  },
  {
   "cell_type": "markdown",
   "id": "6f5de34b",
   "metadata": {},
   "source": [
    "# Observations\n",
    "1. even if beam size is set to 1 using easyNMT model. the quality of text still remains overall good. use model is also the suggested model from EasyNMT.\n",
    "2. TextBlob cannot be used as some translated text have lost meaning, which can be a problem for summarisation or sentiment analysis.\n",
    "3. Also testing this 'Helsinki-NLP/opus-mt-de-en' model from Huggingface (https://huggingface.co/Helsinki-NLP/opus-mt-de-en) resulted in some text like under quotations were skipped entirely."
   ]
  },
  {
   "cell_type": "markdown",
   "id": "77f53bcf",
   "metadata": {},
   "source": [
    "# Text Summarisation\n",
    "\n",
    "Two types: Extractive and Abstractive\n",
    "\n",
    "Extractive summarization involves selecting the most important sentences or phrases from the original text to create a summary. It can be faster and more straightforward than abstractive summarization, but it may not capture the nuances or broader context of the original text.\n",
    "\n",
    "Abstractive summarization involves generating new sentences to capture the meaning of the original text. It has the potential to create more comprehensive and readable summaries, but it can also be more challenging to implement and may require more training data.\n",
    "\n",
    "For a news app that requires a brief summary of the news article, extractive summarization may be more suitable as it provides a concise summary that covers the main points of the article. "
   ]
  },
  {
   "cell_type": "code",
   "execution_count": 23,
   "id": "b648b60c",
   "metadata": {},
   "outputs": [],
   "source": [
    "df_business['content']=df_business['content'].apply(lambda row: model.translate(row, target_lang='en', beam_size=1))"
   ]
  },
  {
   "cell_type": "code",
   "execution_count": 24,
   "id": "30582f9e",
   "metadata": {},
   "outputs": [
    {
     "data": {
      "text/html": [
       "<div>\n",
       "<style scoped>\n",
       "    .dataframe tbody tr th:only-of-type {\n",
       "        vertical-align: middle;\n",
       "    }\n",
       "\n",
       "    .dataframe tbody tr th {\n",
       "        vertical-align: top;\n",
       "    }\n",
       "\n",
       "    .dataframe thead th {\n",
       "        text-align: right;\n",
       "    }\n",
       "</style>\n",
       "<table border=\"1\" class=\"dataframe\">\n",
       "  <thead>\n",
       "    <tr style=\"text-align: right;\">\n",
       "      <th></th>\n",
       "      <th>title</th>\n",
       "      <th>link</th>\n",
       "      <th>content</th>\n",
       "      <th>pubDate</th>\n",
       "      <th>image_url</th>\n",
       "      <th>source_id</th>\n",
       "      <th>category</th>\n",
       "    </tr>\n",
       "  </thead>\n",
       "  <tbody>\n",
       "    <tr>\n",
       "      <th>0</th>\n",
       "      <td>Inflation fällt im März auf 7,4 Prozent: Warum...</td>\n",
       "      <td>https://www.businessinsider.de/wirtschaft/verb...</td>\n",
       "      <td>Inflation is falling significantly. picture al...</td>\n",
       "      <td>2023-03-30 12:01:57</td>\n",
       "      <td>https://cdn.businessinsider.de/wp-content/uplo...</td>\n",
       "      <td>businessinsider_de</td>\n",
       "      <td>['business']</td>\n",
       "    </tr>\n",
       "    <tr>\n",
       "      <th>1</th>\n",
       "      <td>Kampf dem Kasino-Kapitalismus</td>\n",
       "      <td>https://www.hna.de/wirtschaft/kasino-kapitalis...</td>\n",
       "      <td>The downfall of Silicon Valley Bank and Credit...</td>\n",
       "      <td>2023-03-30 10:51:44</td>\n",
       "      <td>https://www.hna.de/bilder/2023/03/28/92180198/...</td>\n",
       "      <td>hna</td>\n",
       "      <td>['business']</td>\n",
       "    </tr>\n",
       "    <tr>\n",
       "      <th>2</th>\n",
       "      <td>Nachbesserung bei Mehrwegangebotspflicht nötig</td>\n",
       "      <td>https://www.hna.de/wirtschaft/nachbesserung-be...</td>\n",
       "      <td>Berlin - Deutsche Umwelthilfe (DUH) is seeking...</td>\n",
       "      <td>2023-03-30 10:49:34</td>\n",
       "      <td>https://www.hna.de/bilder/2023/03/30/92181278/...</td>\n",
       "      <td>hna</td>\n",
       "      <td>['business']</td>\n",
       "    </tr>\n",
       "    <tr>\n",
       "      <th>3</th>\n",
       "      <td>Muss ich jetzt noch meine Heizung tauschen? Ha...</td>\n",
       "      <td>https://www.hna.de/wirtschaft/tauschen-habecks...</td>\n",
       "      <td>The traffic lights have agreed on new regulati...</td>\n",
       "      <td>2023-03-30 10:43:34</td>\n",
       "      <td>https://www.hna.de/bilder/2023/03/29/92178487/...</td>\n",
       "      <td>hna</td>\n",
       "      <td>['business']</td>\n",
       "    </tr>\n",
       "    <tr>\n",
       "      <th>4</th>\n",
       "      <td>Austrian Airlines: Tarifeinigung nach Streikdr...</td>\n",
       "      <td>https://www.hna.de/wirtschaft/austrian-airline...</td>\n",
       "      <td>Vienna - On-board personnel and management of ...</td>\n",
       "      <td>2023-03-30 10:24:56</td>\n",
       "      <td>https://www.hna.de/bilder/2023/03/30/92181205/...</td>\n",
       "      <td>hna</td>\n",
       "      <td>['business']</td>\n",
       "    </tr>\n",
       "    <tr>\n",
       "      <th>5</th>\n",
       "      <td>Kleine Zeitplanungstipps für Führungskräfte</td>\n",
       "      <td>https://www.hna.de/wirtschaft/kleine-zeitplanu...</td>\n",
       "      <td>Berlin - Coordinating, giving feedback to team...</td>\n",
       "      <td>2023-03-30 10:24:18</td>\n",
       "      <td>https://www.hna.de/bilder/2023/03/30/92181202/...</td>\n",
       "      <td>hna</td>\n",
       "      <td>['business']</td>\n",
       "    </tr>\n",
       "    <tr>\n",
       "      <th>6</th>\n",
       "      <td>3000 Euro Rente: Wie geht das?</td>\n",
       "      <td>https://www.hna.de/wirtschaft/rente-rentenvers...</td>\n",
       "      <td>Can you get a pension of 3,000 euros or more i...</td>\n",
       "      <td>2023-03-30 10:14:37</td>\n",
       "      <td>https://www.hna.de/bilder/2023/03/29/92178663/...</td>\n",
       "      <td>hna</td>\n",
       "      <td>['business']</td>\n",
       "    </tr>\n",
       "    <tr>\n",
       "      <th>7</th>\n",
       "      <td>Verdi erklärt Tarifverhandlungen für gescheite...</td>\n",
       "      <td>https://www.hna.de/wirtschaft/verdi-tarifverha...</td>\n",
       "      <td>In the collective dispute between trade unions...</td>\n",
       "      <td>2023-03-30 10:12:45</td>\n",
       "      <td>https://www.hna.de/bilder/2023/03/30/92180695/...</td>\n",
       "      <td>hna</td>\n",
       "      <td>['business']</td>\n",
       "    </tr>\n",
       "    <tr>\n",
       "      <th>8</th>\n",
       "      <td>Bertelsmann erhält erste Angebote für Gruner+J...</td>\n",
       "      <td>https://www.hna.de/wirtschaft/bertelsmann-erha...</td>\n",
       "      <td>Hamburg/Gütersloh - The parent company Bertels...</td>\n",
       "      <td>2023-03-30 10:11:12</td>\n",
       "      <td>https://www.hna.de/bilder/2023/03/30/92181166/...</td>\n",
       "      <td>hna</td>\n",
       "      <td>['business']</td>\n",
       "    </tr>\n",
       "    <tr>\n",
       "      <th>9</th>\n",
       "      <td>Geschäftsbericht 2022: Bahnchef erhielt 2,24 M...</td>\n",
       "      <td>https://www.hna.de/wirtschaft/geschaeftsberich...</td>\n",
       "      <td>Berlin - Railway Chief Richard Lutz received m...</td>\n",
       "      <td>2023-03-30 09:35:39</td>\n",
       "      <td>https://www.hna.de/bilder/2023/03/30/92181056/...</td>\n",
       "      <td>hna</td>\n",
       "      <td>['business']</td>\n",
       "    </tr>\n",
       "  </tbody>\n",
       "</table>\n",
       "</div>"
      ],
      "text/plain": [
       "                                               title  \\\n",
       "0  Inflation fällt im März auf 7,4 Prozent: Warum...   \n",
       "1                      Kampf dem Kasino-Kapitalismus   \n",
       "2     Nachbesserung bei Mehrwegangebotspflicht nötig   \n",
       "3  Muss ich jetzt noch meine Heizung tauschen? Ha...   \n",
       "4  Austrian Airlines: Tarifeinigung nach Streikdr...   \n",
       "5        Kleine Zeitplanungstipps für Führungskräfte   \n",
       "6                     3000 Euro Rente: Wie geht das?   \n",
       "7  Verdi erklärt Tarifverhandlungen für gescheite...   \n",
       "8  Bertelsmann erhält erste Angebote für Gruner+J...   \n",
       "9  Geschäftsbericht 2022: Bahnchef erhielt 2,24 M...   \n",
       "\n",
       "                                                link  \\\n",
       "0  https://www.businessinsider.de/wirtschaft/verb...   \n",
       "1  https://www.hna.de/wirtschaft/kasino-kapitalis...   \n",
       "2  https://www.hna.de/wirtschaft/nachbesserung-be...   \n",
       "3  https://www.hna.de/wirtschaft/tauschen-habecks...   \n",
       "4  https://www.hna.de/wirtschaft/austrian-airline...   \n",
       "5  https://www.hna.de/wirtschaft/kleine-zeitplanu...   \n",
       "6  https://www.hna.de/wirtschaft/rente-rentenvers...   \n",
       "7  https://www.hna.de/wirtschaft/verdi-tarifverha...   \n",
       "8  https://www.hna.de/wirtschaft/bertelsmann-erha...   \n",
       "9  https://www.hna.de/wirtschaft/geschaeftsberich...   \n",
       "\n",
       "                                             content              pubDate  \\\n",
       "0  Inflation is falling significantly. picture al...  2023-03-30 12:01:57   \n",
       "1  The downfall of Silicon Valley Bank and Credit...  2023-03-30 10:51:44   \n",
       "2  Berlin - Deutsche Umwelthilfe (DUH) is seeking...  2023-03-30 10:49:34   \n",
       "3  The traffic lights have agreed on new regulati...  2023-03-30 10:43:34   \n",
       "4  Vienna - On-board personnel and management of ...  2023-03-30 10:24:56   \n",
       "5  Berlin - Coordinating, giving feedback to team...  2023-03-30 10:24:18   \n",
       "6  Can you get a pension of 3,000 euros or more i...  2023-03-30 10:14:37   \n",
       "7  In the collective dispute between trade unions...  2023-03-30 10:12:45   \n",
       "8  Hamburg/Gütersloh - The parent company Bertels...  2023-03-30 10:11:12   \n",
       "9  Berlin - Railway Chief Richard Lutz received m...  2023-03-30 09:35:39   \n",
       "\n",
       "                                           image_url           source_id  \\\n",
       "0  https://cdn.businessinsider.de/wp-content/uplo...  businessinsider_de   \n",
       "1  https://www.hna.de/bilder/2023/03/28/92180198/...                 hna   \n",
       "2  https://www.hna.de/bilder/2023/03/30/92181278/...                 hna   \n",
       "3  https://www.hna.de/bilder/2023/03/29/92178487/...                 hna   \n",
       "4  https://www.hna.de/bilder/2023/03/30/92181205/...                 hna   \n",
       "5  https://www.hna.de/bilder/2023/03/30/92181202/...                 hna   \n",
       "6  https://www.hna.de/bilder/2023/03/29/92178663/...                 hna   \n",
       "7  https://www.hna.de/bilder/2023/03/30/92180695/...                 hna   \n",
       "8  https://www.hna.de/bilder/2023/03/30/92181166/...                 hna   \n",
       "9  https://www.hna.de/bilder/2023/03/30/92181056/...                 hna   \n",
       "\n",
       "       category  \n",
       "0  ['business']  \n",
       "1  ['business']  \n",
       "2  ['business']  \n",
       "3  ['business']  \n",
       "4  ['business']  \n",
       "5  ['business']  \n",
       "6  ['business']  \n",
       "7  ['business']  \n",
       "8  ['business']  \n",
       "9  ['business']  "
      ]
     },
     "execution_count": 24,
     "metadata": {},
     "output_type": "execute_result"
    }
   ],
   "source": [
    "df_business.head(10)"
   ]
  },
  {
   "cell_type": "code",
   "execution_count": 25,
   "id": "2c3065fb",
   "metadata": {
    "scrolled": true
   },
   "outputs": [
    {
     "data": {
      "text/plain": [
       "'Berlin - Deutsche Umwelthilfe (DUH) is seeking further infringements of the reusable offer obligation in the hospitality industry, which have been found in test purchases, to be remedied by the law. \"We insist that this is still happening in this legislative period,\" says Barbara Metz, Managing Director of the DUH in Berlin. In addition, the federal states had to fulfil their enforcement tasks, sanction violations and ensure that the law was taken seriously. In January, the DUH had already conducted random test visits in 35 branches of large chains in Berlin, Munich and Cologne, and found violations. In the past week, further samples and follow-up tests followed. According to the association, two companies had signed injunctions, five of which were brought injunctions before the respective regional courts. In a representative Forsa survey on behalf of the association, 86 percent of the respondents would have indicated that they would normally use disposable boxes for food to take away. When asked why reusable use is not possible, 72 percent said that there was a lack of an offer, and 27 percent said they did not want to carry or store the boxes. 55 percent said they were important for a low price or a small deposit. The survey shows that consumers wanted cross-company reusable solutions, as many return points as possible and price advantages for reusables, said Thomas Fischer, DUH leader for circular economy. dpa'"
      ]
     },
     "execution_count": 25,
     "metadata": {},
     "output_type": "execute_result"
    }
   ],
   "source": [
    "df_business['content'][2]"
   ]
  },
  {
   "cell_type": "code",
   "execution_count": 40,
   "id": "08e274bd",
   "metadata": {},
   "outputs": [
    {
     "name": "stderr",
     "output_type": "stream",
     "text": [
      "C:\\Users\\manth\\anaconda3\\lib\\site-packages\\transformers\\generation\\utils.py:1288: UserWarning: Using `max_length`'s default (512) to control the generation length. This behaviour is deprecated and will be removed from the config in v5 of Transformers -- we recommend using `max_new_tokens` to control the maximum length of the generation.\n",
      "  warnings.warn(\n"
     ]
    }
   ],
   "source": [
    "df_entertainment['content']=df_entertainment['content'].apply(lambda row: model.translate(row, target_lang='en', beam_size=1))"
   ]
  },
  {
   "cell_type": "code",
   "execution_count": 41,
   "id": "2791145c",
   "metadata": {},
   "outputs": [],
   "source": [
    "df_politics['content']=df_politics['content'].apply(lambda row: model.translate(row, target_lang='en', beam_size=1))"
   ]
  },
  {
   "cell_type": "code",
   "execution_count": 42,
   "id": "c5bdd008",
   "metadata": {},
   "outputs": [],
   "source": [
    "df_sports['content']=df_sports['content'].apply(lambda row: model.translate(row, target_lang='en', beam_size=1))"
   ]
  },
  {
   "cell_type": "code",
   "execution_count": 43,
   "id": "4aae6787",
   "metadata": {},
   "outputs": [],
   "source": [
    "df_tech['content']=df_tech['content'].apply(lambda row: model.translate(row, target_lang='en', beam_size=1))"
   ]
  },
  {
   "cell_type": "code",
   "execution_count": 44,
   "id": "d817a269",
   "metadata": {},
   "outputs": [],
   "source": [
    "df_worldNews['content']=df_worldNews['content'].apply(lambda row: model.translate(row, target_lang='en', beam_size=1))"
   ]
  },
  {
   "cell_type": "code",
   "execution_count": 67,
   "id": "b303ebc2",
   "metadata": {},
   "outputs": [],
   "source": [
    "df_business.to_csv('business_trans.csv')\n",
    "df_entertainment.to_csv('entertainment_trans.csv')\n",
    "df_politics.to_csv('politics_trans.csv')\n",
    "df_sports.to_csv('sports_trans.csv')\n",
    "df_tech.to_csv('tech_trans.csv')\n",
    "df_worldNews.to_csv('world_news_trans.csv')"
   ]
  },
  {
   "cell_type": "code",
   "execution_count": 2,
   "id": "825d6c90",
   "metadata": {},
   "outputs": [
    {
     "name": "stdout",
     "output_type": "stream",
     "text": [
      "Requirement already satisfied: gensim==3.8.3 in c:\\users\\manth\\anaconda3\\lib\\site-packages (3.8.3)\n",
      "Requirement already satisfied: six>=1.5.0 in c:\\users\\manth\\anaconda3\\lib\\site-packages (from gensim==3.8.3) (1.16.0)\n",
      "Requirement already satisfied: smart-open>=1.8.1 in c:\\users\\manth\\anaconda3\\lib\\site-packages (from gensim==3.8.3) (5.2.1)\n",
      "Requirement already satisfied: numpy>=1.11.3 in c:\\users\\manth\\anaconda3\\lib\\site-packages (from gensim==3.8.3) (1.21.5)\n",
      "Requirement already satisfied: scipy>=0.18.1 in c:\\users\\manth\\anaconda3\\lib\\site-packages (from gensim==3.8.3) (1.9.1)\n"
     ]
    }
   ],
   "source": [
    "!pip install gensim==3.8.3"
   ]
  },
  {
   "cell_type": "code",
   "execution_count": 43,
   "id": "2a0f07dd",
   "metadata": {},
   "outputs": [
    {
     "name": "stderr",
     "output_type": "stream",
     "text": [
      "C:\\Users\\manth\\anaconda3\\lib\\site-packages\\gensim\\matutils.py:24: DeprecationWarning: Please use `triu` from the `scipy.linalg` namespace, the `scipy.linalg.special_matrices` namespace is deprecated.\n",
      "  from scipy.linalg.special_matrices import triu\n"
     ]
    }
   ],
   "source": [
    "# Extractive summarisation \n",
    "# Importing package and summarizer\n",
    "import gensim\n",
    "from gensim.summarization import summarize   ########## uses textRank algorithm also can be perfromed using Spacy"
   ]
  },
  {
   "cell_type": "code",
   "execution_count": 27,
   "id": "6b329521",
   "metadata": {},
   "outputs": [
    {
     "name": "stdout",
     "output_type": "stream",
     "text": [
      "Berlin - Deutsche Umwelthilfe (DUH) is seeking further infringements of the reusable offer obligation in the hospitality industry, which have been found in test purchases, to be remedied by the law.\n",
      "The survey shows that consumers wanted cross-company reusable solutions, as many return points as possible and price advantages for reusables, said Thomas Fischer, DUH leader for circular economy.\n"
     ]
    }
   ],
   "source": [
    "# Passing the text corpus to summarizer \n",
    "short_summary = summarize(df_business['content'][2])\n",
    "print(short_summary)"
   ]
  },
  {
   "cell_type": "code",
   "execution_count": 29,
   "id": "904ad022",
   "metadata": {},
   "outputs": [
    {
     "name": "stdout",
     "output_type": "stream",
     "text": [
      "Berlin - Deutsche Umwelthilfe (DUH) is seeking further infringements of the reusable offer obligation in the hospitality industry, which have been found in test purchases, to be remedied by the law.\n"
     ]
    }
   ],
   "source": [
    "# Summarization by ratio\n",
    "summary_by_ratio=summarize(df_business['content'][2],ratio=0.1)\n",
    "print(summary_by_ratio)"
   ]
  },
  {
   "cell_type": "code",
   "execution_count": 38,
   "id": "75991cf0",
   "metadata": {},
   "outputs": [
    {
     "name": "stdout",
     "output_type": "stream",
     "text": [
      "Berlin - Deutsche Umwelthilfe (DUH) is seeking further infringements of the reusable offer obligation in the hospitality industry, which have been found in test purchases, to be remedied by the law.\n",
      "The survey shows that consumers wanted cross-company reusable solutions, as many return points as possible and price advantages for reusables, said Thomas Fischer, DUH leader for circular economy.\n",
      "59\n"
     ]
    }
   ],
   "source": [
    "# Summarization by word count\n",
    "summary_by_word_count=summarize(df_business['content'][2],word_count=60)\n",
    "print(summary_by_word_count)\n",
    "print(len(summary_by_word_count.split()))"
   ]
  },
  {
   "cell_type": "code",
   "execution_count": 33,
   "id": "69d13f3c",
   "metadata": {
    "scrolled": true
   },
   "outputs": [
    {
     "name": "stdout",
     "output_type": "stream",
     "text": [
      "reusable\n",
      "reusables\n",
      "test\n",
      "tests\n",
      "percent\n",
      "duh\n",
      "economy\n",
      "price\n",
      "injunction\n",
      "injunctions\n",
      "regional\n",
      "said\n",
      "forsa survey\n",
      "violations\n",
      "tasks sanction\n"
     ]
    }
   ],
   "source": [
    "from gensim. summarization import keywords\n",
    "print (keywords (text))"
   ]
  },
  {
   "cell_type": "code",
   "execution_count": 39,
   "id": "589e7336",
   "metadata": {},
   "outputs": [],
   "source": [
    "# Abstractive summarisation\n",
    "# ROUGE"
   ]
  },
  {
   "cell_type": "code",
   "execution_count": 42,
   "id": "f46a51d5",
   "metadata": {},
   "outputs": [],
   "source": [
    "#!pip install transformers"
   ]
  },
  {
   "cell_type": "code",
   "execution_count": 43,
   "id": "ff70bef4",
   "metadata": {},
   "outputs": [
    {
     "data": {
      "application/vnd.jupyter.widget-view+json": {
       "model_id": "49e1028f743d4491a0fefa82ab78c007",
       "version_major": 2,
       "version_minor": 0
      },
      "text/plain": [
       "Downloading (…)olve/main/vocab.json:   0%|          | 0.00/899k [00:00<?, ?B/s]"
      ]
     },
     "metadata": {},
     "output_type": "display_data"
    },
    {
     "name": "stderr",
     "output_type": "stream",
     "text": [
      "C:\\Users\\manth\\anaconda3\\lib\\site-packages\\huggingface_hub\\file_download.py:133: UserWarning: `huggingface_hub` cache-system uses symlinks by default to efficiently store duplicated files but your machine does not support them in C:\\Users\\manth\\.cache\\huggingface\\hub. Caching files will still work but in a degraded version that might require more space on your disk. This warning can be disabled by setting the `HF_HUB_DISABLE_SYMLINKS_WARNING` environment variable. For more details, see https://huggingface.co/docs/huggingface_hub/how-to-cache#limitations.\n",
      "To support symlinks on Windows, you either need to activate Developer Mode or to run Python as an administrator. In order to see activate developer mode, see this article: https://docs.microsoft.com/en-us/windows/apps/get-started/enable-your-device-for-development\n",
      "  warnings.warn(message)\n"
     ]
    },
    {
     "data": {
      "application/vnd.jupyter.widget-view+json": {
       "model_id": "5cecf71f859144f393ced9dcb345d37d",
       "version_major": 2,
       "version_minor": 0
      },
      "text/plain": [
       "Downloading (…)olve/main/merges.txt:   0%|          | 0.00/456k [00:00<?, ?B/s]"
      ]
     },
     "metadata": {},
     "output_type": "display_data"
    },
    {
     "data": {
      "application/vnd.jupyter.widget-view+json": {
       "model_id": "4a42b622a12d438087e0b3b63b91ecd9",
       "version_major": 2,
       "version_minor": 0
      },
      "text/plain": [
       "Downloading (…)lve/main/config.json:   0%|          | 0.00/1.58k [00:00<?, ?B/s]"
      ]
     },
     "metadata": {},
     "output_type": "display_data"
    },
    {
     "data": {
      "application/vnd.jupyter.widget-view+json": {
       "model_id": "e4902e9793d24021a17571400aba6db0",
       "version_major": 2,
       "version_minor": 0
      },
      "text/plain": [
       "Downloading pytorch_model.bin:   0%|          | 0.00/1.63G [00:00<?, ?B/s]"
      ]
     },
     "metadata": {},
     "output_type": "display_data"
    },
    {
     "data": {
      "application/vnd.jupyter.widget-view+json": {
       "model_id": "9b2e6c59151d44af9836b112b5b0e016",
       "version_major": 2,
       "version_minor": 0
      },
      "text/plain": [
       "Downloading (…)neration_config.json:   0%|          | 0.00/363 [00:00<?, ?B/s]"
      ]
     },
     "metadata": {},
     "output_type": "display_data"
    }
   ],
   "source": [
    "from transformers import BartTokenizer, BartForConditionalGeneration\n",
    "\n",
    "tokenizer = BartTokenizer.from_pretrained('facebook/bart-large-cnn')   \n",
    "model = BartForConditionalGeneration.from_pretrained('facebook/bart-large-cnn') # specifically trained on CNN news data\n"
   ]
  },
  {
   "cell_type": "code",
   "execution_count": 44,
   "id": "6a229484",
   "metadata": {},
   "outputs": [],
   "source": [
    "inputs = tokenizer(df_business['content'][2], max_length=1024, truncation=True, return_tensors='pt')\n"
   ]
  },
  {
   "cell_type": "code",
   "execution_count": 55,
   "id": "c436357c",
   "metadata": {},
   "outputs": [],
   "source": [
    "summary_ids = model.generate(inputs['input_ids'], num_beams=4,min_length=60, max_length=60, early_stopping=True)\n",
    "\n",
    "summary = tokenizer.decode(summary_ids[0], skip_special_tokens=True)\n"
   ]
  },
  {
   "cell_type": "code",
   "execution_count": 54,
   "id": "c8e21b9c",
   "metadata": {},
   "outputs": [
    {
     "name": "stdout",
     "output_type": "stream",
     "text": [
      "Deutsche Umwelthilfe (DUH) is seeking further infringements of the reusable offer obligation in the hospitality industry. In January, the DUH had already conducted random test visits in 35 branches of large chains in Berlin, Munich and Cologne, and found violations.\n"
     ]
    }
   ],
   "source": [
    "print(summary)"
   ]
  },
  {
   "cell_type": "code",
   "execution_count": 57,
   "id": "a6a30d94",
   "metadata": {},
   "outputs": [
    {
     "name": "stdout",
     "output_type": "stream",
     "text": [
      "Collecting rouge\n",
      "  Downloading rouge-1.0.1-py3-none-any.whl (13 kB)\n",
      "Requirement already satisfied: six in c:\\users\\manth\\anaconda3\\lib\\site-packages (from rouge) (1.16.0)\n",
      "Installing collected packages: rouge\n",
      "Successfully installed rouge-1.0.1\n"
     ]
    }
   ],
   "source": [
    "!pip install rouge"
   ]
  },
  {
   "cell_type": "code",
   "execution_count": 58,
   "id": "f9b69a93",
   "metadata": {},
   "outputs": [
    {
     "name": "stdout",
     "output_type": "stream",
     "text": [
      "the ROUGE score for extractive summarised text is :{'rouge-1': {'r': 0.34868421052631576, 'p': 1.0, 'f': 0.5170731668977989}, 'rouge-2': {'r': 0.2556053811659193, 'p': 0.9827586206896551, 'f': 0.4056939469018883}, 'rouge-l': {'r': 0.34868421052631576, 'p': 1.0, 'f': 0.5170731668977989}}\n",
      "the ROUGE score for abstractive summarised text is :{'rouge-1': {'r': 0.34868421052631576, 'p': 1.0, 'f': 0.5170731668977989}, 'rouge-2': {'r': 0.2556053811659193, 'p': 0.9827586206896551, 'f': 0.4056939469018883}, 'rouge-l': {'r': 0.34868421052631576, 'p': 1.0, 'f': 0.5170731668977989}}\n"
     ]
    }
   ],
   "source": [
    "from rouge import Rouge\n",
    "rouge = Rouge()\n",
    "\n",
    "# calculate ROUGE score\n",
    "scores_extractive = rouge.get_scores(summary_by_word_count,df_business['content'][2] , avg=True)\n",
    "scores_abstractive = rouge.get_scores(summary, df_business['content'][2], avg=True)\n",
    "print(\"the ROUGE score for extractive summarised text is :{}\".format(scores_extractive))\n",
    "print(\"the ROUGE score for abstractive summarised text is :{}\".format(scores_extractive))"
   ]
  },
  {
   "cell_type": "markdown",
   "id": "9d7b16fe",
   "metadata": {},
   "source": [
    "# Observations\n",
    "1. the orginal texts if have length greater than 512 then rest of the information will not be considered.\n",
    "2. same goes when we perfrom abstractive summarisation.\n",
    "3. for better results hybrid summarisation can be looked at."
   ]
  },
  {
   "cell_type": "markdown",
   "id": "d3127c66",
   "metadata": {},
   "source": [
    "# Topic Modelling\n",
    "create subcategories of the already present categories."
   ]
  },
  {
   "cell_type": "code",
   "execution_count": 59,
   "id": "b5d03bb7",
   "metadata": {},
   "outputs": [
    {
     "name": "stdout",
     "output_type": "stream",
     "text": [
      "Collecting spacy\n",
      "  Using cached spacy-3.5.2-cp39-cp39-win_amd64.whl (12.2 MB)\n",
      "Collecting langcodes<4.0.0,>=3.2.0\n",
      "  Using cached langcodes-3.3.0-py3-none-any.whl (181 kB)\n",
      "Collecting spacy-loggers<2.0.0,>=1.0.0\n",
      "  Using cached spacy_loggers-1.0.4-py3-none-any.whl (11 kB)\n",
      "Collecting spacy-legacy<3.1.0,>=3.0.11\n",
      "  Using cached spacy_legacy-3.0.12-py2.py3-none-any.whl (29 kB)\n",
      "Collecting srsly<3.0.0,>=2.4.3\n",
      "  Using cached srsly-2.4.6-cp39-cp39-win_amd64.whl (482 kB)\n",
      "Collecting preshed<3.1.0,>=3.0.2\n",
      "  Using cached preshed-3.0.8-cp39-cp39-win_amd64.whl (96 kB)\n",
      "Requirement already satisfied: tqdm<5.0.0,>=4.38.0 in c:\\users\\manth\\anaconda3\\lib\\site-packages (from spacy) (4.64.1)\n",
      "Collecting wasabi<1.2.0,>=0.9.1\n",
      "  Using cached wasabi-1.1.1-py3-none-any.whl (27 kB)\n",
      "Requirement already satisfied: smart-open<7.0.0,>=5.2.1 in c:\\users\\manth\\anaconda3\\lib\\site-packages (from spacy) (5.2.1)\n",
      "Requirement already satisfied: packaging>=20.0 in c:\\users\\manth\\anaconda3\\lib\\site-packages (from spacy) (21.3)\n",
      "Requirement already satisfied: setuptools in c:\\users\\manth\\anaconda3\\lib\\site-packages (from spacy) (63.4.1)\n",
      "Requirement already satisfied: requests<3.0.0,>=2.13.0 in c:\\users\\manth\\anaconda3\\lib\\site-packages (from spacy) (2.28.1)\n",
      "Collecting pathy>=0.10.0\n",
      "  Using cached pathy-0.10.1-py3-none-any.whl (48 kB)\n",
      "Collecting murmurhash<1.1.0,>=0.28.0\n",
      "  Using cached murmurhash-1.0.9-cp39-cp39-win_amd64.whl (18 kB)\n",
      "Collecting pydantic!=1.8,!=1.8.1,<1.11.0,>=1.7.4\n",
      "  Using cached pydantic-1.10.7-cp39-cp39-win_amd64.whl (2.2 MB)\n",
      "Requirement already satisfied: jinja2 in c:\\users\\manth\\anaconda3\\lib\\site-packages (from spacy) (2.11.3)\n",
      "Requirement already satisfied: numpy>=1.15.0 in c:\\users\\manth\\anaconda3\\lib\\site-packages (from spacy) (1.21.5)\n",
      "Collecting cymem<2.1.0,>=2.0.2\n",
      "  Using cached cymem-2.0.7-cp39-cp39-win_amd64.whl (30 kB)\n",
      "Collecting thinc<8.2.0,>=8.1.8\n",
      "  Using cached thinc-8.1.10-cp39-cp39-win_amd64.whl (1.5 MB)\n",
      "Collecting catalogue<2.1.0,>=2.0.6\n",
      "  Using cached catalogue-2.0.8-py3-none-any.whl (17 kB)\n",
      "Collecting typer<0.8.0,>=0.3.0\n",
      "  Using cached typer-0.7.0-py3-none-any.whl (38 kB)\n",
      "Requirement already satisfied: pyparsing!=3.0.5,>=2.0.2 in c:\\users\\manth\\anaconda3\\lib\\site-packages (from packaging>=20.0->spacy) (3.0.9)\n",
      "Requirement already satisfied: typing-extensions>=4.2.0 in c:\\users\\manth\\anaconda3\\lib\\site-packages (from pydantic!=1.8,!=1.8.1,<1.11.0,>=1.7.4->spacy) (4.3.0)\n",
      "Requirement already satisfied: urllib3<1.27,>=1.21.1 in c:\\users\\manth\\anaconda3\\lib\\site-packages (from requests<3.0.0,>=2.13.0->spacy) (1.26.11)\n",
      "Requirement already satisfied: charset-normalizer<3,>=2 in c:\\users\\manth\\anaconda3\\lib\\site-packages (from requests<3.0.0,>=2.13.0->spacy) (2.0.4)\n",
      "Requirement already satisfied: idna<4,>=2.5 in c:\\users\\manth\\anaconda3\\lib\\site-packages (from requests<3.0.0,>=2.13.0->spacy) (2.10)\n",
      "Requirement already satisfied: certifi>=2017.4.17 in c:\\users\\manth\\anaconda3\\lib\\site-packages (from requests<3.0.0,>=2.13.0->spacy) (2022.9.14)\n",
      "Collecting blis<0.8.0,>=0.7.8\n",
      "  Using cached blis-0.7.9-cp39-cp39-win_amd64.whl (7.0 MB)\n",
      "Collecting confection<1.0.0,>=0.0.1\n",
      "  Using cached confection-0.0.4-py3-none-any.whl (32 kB)\n",
      "Requirement already satisfied: colorama in c:\\users\\manth\\anaconda3\\lib\\site-packages (from tqdm<5.0.0,>=4.38.0->spacy) (0.4.5)\n",
      "Requirement already satisfied: click<9.0.0,>=7.1.1 in c:\\users\\manth\\anaconda3\\lib\\site-packages (from typer<0.8.0,>=0.3.0->spacy) (8.0.4)\n",
      "Collecting colorama\n",
      "  Using cached colorama-0.4.6-py2.py3-none-any.whl (25 kB)\n",
      "Requirement already satisfied: MarkupSafe>=0.23 in c:\\users\\manth\\anaconda3\\lib\\site-packages (from jinja2->spacy) (2.0.1)\n",
      "Installing collected packages: cymem, spacy-loggers, spacy-legacy, pydantic, murmurhash, langcodes, colorama, catalogue, blis, wasabi, srsly, preshed, typer, confection, thinc, pathy, spacy\n",
      "  Attempting uninstall: colorama\n",
      "    Found existing installation: colorama 0.4.5\n",
      "    Uninstalling colorama-0.4.5:\n",
      "      Successfully uninstalled colorama-0.4.5\n",
      "Successfully installed blis-0.7.9 catalogue-2.0.8 colorama-0.4.6 confection-0.0.4 cymem-2.0.7 langcodes-3.3.0 murmurhash-1.0.9 pathy-0.10.1 preshed-3.0.8 pydantic-1.10.7 spacy-3.5.2 spacy-legacy-3.0.12 spacy-loggers-1.0.4 srsly-2.4.6 thinc-8.1.10 typer-0.7.0 wasabi-1.1.1\n",
      "Collecting en-core-web-sm==3.5.0\n",
      "  Downloading https://github.com/explosion/spacy-models/releases/download/en_core_web_sm-3.5.0/en_core_web_sm-3.5.0-py3-none-any.whl (12.8 MB)\n",
      "     --------------------------------------- 12.8/12.8 MB 72.5 MB/s eta 0:00:00\n",
      "Requirement already satisfied: spacy<3.6.0,>=3.5.0 in c:\\users\\manth\\anaconda3\\lib\\site-packages (from en-core-web-sm==3.5.0) (3.5.2)\n",
      "Requirement already satisfied: smart-open<7.0.0,>=5.2.1 in c:\\users\\manth\\anaconda3\\lib\\site-packages (from spacy<3.6.0,>=3.5.0->en-core-web-sm==3.5.0) (5.2.1)\n",
      "Requirement already satisfied: packaging>=20.0 in c:\\users\\manth\\anaconda3\\lib\\site-packages (from spacy<3.6.0,>=3.5.0->en-core-web-sm==3.5.0) (21.3)\n",
      "Requirement already satisfied: langcodes<4.0.0,>=3.2.0 in c:\\users\\manth\\anaconda3\\lib\\site-packages (from spacy<3.6.0,>=3.5.0->en-core-web-sm==3.5.0) (3.3.0)\n",
      "Requirement already satisfied: requests<3.0.0,>=2.13.0 in c:\\users\\manth\\anaconda3\\lib\\site-packages (from spacy<3.6.0,>=3.5.0->en-core-web-sm==3.5.0) (2.28.1)\n",
      "Requirement already satisfied: srsly<3.0.0,>=2.4.3 in c:\\users\\manth\\anaconda3\\lib\\site-packages (from spacy<3.6.0,>=3.5.0->en-core-web-sm==3.5.0) (2.4.6)\n",
      "Requirement already satisfied: setuptools in c:\\users\\manth\\anaconda3\\lib\\site-packages (from spacy<3.6.0,>=3.5.0->en-core-web-sm==3.5.0) (63.4.1)\n",
      "Requirement already satisfied: typer<0.8.0,>=0.3.0 in c:\\users\\manth\\anaconda3\\lib\\site-packages (from spacy<3.6.0,>=3.5.0->en-core-web-sm==3.5.0) (0.7.0)\n",
      "Requirement already satisfied: tqdm<5.0.0,>=4.38.0 in c:\\users\\manth\\anaconda3\\lib\\site-packages (from spacy<3.6.0,>=3.5.0->en-core-web-sm==3.5.0) (4.64.1)\n",
      "Requirement already satisfied: catalogue<2.1.0,>=2.0.6 in c:\\users\\manth\\anaconda3\\lib\\site-packages (from spacy<3.6.0,>=3.5.0->en-core-web-sm==3.5.0) (2.0.8)\n",
      "Requirement already satisfied: pydantic!=1.8,!=1.8.1,<1.11.0,>=1.7.4 in c:\\users\\manth\\anaconda3\\lib\\site-packages (from spacy<3.6.0,>=3.5.0->en-core-web-sm==3.5.0) (1.10.7)\n",
      "Requirement already satisfied: jinja2 in c:\\users\\manth\\anaconda3\\lib\\site-packages (from spacy<3.6.0,>=3.5.0->en-core-web-sm==3.5.0) (2.11.3)\n",
      "Requirement already satisfied: preshed<3.1.0,>=3.0.2 in c:\\users\\manth\\anaconda3\\lib\\site-packages (from spacy<3.6.0,>=3.5.0->en-core-web-sm==3.5.0) (3.0.8)\n",
      "Requirement already satisfied: pathy>=0.10.0 in c:\\users\\manth\\anaconda3\\lib\\site-packages (from spacy<3.6.0,>=3.5.0->en-core-web-sm==3.5.0) (0.10.1)\n",
      "Requirement already satisfied: spacy-legacy<3.1.0,>=3.0.11 in c:\\users\\manth\\anaconda3\\lib\\site-packages (from spacy<3.6.0,>=3.5.0->en-core-web-sm==3.5.0) (3.0.12)\n",
      "Requirement already satisfied: cymem<2.1.0,>=2.0.2 in c:\\users\\manth\\anaconda3\\lib\\site-packages (from spacy<3.6.0,>=3.5.0->en-core-web-sm==3.5.0) (2.0.7)\n",
      "Requirement already satisfied: spacy-loggers<2.0.0,>=1.0.0 in c:\\users\\manth\\anaconda3\\lib\\site-packages (from spacy<3.6.0,>=3.5.0->en-core-web-sm==3.5.0) (1.0.4)\n",
      "Requirement already satisfied: murmurhash<1.1.0,>=0.28.0 in c:\\users\\manth\\anaconda3\\lib\\site-packages (from spacy<3.6.0,>=3.5.0->en-core-web-sm==3.5.0) (1.0.9)\n",
      "Requirement already satisfied: numpy>=1.15.0 in c:\\users\\manth\\anaconda3\\lib\\site-packages (from spacy<3.6.0,>=3.5.0->en-core-web-sm==3.5.0) (1.21.5)\n",
      "Requirement already satisfied: thinc<8.2.0,>=8.1.8 in c:\\users\\manth\\anaconda3\\lib\\site-packages (from spacy<3.6.0,>=3.5.0->en-core-web-sm==3.5.0) (8.1.10)\n",
      "Requirement already satisfied: wasabi<1.2.0,>=0.9.1 in c:\\users\\manth\\anaconda3\\lib\\site-packages (from spacy<3.6.0,>=3.5.0->en-core-web-sm==3.5.0) (1.1.1)\n",
      "Requirement already satisfied: pyparsing!=3.0.5,>=2.0.2 in c:\\users\\manth\\anaconda3\\lib\\site-packages (from packaging>=20.0->spacy<3.6.0,>=3.5.0->en-core-web-sm==3.5.0) (3.0.9)\n",
      "Requirement already satisfied: typing-extensions>=4.2.0 in c:\\users\\manth\\anaconda3\\lib\\site-packages (from pydantic!=1.8,!=1.8.1,<1.11.0,>=1.7.4->spacy<3.6.0,>=3.5.0->en-core-web-sm==3.5.0) (4.3.0)\n",
      "Requirement already satisfied: certifi>=2017.4.17 in c:\\users\\manth\\anaconda3\\lib\\site-packages (from requests<3.0.0,>=2.13.0->spacy<3.6.0,>=3.5.0->en-core-web-sm==3.5.0) (2022.9.14)\n",
      "Requirement already satisfied: urllib3<1.27,>=1.21.1 in c:\\users\\manth\\anaconda3\\lib\\site-packages (from requests<3.0.0,>=2.13.0->spacy<3.6.0,>=3.5.0->en-core-web-sm==3.5.0) (1.26.11)\n",
      "Requirement already satisfied: idna<4,>=2.5 in c:\\users\\manth\\anaconda3\\lib\\site-packages (from requests<3.0.0,>=2.13.0->spacy<3.6.0,>=3.5.0->en-core-web-sm==3.5.0) (2.10)\n",
      "Requirement already satisfied: charset-normalizer<3,>=2 in c:\\users\\manth\\anaconda3\\lib\\site-packages (from requests<3.0.0,>=2.13.0->spacy<3.6.0,>=3.5.0->en-core-web-sm==3.5.0) (2.0.4)\n",
      "Requirement already satisfied: confection<1.0.0,>=0.0.1 in c:\\users\\manth\\anaconda3\\lib\\site-packages (from thinc<8.2.0,>=8.1.8->spacy<3.6.0,>=3.5.0->en-core-web-sm==3.5.0) (0.0.4)\n",
      "Requirement already satisfied: blis<0.8.0,>=0.7.8 in c:\\users\\manth\\anaconda3\\lib\\site-packages (from thinc<8.2.0,>=8.1.8->spacy<3.6.0,>=3.5.0->en-core-web-sm==3.5.0) (0.7.9)\n",
      "Requirement already satisfied: colorama in c:\\users\\manth\\anaconda3\\lib\\site-packages (from tqdm<5.0.0,>=4.38.0->spacy<3.6.0,>=3.5.0->en-core-web-sm==3.5.0) (0.4.6)\n",
      "Requirement already satisfied: click<9.0.0,>=7.1.1 in c:\\users\\manth\\anaconda3\\lib\\site-packages (from typer<0.8.0,>=0.3.0->spacy<3.6.0,>=3.5.0->en-core-web-sm==3.5.0) (8.0.4)\n",
      "Requirement already satisfied: MarkupSafe>=0.23 in c:\\users\\manth\\anaconda3\\lib\\site-packages (from jinja2->spacy<3.6.0,>=3.5.0->en-core-web-sm==3.5.0) (2.0.1)\n",
      "Installing collected packages: en-core-web-sm\n",
      "Successfully installed en-core-web-sm-3.5.0\n",
      "\u001b[38;5;2m[+] Download and installation successful\u001b[0m\n",
      "You can now load the package via spacy.load('en_core_web_sm')\n"
     ]
    },
    {
     "name": "stdout",
     "output_type": "stream",
     "text": [
      "Collecting pyLDAvis\n",
      "  Downloading pyLDAvis-3.4.1-py3-none-any.whl (2.6 MB)\n",
      "     ---------------------------------------- 2.6/2.6 MB 18.4 MB/s eta 0:00:00\n",
      "Collecting funcy\n",
      "  Downloading funcy-2.0-py2.py3-none-any.whl (30 kB)\n",
      "Requirement already satisfied: scikit-learn>=1.0.0 in c:\\users\\manth\\anaconda3\\lib\\site-packages (from pyLDAvis) (1.0.2)\n",
      "Requirement already satisfied: setuptools in c:\\users\\manth\\anaconda3\\lib\\site-packages (from pyLDAvis) (63.4.1)\n",
      "Collecting pandas>=2.0.0\n",
      "  Downloading pandas-2.0.1-cp39-cp39-win_amd64.whl (10.7 MB)\n",
      "     --------------------------------------- 10.7/10.7 MB 40.9 MB/s eta 0:00:00\n",
      "Requirement already satisfied: numexpr in c:\\users\\manth\\anaconda3\\lib\\site-packages (from pyLDAvis) (2.8.3)\n",
      "Requirement already satisfied: jinja2 in c:\\users\\manth\\anaconda3\\lib\\site-packages (from pyLDAvis) (2.11.3)\n",
      "Collecting numpy>=1.24.2\n",
      "  Using cached numpy-1.24.3-cp39-cp39-win_amd64.whl (14.9 MB)\n",
      "Requirement already satisfied: gensim in c:\\users\\manth\\anaconda3\\lib\\site-packages (from pyLDAvis) (3.8.3)\n",
      "Requirement already satisfied: scipy in c:\\users\\manth\\anaconda3\\lib\\site-packages (from pyLDAvis) (1.9.1)\n",
      "Collecting joblib>=1.2.0\n",
      "  Using cached joblib-1.2.0-py3-none-any.whl (297 kB)\n",
      "Collecting tzdata>=2022.1\n",
      "  Downloading tzdata-2023.3-py2.py3-none-any.whl (341 kB)\n",
      "     ---------------------------------------- 341.8/341.8 kB ? eta 0:00:00\n",
      "Requirement already satisfied: pytz>=2020.1 in c:\\users\\manth\\anaconda3\\lib\\site-packages (from pandas>=2.0.0->pyLDAvis) (2022.7.1)\n",
      "Requirement already satisfied: python-dateutil>=2.8.2 in c:\\users\\manth\\anaconda3\\lib\\site-packages (from pandas>=2.0.0->pyLDAvis) (2.8.2)\n",
      "Requirement already satisfied: threadpoolctl>=2.0.0 in c:\\users\\manth\\anaconda3\\lib\\site-packages (from scikit-learn>=1.0.0->pyLDAvis) (2.2.0)\n",
      "Requirement already satisfied: six>=1.5.0 in c:\\users\\manth\\anaconda3\\lib\\site-packages (from gensim->pyLDAvis) (1.16.0)\n",
      "Requirement already satisfied: smart-open>=1.8.1 in c:\\users\\manth\\anaconda3\\lib\\site-packages (from gensim->pyLDAvis) (5.2.1)\n",
      "Requirement already satisfied: MarkupSafe>=0.23 in c:\\users\\manth\\anaconda3\\lib\\site-packages (from jinja2->pyLDAvis) (2.0.1)\n",
      "Requirement already satisfied: packaging in c:\\users\\manth\\anaconda3\\lib\\site-packages (from numexpr->pyLDAvis) (21.3)\n",
      "Requirement already satisfied: pyparsing!=3.0.5,>=2.0.2 in c:\\users\\manth\\anaconda3\\lib\\site-packages (from packaging->numexpr->pyLDAvis) (3.0.9)\n",
      "Installing collected packages: funcy, tzdata, numpy, joblib, pandas, pyLDAvis\n",
      "  Attempting uninstall: numpy\n",
      "    Found existing installation: numpy 1.21.5\n",
      "    Uninstalling numpy-1.21.5:\n",
      "      Successfully uninstalled numpy-1.21.5\n",
      "  Attempting uninstall: joblib\n",
      "    Found existing installation: joblib 1.1.0\n",
      "    Uninstalling joblib-1.1.0:\n",
      "      Successfully uninstalled joblib-1.1.0\n",
      "  Attempting uninstall: pandas\n",
      "    Found existing installation: pandas 1.4.4\n",
      "    Uninstalling pandas-1.4.4:\n",
      "      Successfully uninstalled pandas-1.4.4\n",
      "Successfully installed funcy-2.0 joblib-1.2.0 numpy-1.24.3 pandas-2.0.1 pyLDAvis-3.4.1 tzdata-2023.3\n"
     ]
    },
    {
     "name": "stderr",
     "output_type": "stream",
     "text": [
      "ERROR: pip's dependency resolver does not currently take into account all the packages that are installed. This behaviour is the source of the following dependency conflicts.\n",
      "daal4py 2021.6.0 requires daal==2021.4.0, which is not installed.\n",
      "numba 0.55.1 requires numpy<1.22,>=1.18, but you have numpy 1.24.3 which is incompatible.\n"
     ]
    }
   ],
   "source": [
    "!pip install spacy\n",
    "!python -m spacy download en_core_web_sm\n",
    "!pip install pyLDAvis"
   ]
  },
  {
   "cell_type": "code",
   "execution_count": 45,
   "id": "588533b2",
   "metadata": {},
   "outputs": [],
   "source": [
    "import pandas as pd\n",
    "import numpy as np\n",
    "import spacy\n",
    "import pyLDAvis.gensim_models as gensimvis\n",
    "import pyLDAvis\n",
    "import gensim"
   ]
  },
  {
   "cell_type": "code",
   "execution_count": 36,
   "id": "3c9c6b14",
   "metadata": {},
   "outputs": [
    {
     "name": "stdout",
     "output_type": "stream",
     "text": [
      "Collecting en-core-web-sm==3.5.0\n",
      "  Downloading https://github.com/explosion/spacy-models/releases/download/en_core_web_sm-3.5.0/en_core_web_sm-3.5.0-py3-none-any.whl (12.8 MB)\n",
      "     --------------------------------------- 12.8/12.8 MB 28.5 MB/s eta 0:00:00\n",
      "Requirement already satisfied: spacy<3.6.0,>=3.5.0 in c:\\users\\manth\\anaconda3\\lib\\site-packages (from en-core-web-sm==3.5.0) (3.5.2)\n",
      "Requirement already satisfied: spacy-legacy<3.1.0,>=3.0.11 in c:\\users\\manth\\anaconda3\\lib\\site-packages (from spacy<3.6.0,>=3.5.0->en-core-web-sm==3.5.0) (3.0.12)\n",
      "Requirement already satisfied: numpy>=1.15.0 in c:\\users\\manth\\anaconda3\\lib\\site-packages (from spacy<3.6.0,>=3.5.0->en-core-web-sm==3.5.0) (1.24.3)\n",
      "Requirement already satisfied: spacy-loggers<2.0.0,>=1.0.0 in c:\\users\\manth\\anaconda3\\lib\\site-packages (from spacy<3.6.0,>=3.5.0->en-core-web-sm==3.5.0) (1.0.4)\n",
      "Requirement already satisfied: packaging>=20.0 in c:\\users\\manth\\anaconda3\\lib\\site-packages (from spacy<3.6.0,>=3.5.0->en-core-web-sm==3.5.0) (21.3)\n",
      "Requirement already satisfied: catalogue<2.1.0,>=2.0.6 in c:\\users\\manth\\anaconda3\\lib\\site-packages (from spacy<3.6.0,>=3.5.0->en-core-web-sm==3.5.0) (2.0.8)\n",
      "Requirement already satisfied: pydantic!=1.8,!=1.8.1,<1.11.0,>=1.7.4 in c:\\users\\manth\\anaconda3\\lib\\site-packages (from spacy<3.6.0,>=3.5.0->en-core-web-sm==3.5.0) (1.10.7)\n",
      "Requirement already satisfied: murmurhash<1.1.0,>=0.28.0 in c:\\users\\manth\\anaconda3\\lib\\site-packages (from spacy<3.6.0,>=3.5.0->en-core-web-sm==3.5.0) (1.0.9)\n",
      "Requirement already satisfied: jinja2 in c:\\users\\manth\\anaconda3\\lib\\site-packages (from spacy<3.6.0,>=3.5.0->en-core-web-sm==3.5.0) (2.11.3)\n",
      "Requirement already satisfied: setuptools in c:\\users\\manth\\anaconda3\\lib\\site-packages (from spacy<3.6.0,>=3.5.0->en-core-web-sm==3.5.0) (63.4.1)\n",
      "Requirement already satisfied: smart-open<7.0.0,>=5.2.1 in c:\\users\\manth\\anaconda3\\lib\\site-packages (from spacy<3.6.0,>=3.5.0->en-core-web-sm==3.5.0) (5.2.1)\n",
      "Requirement already satisfied: pathy>=0.10.0 in c:\\users\\manth\\anaconda3\\lib\\site-packages (from spacy<3.6.0,>=3.5.0->en-core-web-sm==3.5.0) (0.10.1)\n",
      "Requirement already satisfied: srsly<3.0.0,>=2.4.3 in c:\\users\\manth\\anaconda3\\lib\\site-packages (from spacy<3.6.0,>=3.5.0->en-core-web-sm==3.5.0) (2.4.6)\n",
      "Requirement already satisfied: thinc<8.2.0,>=8.1.8 in c:\\users\\manth\\anaconda3\\lib\\site-packages (from spacy<3.6.0,>=3.5.0->en-core-web-sm==3.5.0) (8.1.10)\n",
      "Requirement already satisfied: cymem<2.1.0,>=2.0.2 in c:\\users\\manth\\anaconda3\\lib\\site-packages (from spacy<3.6.0,>=3.5.0->en-core-web-sm==3.5.0) (2.0.7)\n",
      "Requirement already satisfied: preshed<3.1.0,>=3.0.2 in c:\\users\\manth\\anaconda3\\lib\\site-packages (from spacy<3.6.0,>=3.5.0->en-core-web-sm==3.5.0) (3.0.8)\n",
      "Requirement already satisfied: typer<0.8.0,>=0.3.0 in c:\\users\\manth\\anaconda3\\lib\\site-packages (from spacy<3.6.0,>=3.5.0->en-core-web-sm==3.5.0) (0.7.0)\n",
      "Requirement already satisfied: langcodes<4.0.0,>=3.2.0 in c:\\users\\manth\\anaconda3\\lib\\site-packages (from spacy<3.6.0,>=3.5.0->en-core-web-sm==3.5.0) (3.3.0)\n",
      "Requirement already satisfied: tqdm<5.0.0,>=4.38.0 in c:\\users\\manth\\anaconda3\\lib\\site-packages (from spacy<3.6.0,>=3.5.0->en-core-web-sm==3.5.0) (4.64.1)\n",
      "Requirement already satisfied: wasabi<1.2.0,>=0.9.1 in c:\\users\\manth\\anaconda3\\lib\\site-packages (from spacy<3.6.0,>=3.5.0->en-core-web-sm==3.5.0) (1.1.1)\n",
      "Requirement already satisfied: requests<3.0.0,>=2.13.0 in c:\\users\\manth\\anaconda3\\lib\\site-packages (from spacy<3.6.0,>=3.5.0->en-core-web-sm==3.5.0) (2.28.1)\n",
      "Requirement already satisfied: pyparsing!=3.0.5,>=2.0.2 in c:\\users\\manth\\anaconda3\\lib\\site-packages (from packaging>=20.0->spacy<3.6.0,>=3.5.0->en-core-web-sm==3.5.0) (3.0.9)\n",
      "Requirement already satisfied: typing-extensions>=4.2.0 in c:\\users\\manth\\anaconda3\\lib\\site-packages (from pydantic!=1.8,!=1.8.1,<1.11.0,>=1.7.4->spacy<3.6.0,>=3.5.0->en-core-web-sm==3.5.0) (4.3.0)\n",
      "Requirement already satisfied: charset-normalizer<3,>=2 in c:\\users\\manth\\anaconda3\\lib\\site-packages (from requests<3.0.0,>=2.13.0->spacy<3.6.0,>=3.5.0->en-core-web-sm==3.5.0) (2.0.4)\n",
      "Requirement already satisfied: certifi>=2017.4.17 in c:\\users\\manth\\anaconda3\\lib\\site-packages (from requests<3.0.0,>=2.13.0->spacy<3.6.0,>=3.5.0->en-core-web-sm==3.5.0) (2022.9.14)\n",
      "Requirement already satisfied: urllib3<1.27,>=1.21.1 in c:\\users\\manth\\anaconda3\\lib\\site-packages (from requests<3.0.0,>=2.13.0->spacy<3.6.0,>=3.5.0->en-core-web-sm==3.5.0) (1.26.11)\n",
      "Requirement already satisfied: idna<4,>=2.5 in c:\\users\\manth\\anaconda3\\lib\\site-packages (from requests<3.0.0,>=2.13.0->spacy<3.6.0,>=3.5.0->en-core-web-sm==3.5.0) (2.10)\n",
      "Requirement already satisfied: confection<1.0.0,>=0.0.1 in c:\\users\\manth\\anaconda3\\lib\\site-packages (from thinc<8.2.0,>=8.1.8->spacy<3.6.0,>=3.5.0->en-core-web-sm==3.5.0) (0.0.4)\n",
      "Requirement already satisfied: blis<0.8.0,>=0.7.8 in c:\\users\\manth\\anaconda3\\lib\\site-packages (from thinc<8.2.0,>=8.1.8->spacy<3.6.0,>=3.5.0->en-core-web-sm==3.5.0) (0.7.9)\n",
      "Requirement already satisfied: colorama in c:\\users\\manth\\anaconda3\\lib\\site-packages (from tqdm<5.0.0,>=4.38.0->spacy<3.6.0,>=3.5.0->en-core-web-sm==3.5.0) (0.4.6)\n",
      "Requirement already satisfied: click<9.0.0,>=7.1.1 in c:\\users\\manth\\anaconda3\\lib\\site-packages (from typer<0.8.0,>=0.3.0->spacy<3.6.0,>=3.5.0->en-core-web-sm==3.5.0) (8.0.4)\n",
      "Requirement already satisfied: MarkupSafe>=0.23 in c:\\users\\manth\\anaconda3\\lib\\site-packages (from jinja2->spacy<3.6.0,>=3.5.0->en-core-web-sm==3.5.0) (2.0.1)\n",
      "\u001b[38;5;2m[+] Download and installation successful\u001b[0m\n",
      "You can now load the package via spacy.load('en_core_web_sm')\n"
     ]
    }
   ],
   "source": [
    "#!python -m spacy download en_core_web_sm"
   ]
  },
  {
   "cell_type": "code",
   "execution_count": 34,
   "id": "9a39c622",
   "metadata": {},
   "outputs": [],
   "source": [
    "# Filter the data to include only the category of interest\n",
    "category = 'sports'\n",
    "#df_category = df_sports[df_sports['category'] == category]\n",
    "#df_category = df_sports[df_sports['category'] == category]"
   ]
  },
  {
   "cell_type": "code",
   "execution_count": 39,
   "id": "3bb02c57",
   "metadata": {},
   "outputs": [],
   "source": [
    "# Preprocessing the text data\n",
    "nlp = spacy.load('en_core_web_sm')\n",
    "stop_words = spacy.lang.en.stop_words.STOP_WORDS\n",
    "#lemmatizer = nlp.vocab.morphology.lemmatizer\n",
    "def preprocess(text):\n",
    "    doc = nlp(text)\n",
    "    tokens = [token.lemma_.lower() for token in doc if not token.is_stop and not token.is_punct and not token.is_space]\n",
    "    return tokens"
   ]
  },
  {
   "cell_type": "code",
   "execution_count": 86,
   "id": "2c50fb5b",
   "metadata": {},
   "outputs": [
    {
     "name": "stdout",
     "output_type": "stream",
     "text": [
      "1    [auf, dem, rad, war, er, ein, idol, doch, brad...\n",
      "8    [london, haben, die, frauen, des, fc, bayern, ...\n",
      "9    [aus, ist, der, traum, vom, uwcl, halbfinale, ...\n",
      "Name: content, dtype: object\n"
     ]
    }
   ],
   "source": [
    "# Creating dictionary and corpus for LDA\n",
    "texts = df_sports['content'].apply(preprocess)\n",
    "dictionary = gensim.corpora.Dictionary(texts)\n",
    "corpus = [dictionary.doc2bow(text) for text in texts]\n",
    "print(texts)"
   ]
  },
  {
   "cell_type": "code",
   "execution_count": 50,
   "id": "0c7143ce",
   "metadata": {},
   "outputs": [],
   "source": [
    "# Running LDA model with 10 topics\n",
    "num_topics = 10\n",
    "lda_model = gensim.models.ldamodel.LdaModel(corpus=corpus,\n",
    "                                            id2word=dictionary,\n",
    "                                            num_topics=num_topics,\n",
    "                                            random_state=42,\n",
    "                                            passes=10,\n",
    "                                            per_word_topics=True)"
   ]
  },
  {
   "cell_type": "code",
   "execution_count": 51,
   "id": "7c945ff2",
   "metadata": {},
   "outputs": [
    {
     "data": {
      "text/html": [
       "\n",
       "<link rel=\"stylesheet\" type=\"text/css\" href=\"https://cdn.jsdelivr.net/gh/bmabey/pyLDAvis@3.4.0/pyLDAvis/js/ldavis.v1.0.0.css\">\n",
       "\n",
       "\n",
       "<div id=\"ldavis_el101602564673328176763394856\" style=\"background-color:white;\"></div>\n",
       "<script type=\"text/javascript\">\n",
       "\n",
       "var ldavis_el101602564673328176763394856_data = {\"mdsDat\": {\"x\": [-0.05934272979818718, -0.07371529304800271, 0.10317894659330619, -0.027007802512932593, -0.044246628941448235, 0.051941391826062416, 0.08856286607016846, -0.07153371025052327, 0.09928971203879033, -0.06712675197723343], \"y\": [-0.0035120957270449644, -0.002395036001384902, -0.08013210524928611, -0.02858879657524818, -0.021292982989444653, 0.15655645448580627, 0.062170460470439504, -0.0024200465352414474, -0.07834678885703883, -0.0020390630215565914], \"topics\": [1, 2, 3, 4, 5, 6, 7, 8, 9, 10], \"cluster\": [1, 1, 1, 1, 1, 1, 1, 1, 1, 1], \"Freq\": [0.02441081138519043, 0.024410804596317438, 20.68137086066053, 4.533239904675394, 4.704761371194309, 25.385867044363188, 12.59490723778657, 0.02441080477959811, 32.00221035524159, 0.024410805317316504]}, \"tinfo\": {\"Term\": [\"die\", \"euro\", \"inflation\", \"prozent\", \"und\", \"mehr\", \"ein\", \"von\", \"gewerkschaften\", \"der\", \"dass\", \"m\", \"bei\", \"auch\", \"f\\u00fcr\", \"durch\", \"jahr\", \"mit\", \"wir\", \"wie\", \"eine\", \"rente\", \"nach\", \"auf\", \"das\", \"firmen\", \"bis\", \"des\", \"kann\", \"oder\", \"berthold\", \"fordert\", \"lutz\", \"1,26\", \"hinzukam\", \"bahnchef\", \"schritten\", \"personalvorstand\", \"gesch\\u00e4ftsberichten\", \"problemen\", \"180.000\", \"vorstandsvorsitzenden\", \"doppelt\", \"geringen\", \"anzuheben\", \"verdiente\", \"aussicht\", \"2,24\", \"boni\", \"seiler\", \"2020\", \"gestellt\", \"gesamtverg\\u00fctung\", \"huber\", \"662.000\", \"l\\u00f6hne\", \"k\\u00e4mpfen\", \"2500\", \"gezahlt\", \"vorstandsmitgliedern\", \"die\", \"der\", \"und\", \"uneinigkeit\", \"m\\u00f6glichkeit\", \"f\\u00fcr\", \"von\", \"gewerkschaften\", \"lohn\", \"staatsrat\", \"euro\", \"m\\u00f6glich\", \"verwaltungsangestellte\", \"votiert\", \"scheitern\", \"karin\", \"sprach\", \"w\\u00e4hrend\", \"\\u00fcberbr\\u00fcckbar\", \"unterstreiche\", \"angeh\\u00f6rigen\", \"arbeitgeberseite\", \"frank\", \"mehr\", \"eine\", \"auf\", \"m\", \"faeser\", \"besch\\u00e4ftigten\", \"angestellte\", \"das\", \"nach\", \"erkl\\u00e4rten\", \"nun\", \"einkommen\", \"den\", \"zu\", \"dass\", \"nicht\", \"werden\", \"lautete\", \"al\", \"prozent\", \"es\", \"bei\", \"sie\", \"einer\", \"dem\", \"des\", \"ein\", \"mit\", \"bis\", \"auch\", \"boni\", \"schritten\", \"berthold\", \"hinzukam\", \"verdiente\", \"lohngruppen\", \"gesch\\u00e4ftsberichten\", \"1,26\", \"s\\u00e4mtlichen\", \"2,24\", \"plus\", \"doppelt\", \"2500\", \"180.000\", \"lutz\", \"gezahlt\", \"p\\u00fcnktlichkeit\", \"650\", \"infrastrukturvorstand\", \"aussicht\", \"vorstandsvorsitzenden\", \"fordert\", \"grundgehalt\", \"personalvorstand\", \"k\\u00e4mpfen\", \"landete\", \"erfolgsabh\\u00e4ngiger\", \"besch\\u00e4ftigte\", \"vorstandsmitglieder\", \"martin\", \"lehnt\", \"kollegen\", \"die\", \"der\", \"und\", \"m\", \"unfallversicherung\", \"auch\", \"tagesplanung\", \"mit\", \"einer\", \"das\", \"f\\u00fcr\", \"inflation\", \"von\", \"den\", \"ein\", \"zu\", \"bei\", \"werden\", \"kalender\", \"h\\u00e4fner\", \"f\\u00fchrungskr\\u00e4fte\", \"aufgaben\", \"sie\", \"preise\", \"prozent\", \"nicht\", \"lernen\", \"psychologe\", \"starttermin\", \"umgehen\", \"auf\", \"dem\", \"des\", \"sich\", \"ist\", \"um\", \"oder\", \"al\", \"es\", \"dass\", \"eine\", \"gewerkschaften\", \"verdi\", \"arbeitgeber\", \"verhandlungen\", \"faeser\", \"seien\", \"tarifverhandlungen\", \"gescheitert\", \"\\u00f6ffentlichen\", \"streiks\", \"einkommen\", \"schlichtungskommission\", \"l\\u00f6sung\", \"beide\", \"schlichtung\", \"mindestbetrag\", \"arbeitgebern\", \"lautete\", \"dbb\", \"gewesen\", \"austrian\", \"hie\\u00df\", \"ostern\", \"sinne\", \"angebotenen\", \"airlines\", \"streik\", \"laufzeit\", \"un\", \"bund\", \"besch\\u00e4ftigten\", \"h\\u00e4tten\", \"bis\", \"nach\", \"die\", \"der\", \"nun\", \"von\", \"und\", \"april\", \"dabei\", \"f\\u00fcr\", \"es\", \"eine\", \"den\", \"mehr\", \"zu\", \"das\", \"dass\", \"\\u00fcber\", \"werden\", \"m\", \"nicht\", \"euro\", \"auf\", \"wir\", \"einer\", \"ist\", \"bei\", \"prozent\", \"haben\", \"evg\", \"zufolge\", \"bahn\", \"bonus\", \"grundgehalt\", \"zahlreichen\", \"verdiente\", \"oberen\", \"anzuheben\", \"personalvorstand\", \"richard\", \"659.000\", \"2020\", \"doppelt\", \"p\\u00fcnktlichkeit\", \"1,41\", \"infrastruktur\", \"gezahlt\", \"erfolgsabh\\u00e4ngiger\", \"seinem\", \"schritten\", \"aussicht\", \"vorstandsvorsitzenden\", \"lehnt\", \"fordert\", \"gesch\\u00e4ftsbericht\", \"vorstandsmitgliedern\", \"kollegen\", \"seiler\", \"verg\\u00fctung\", \"2021\", \"millionen\", \"geld\", \"euro\", \"verhandelt\", \"mehr\", \"insgesamt\", \"die\", \"lag\", \"vergangenen\", \"von\", \"bei\", \"ein\", \"\\u00fcber\", \"hat\", \"f\\u00fcr\", \"m\", \"al\", \"jahr\", \"der\", \"einer\", \"prozent\", \"mit\", \"und\", \"zu\", \"nicht\", \"den\", \"duh\", \"vereins\", \"verst\\u00f6\\u00dfe\", \"umfrage\", \"mehrweg\", \"boxen\", \"preisvorteile\", \"durchgef\\u00fchrt\", \"umwelthilfe\", \"befragten\", \"r\\u00fcckgabestellen\", \"dringen\", \"niedriger\", \"vollzugsaufgaben\", \"mehrwegl\\u00f6sungen\", \"leiter\", \"weiteren\", \"folgten\", \"filialen\", \"unterlassungserkl\\u00e4rungen\", \"mehrwegangebotspflicht\", \"darauf\", \"verbraucherinnen\", \"w\\u00fcnschten\", \"barbara\", \"erhoben\", \"mitnehmen\", \"sanktionieren\", \"verst\\u00f6\\u00dfen\", \"lagern\", \"gegen\", \"werde\", \"berlin\", \"gesetz\", \"erkl\\u00e4rten\", \"prozent\", \"und\", \"die\", \"dass\", \"ein\", \"zudem\", \"nach\", \"f\\u00fcr\", \"oder\", \"m\", \"bei\", \"des\", \"nicht\", \"auf\", \"das\", \"der\", \"den\", \"zu\", \"es\", \"wir\", \"firmen\", \"niederstwertprinzip\", \"mark\", \"bank\", \"anlagen\", \"eigenkapital\", \"blase\", \"market\", \"verluste\", \"wertpapiere\", \"einlagen\", \"krise\", \"silicon\", \"kapitalismus\", \"wertzuw\\u00e4chse\", \"aktiengesellschaften\", \"\\u00f6sterreich\", \"prinzip\", \"kasino\", \"welt\", \"gewinne\", \"methode\", \"sinn\", \"aufschwung\", \"usa\", \"valley\", \"aktiva\", \"zentralbanken\", \"werner\", \"suisse\", \"wenn\", \"durch\", \"der\", \"die\", \"zur\", \"und\", \"des\", \"den\", \"zu\", \"das\", \"m\", \"dem\", \"nur\", \"f\\u00fcr\", \"sich\", \"auf\", \"einer\", \"es\", \"von\", \"auch\", \"eine\", \"hatte\", \"mit\", \"ein\", \"werden\", \"oder\", \"sie\", \"preise\", \"einstellungen\", \"liegen\", \"schon\", \"teuerung\", \"entspannung\", \"privatsph\\u00e4re\", \"imk\", \"bedeutet\", \"7,4\", \"\\u00f6konomen\", \"zentralbank\", \"ezb\", \"netzwerke\", \"vergleich\", \"inhalte\", \"konsums\", \"privaten\", \"preisver\\u00e4nderung\", \"lest\", \"sinkt\", \"h\\u00f6he\", \"vorjahresmonat\", \"energiepreise\", \"angezogen\", \"m\\u00e4rz\", \"rechnen\", \"sinken\", \"grafiken\", \"anzeige\", \"inflation\", \"lag\", \"erst\", \"prozent\", \"die\", \"auch\", \"bei\", \"m\", \"damit\", \"das\", \"dass\", \"mit\", \"der\", \"sich\", \"laut\", \"um\", \"aber\", \"des\", \"den\", \"und\", \"nicht\", \"sie\", \"ist\", \"zu\", \"f\\u00fcr\", \"von\", \"einer\", \"2022\", \"zum\", \"doppelt\", \"fordert\", \"gesch\\u00e4ftsberichten\", \"schritten\", \"erfolgsabh\\u00e4ngiger\", \"seiler\", \"verdiente\", \"boni\", \"p\\u00fcnktlichkeit\", \"180.000\", \"vorstandsvorsitzenden\", \"oberen\", \"zahlreichen\", \"plus\", \"anzuheben\", \"verg\\u00fctung\", \"vorstandsmitgliedern\", \"hinzukam\", \"bahnchef\", \"seinem\", \"richard\", \"besch\\u00e4ftigte\", \"1,26\", \"verhandelt\", \"berthold\", \"1,41\", \"gezahlt\", \"infrastrukturvorstand\", \"lutz\", \"650\", \"vorstandsmitglieder\", \"659.000\", \"662.000\", \"martin\", \"die\", \"der\", \"und\", \"m\", \"mit\", \"f\\u00fcr\", \"inflation\", \"auch\", \"den\", \"zu\", \"werden\", \"bei\", \"das\", \"nicht\", \"ein\", \"auf\", \"sie\", \"prozent\", \"von\", \"m\\u00e4rz\", \"einer\", \"dem\", \"ist\", \"engagement\", \"rasant\", \"al\", \"f\\u00fchrungskraft\", \"euro\", \"sich\", \"haben\", \"des\", \"kann\", \"dass\", \"es\", \"rente\", \"rtl\", \"bertelsmann\", \"3.000\", \"rabe\", \"rentner\", \"rentenversicherung\", \"wer\", \"milliarden\", \"h\\u00e4fner\", \"gesetzliche\", \"aufgaben\", \"welche\", \"bekomman\", \"dort\", \"etwa\", \"digitale\", \"angebote\", \"\\u00f6l-\", \"gasheizungen\", \"heizung\", \"kann\", \"2.400\", \"bekommt\", \"berechnet\", \"wichtigen\", \"entgeltpunkte\", \"eigene\", \"kalender\", \"f\\u00fchrungskr\\u00e4fte\", \"soll\", \"wie\", \"jahr\", \"euro\", \"sagte\", \"k\\u00f6nnen\", \"wir\", \"m\", \"auf\", \"und\", \"haben\", \"dem\", \"mit\", \"f\\u00fcr\", \"das\", \"eine\", \"werden\", \"gut\", \"der\", \"es\", \"ist\", \"zu\", \"die\", \"von\", \"ein\", \"den\", \"nicht\", \"auch\", \"mehr\", \"dass\", \"sie\", \"2500\", \"plus\", \"l\\u00f6hne\", \"p\\u00fcnktlichkeit\", \"2,24\", \"s\\u00e4mtlichen\", \"1,26\", \"aussicht\", \"650\", \"martin\", \"fordert\", \"gesch\\u00e4ftsberichten\", \"vorstandsmitglieder\", \"659.000\", \"personalvorstand\", \"1,41\", \"gesch\\u00e4ftsbericht\", \"berthold\", \"bahnchef\", \"180.000\", \"infrastruktur\", \"oberen\", \"gezahlt\", \"doppelt\", \"970.000\", \"schritten\", \"verdiente\", \"gesamtverg\\u00fctung\", \"huber\", \"verhandelt\", \"gestellt\", \"die\", \"der\", \"und\", \"m\", \"auf\", \"das\", \"den\", \"von\", \"euro\", \"es\", \"einer\", \"mit\", \"bei\", \"f\\u00fcr\", \"al\", \"des\", \"zu\", \"sie\", \"mehr\", \"auch\", \"oder\", \"dass\", \"ein\", \"sich\", \"jahr\", \"dem\", \"nicht\", \"eine\", \"prozent\", \"inflation\"], \"Freq\": [149.0, 25.0, 15.0, 19.0, 84.0, 14.0, 20.0, 36.0, 8.0, 109.0, 18.0, 55.0, 19.0, 21.0, 41.0, 11.0, 13.0, 27.0, 13.0, 14.0, 23.0, 6.0, 9.0, 29.0, 41.0, 6.0, 8.0, 21.0, 7.0, 11.0, 0.0005703382204634335, 0.0005698292705240285, 0.0005696506712516841, 0.000569560037919647, 0.0005693893828357153, 0.0005691905461782902, 0.0005690082937390114, 0.0005689311713259536, 0.0005687652711577142, 0.0005688477283542317, 0.0005686885546520935, 0.0005686695349893244, 0.0005681750237573265, 0.0005682773704182642, 0.0005682062786299867, 0.0005679350164884195, 0.0005679630820883593, 0.0005679430186636089, 0.0005680810851790154, 0.0005679576313313462, 0.0005678774936058981, 0.0005679205197942356, 0.0005678674039067462, 0.0005678590538108963, 0.0005678691435100483, 0.0005677046930112272, 0.0005678261173217107, 0.0005676122620891113, 0.000567667059593126, 0.0005676761055302968, 0.0021049072383972334, 0.001590635388597093, 0.0014225572370234834, 0.0006004038423196491, 0.0005971811112290364, 0.001041811885932171, 0.0009956926829235893, 0.000796201006868554, 0.000640117304089069, 0.0005936737230514304, 0.0009220832247739327, 0.0006357430715860484, 0.0005917435752010223, 0.0005913337246630578, 0.0005912774195028479, 0.0005911233486370625, 0.0005909112330077651, 0.0005908142211302871, 0.0005897641965771659, 0.0005896166782171515, 0.0005893422268028638, 0.0005887802769495229, 0.000588527744536841, 0.0007855875131623783, 0.000825053777302576, 0.0008438380137581799, 0.0008979875735297139, 0.0006788273626738627, 0.0006732039210396357, 0.0005884866319121357, 0.0008649497234583816, 0.0007300116526434883, 0.0006652632118335159, 0.0006836905976650914, 0.0006574998841774294, 0.00082404753276589, 0.0008156759818086276, 0.0007679253208366008, 0.0007777394668254815, 0.000768326473358055, 0.0006394188533632934, 0.0007290371268736765, 0.0007581303104840426, 0.0007784437162289307, 0.0007504884651252162, 0.0007414613156701857, 0.0007352520916173795, 0.0007365913542128559, 0.000735246060992599, 0.0007097881264025398, 0.0007013990634387036, 0.0006851568513016179, 0.0006888604667316957, 0.0005790479052375326, 0.0005788197853212985, 0.0005787692208660479, 0.0005788965018055836, 0.0005787945610804338, 0.0005789664918256381, 0.0005787359364654586, 0.0005786680919555465, 0.000578773801820136, 0.0005787206859474186, 0.0005787033479059965, 0.0005786300526405873, 0.0005786625252265281, 0.0005786481445098972, 0.000578654697013846, 0.0005787007964885298, 0.0005786569584975098, 0.0005786657144983616, 0.0005787333270612312, 0.0005786238480572023, 0.0005786396204560878, 0.0005784535409412949, 0.0005786572484313127, 0.0005785365779824864, 0.0005787569276727989, 0.0005788311507263778, 0.0005786607856237099, 0.0005787374441212344, 0.0005786032047704256, 0.0005786832265000654, 0.0005787309496040463, 0.0005786591619944128, 0.0007221408486163198, 0.0007014906034284032, 0.0006599220402582766, 0.0006318060576287698, 0.0005826395472028655, 0.0006160209016559104, 0.0005824550333306091, 0.0006146375115080722, 0.0006073406315133742, 0.0006122145927028046, 0.0006121446026827501, 0.0006053683278247956, 0.0006092947273591217, 0.0006093381594428175, 0.0006031467970391215, 0.0006057596804721427, 0.0006018287579704891, 0.0006006987699665104, 0.0005869784645521609, 0.0005888738777961725, 0.0005868607514281255, 0.0005888173407045792, 0.0005976653085587953, 0.0005900316414584828, 0.0005982684288558848, 0.0005991711087582781, 0.0005823028760707723, 0.0005850050011283701, 0.0005819905013913741, 0.0005819275857561137, 0.0005998536709174013, 0.0005977710184233847, 0.0005973660968740552, 0.0005954561869398914, 0.0005939111297034766, 0.0005936340109745284, 0.0005933384524557066, 0.0005927102818780341, 0.0005923591140557888, 0.0005914573039548046, 0.0005908642153673004, 8.301373415878839, 5.022159512167119, 5.018085060582434, 4.19743737495026, 4.191276373402897, 3.374113607439035, 3.371230796367977, 3.3738667900767143, 3.3723104258174925, 3.3733145951817125, 3.369332896618537, 2.5525256184002476, 2.5495724565205022, 2.5509077463110845, 2.5525028231661477, 2.5534914681899035, 2.5500256100535537, 2.5472426263870007, 2.5512097831629057, 2.5475381783877418, 1.7360311851189125, 1.734250405710192, 1.733664804006596, 1.7336642144746797, 1.733584234644692, 1.7343948410297032, 1.7323766767693236, 1.7293447141234233, 1.7321864544709742, 1.7298143745501329, 3.368843978149226, 2.5513102000993277, 5.023968589107826, 5.027685391329911, 36.511714417337345, 25.933109691578327, 3.3728960275210884, 11.675260643061987, 19.210049987231447, 2.554523149043554, 3.377569050511529, 10.0459500626362, 7.561683004151786, 6.728341910317571, 7.557766940141967, 5.027196865881877, 6.750892685182626, 6.751753401780529, 5.026208810390038, 3.3783598093220224, 5.0596423444313166, 6.73806211255471, 5.056537476338425, 5.012489223632233, 5.090129397954569, 4.2158696798475415, 4.234842782022774, 4.238160667648115, 4.225729404638221, 4.201656851386372, 3.404020954577855, 1.5921267217472526, 1.07822122107648, 1.0778286444196932, 1.0776318822770332, 0.565124736728702, 0.5651380896762118, 0.5649135017139025, 0.5649226764810624, 0.5649538620746013, 0.564810985536247, 0.5650941541715022, 0.5649261654770247, 0.5649136309359751, 0.5647553338969482, 0.5648076688363816, 0.5648346762495707, 0.564904413094791, 0.5648370022468788, 0.5648619421069051, 0.5650128734877896, 0.5646986054070439, 0.5647645517381323, 0.5647799722388049, 0.5649640706183426, 0.5645877328686886, 0.5648032322118864, 0.5648217109682789, 0.5648650865106736, 0.5647676099938523, 0.5648151206425726, 2.1050437597101093, 2.1048643994732363, 1.0777882409849702, 4.684079940059695, 0.5648599176277666, 2.108333236792126, 1.0782639505085114, 4.728387948930719, 1.0811857477197433, 1.0797724889849203, 2.1166513477582694, 1.5982618411656715, 1.59785229334334, 1.0796730741370089, 1.0817014299377652, 1.6123687563954643, 1.6151191189902807, 1.0815115596389813, 1.0850960076388911, 1.634668351032857, 1.0852517633104888, 1.0921923669819156, 1.0889342477895347, 1.113245399358236, 0.5785052085399397, 0.5778388103111544, 0.5775509896812827, 2.1356475766828096, 1.093844255235555, 1.093049779477489, 1.093218402173833, 1.0928822296721081, 0.5731223484520122, 0.5730657534537165, 0.5731883759500238, 0.5731847549430238, 0.5730805951120372, 0.5731784070048264, 0.5731286963902096, 0.5729874324134209, 0.5729084855200637, 0.5729853760390753, 0.5731126030257653, 0.5730184121399762, 0.5731467120176291, 0.5729811291790136, 0.5727647181310281, 0.572989265268816, 0.5729750494635568, 0.5729135370483476, 0.572865346362595, 0.573002721109643, 0.5729801456956308, 0.5729675392268162, 0.5728366465293361, 0.5728967284232613, 0.5729574361702484, 1.0938027701183206, 1.0946357805434725, 1.6161197975410322, 1.0936624002173345, 1.0947957307045326, 2.14913238556583, 3.7441051445967606, 4.318514157536092, 1.6252204163191106, 1.6260107793284853, 1.097812610684773, 1.0985759726049131, 1.6344599744768915, 1.0993189495967575, 1.6430046569210004, 1.105489681970175, 1.1069714337975918, 1.1054068905508672, 1.116396959722284, 1.122445650748666, 1.1732992518712995, 0.6020891527455885, 0.5951582324211294, 0.5900659789844291, 0.5866819467759087, 6.0578701796636825, 4.358939445403858, 4.356642143181113, 4.357228288120347, 3.5090712543856655, 3.505374440666031, 3.5043876427456984, 3.504322997954046, 2.6525586401180243, 2.6517597462749194, 2.6502302215589983, 2.6499108569912835, 2.64968773597532, 2.649702691113687, 2.649559411239652, 2.649040323211161, 2.648576231497956, 2.6477474273781163, 2.6482472184538755, 2.6478209970104074, 2.648103214944113, 2.646393504932057, 2.6463030504661256, 2.6460087719369625, 2.6469441917206464, 2.6464318576256116, 2.645780826682816, 2.6447151524681907, 1.7985536648579075, 1.7982210336351896, 3.5058614475106054, 7.784527258032673, 43.6855492398069, 46.444295633842444, 4.356704858277491, 24.042864583870987, 9.510216594222156, 12.070942483560007, 10.354227677662365, 11.234165827699027, 11.245457439590162, 6.931303326934385, 4.358910017550942, 9.518100364260818, 6.086625051353466, 7.776005723706219, 6.07560890346258, 6.935913368942061, 7.793645068198548, 6.086599000467277, 6.072899611299007, 4.352916866456199, 6.098060425542454, 5.223007781513718, 5.227575852649202, 4.3674793118354085, 4.365811572695545, 4.5491906511310045, 3.057366777312701, 2.3121496707048816, 2.3110613505601494, 2.311855271369491, 2.3114141510645116, 2.3107339210554225, 2.3105802589632916, 2.310548186190168, 2.310571881746431, 2.31037202528704, 1.5677780646273602, 1.5660522382795286, 1.5657558044771862, 1.5657969725143301, 1.5656865129262956, 1.5659864172899087, 1.5658523818201375, 1.5653615965866268, 1.5653710508742267, 1.5657902707408418, 1.56557258277699, 1.5653395764737357, 1.5654848613490058, 1.5649898875070647, 4.546380214548765, 3.055547963857715, 0.8207131234918593, 0.8206869746078013, 0.8209128004394606, 9.778494509013282, 3.0606717090387754, 1.5654049187652492, 6.798082281877333, 29.23362039959853, 6.047725872399997, 5.305862524725098, 8.316822392818134, 3.058616179370212, 6.802447529908919, 4.549092518019207, 5.308460419348129, 8.31238390397628, 3.812310790092011, 2.3111831792282094, 3.063656391731718, 2.3105986888403853, 3.8175357799225593, 4.580513783020338, 6.082785243009206, 3.8118531547023635, 3.0602298706866367, 3.0696207307874865, 3.071361755800194, 3.0867578836449034, 2.3395848165746362, 2.322331579426435, 2.316490026434939, 2.315801179859936, 0.0005792874528949999, 0.0005790225693705512, 0.000578804423175504, 0.0005787801847093876, 0.0005787428412352754, 0.0005786858402491692, 0.0005786033250882037, 0.0005787725884436909, 0.0005785938732461535, 0.000578543076843479, 0.0005786030351543985, 0.000578453255350622, 0.0005785251009475554, 0.0005784158538897487, 0.0005784898449968407, 0.0005784930342686981, 0.0005784662443850958, 0.0005783098540905604, 0.0005782451408652354, 0.0005785086327074189, 0.0005785003406005896, 0.000578430814474098, 0.0005781482449875309, 0.000578406981915309, 0.0005781080021753665, 0.0005782398060832193, 0.0005782268750355066, 0.0005782707710136168, 0.0005781438379936916, 0.0005781830950309184, 0.000578182573150069, 0.0005781955041977817, 0.0005782175391669784, 0.0005781926628464906, 0.0009293375249711236, 0.0007794508515940628, 0.0007276145723337843, 0.0006893534577279769, 0.0006668943153742493, 0.0006700922852458217, 0.0006367171351255754, 0.0006431716994841357, 0.0006479026073706653, 0.0006440884701762401, 0.0006331645182234583, 0.0006304249916846991, 0.0006388768520406564, 0.0006310094982360219, 0.0006284410906291034, 0.0006323103152465203, 0.0006237544266412502, 0.000624646552959911, 0.0006319750937809253, 0.0006059747579170063, 0.0006200915189196276, 0.0006199275323593954, 0.0006177715845837822, 0.0005829138869439259, 0.0005816323215380941, 0.0006095047019955552, 0.000582646046094664, 0.0006168144551059912, 0.0006128693838051289, 0.0006089785301258427, 0.0006089137589137566, 0.000602417849994572, 0.0006070825369999894, 0.000607050180387327, 6.259991008569798, 5.370571498527285, 5.365127872608031, 4.495176425476277, 4.486671634205155, 3.6150282903794717, 3.613810149086179, 3.6132983837849775, 3.6086842859356447, 2.7331323080151058, 2.73320194215294, 2.7333010719736124, 2.7336565405636923, 2.7330389556993193, 2.7309766905342885, 2.730278828759923, 2.7286076094519007, 2.729296044770926, 2.7244861199138843, 2.7252609137269923, 2.7224749400552124, 6.259470424971666, 1.8522087709467834, 1.8523267536781358, 1.851656867190586, 1.851747634833134, 1.8509959510395695, 1.8515434456473012, 1.8517403369322258, 1.8508227779325972, 6.241544347707011, 10.657863000838416, 8.892467322385064, 15.07665442606095, 5.375371692849782, 4.491296374826647, 8.01009758462006, 25.674319474939647, 15.060280369056146, 30.05803232312916, 8.897090542610533, 10.659063505537848, 12.424844148264118, 15.930828723666368, 15.957236178103395, 10.658409127089728, 9.785965750876962, 4.497473743866399, 28.281326722743025, 11.5443451057653, 8.890552839713429, 12.438386619716463, 28.297630233372377, 12.41540309712229, 8.89568995379453, 11.55357086883033, 8.901055735437428, 8.0218015932019, 6.262406005612068, 6.2647668765559335, 5.380025929154112, 0.0005782423702381612, 0.0005781643200560768, 0.0005778361149813386, 0.0005775212468619341, 0.0005773936759848274, 0.00057729631621089, 0.0005768669822226634, 0.0005769291440318718, 0.0005768698815607796, 0.0005767494430554384, 0.0005764620026746119, 0.0005764955190232336, 0.0005764752816431834, 0.0005764852553663027, 0.000576346145123494, 0.0005763680061328892, 0.0005763349536783661, 0.0005760676926908274, 0.0005760887418855499, 0.000576042178515406, 0.0005761104289346581, 0.0005760307551232288, 0.0005759898744557922, 0.0005758327303299017, 0.0005761809988244031, 0.0005757716122824151, 0.0005757439525967878, 0.0005758499523983111, 0.0005758273955477682, 0.0005759274227127723, 0.0005757882544832013, 0.0012729294655494452, 0.0010959433133542473, 0.0009650943865867145, 0.0008322973365522369, 0.0007482870430894069, 0.0007626741966756946, 0.0007520329299485973, 0.0007347331592776755, 0.0007170134484740233, 0.0007029435404643952, 0.0006875957781734936, 0.0007005962363256309, 0.000680680218912299, 0.0007068808996127704, 0.0006603156738924122, 0.0006755365031605925, 0.0006896599329518432, 0.000663891949471813, 0.0006546531505782175, 0.0006635371864599315, 0.0006459187785300545, 0.0006581735849055029, 0.000660027363710151, 0.0006560668678436095, 0.0006472623318130379, 0.0006532551477254145, 0.0006556219934030809, 0.0006527536782048603, 0.000647778413997697, 0.0006414522901754979], \"Total\": [149.0, 25.0, 15.0, 19.0, 84.0, 14.0, 20.0, 36.0, 8.0, 109.0, 18.0, 55.0, 19.0, 21.0, 41.0, 11.0, 13.0, 27.0, 13.0, 14.0, 23.0, 6.0, 9.0, 29.0, 41.0, 6.0, 8.0, 21.0, 7.0, 11.0, 0.9545233111783819, 0.9544331928738928, 0.9546445153639429, 0.9545259939241071, 0.9547404316481096, 0.954639250498948, 0.9545875700831932, 0.9545945181491948, 0.9545484875109919, 0.9547350884322542, 0.9546291589186436, 0.9547315680223205, 0.9545859188332994, 0.9549216717336246, 0.9548167699118015, 0.954626901855447, 0.9547054803705155, 0.9546819739344358, 0.9549210583212815, 0.9547579630656736, 0.9548076081501132, 0.9548867255041356, 0.954815822159636, 0.9548194970260027, 0.9548929872530866, 0.9546550478179004, 0.9549669050694934, 0.9546526066214207, 0.954749487979155, 0.9548416181865707, 149.53919210569504, 109.02450468116568, 84.254857869432, 1.262066489796355, 1.2624626223488884, 41.83149669475412, 36.42337546317505, 8.691489455308146, 2.0848990748329497, 1.2628621727421478, 25.043638328721325, 2.085181884267005, 1.2631077010716498, 1.2632454152433004, 1.263145658005838, 1.2631989618562922, 1.2633667820897359, 1.2633326305749124, 1.263463286973988, 1.2635106863820407, 1.2636270159714031, 1.2637750907962024, 1.2637795556724278, 14.497955612848973, 23.677116799909516, 29.94613789210696, 55.23583664023937, 4.564428962952381, 4.254100420032358, 1.263676167783625, 41.93784171800414, 9.016805913311078, 3.957712447395535, 5.505229929974439, 3.740394990234507, 36.945267539209034, 33.79128736338812, 18.502323234968827, 22.982075133126095, 21.029212172634395, 2.9131444164714715, 12.568953283974595, 19.731433389523794, 27.52950013906003, 19.399510023510906, 16.855641060538805, 18.80526378638327, 20.84329717658813, 21.22237387630291, 20.035909607725557, 27.592658964722848, 8.93070201790288, 21.74686155477635, 0.9549210583212815, 0.9545875700831932, 0.9545233111783819, 0.9547404316481096, 0.954626901855447, 0.9549205431883109, 0.9545484875109919, 0.9545259939241071, 0.9547288934135206, 0.9546819739344358, 0.9546839164984007, 0.9545859188332994, 0.9546526066214207, 0.9546291589186436, 0.9546445153639429, 0.954749487979155, 0.9546888978058274, 0.9547269271456938, 0.9548425482272026, 0.9547054803705155, 0.9547315680223205, 0.9544331928738928, 0.954776399031353, 0.9545945181491948, 0.9549669050694934, 0.955090061366377, 0.9548257524560316, 0.9549640082873434, 0.9547463043788011, 0.9548873980048602, 0.9550527711297777, 0.9549176848533916, 149.53919210569504, 109.02450468116568, 84.254857869432, 55.23583664023937, 1.3221890516869388, 21.74686155477635, 1.3223066657669407, 27.592658964722848, 18.80526378638327, 41.93784171800414, 41.83149669475412, 15.428420227219245, 36.42337546317505, 36.945267539209034, 20.035909607725557, 33.79128736338812, 19.399510023510906, 21.029212172634395, 2.2064838434010605, 3.0903665993535174, 2.2060174033043634, 3.0909178975665728, 16.855641060538805, 4.9306461870309635, 19.731433389523794, 22.982075133126095, 1.3229599034481756, 2.2059425467988905, 1.3226760076978357, 1.3225598853572635, 29.94613789210696, 20.84329717658813, 21.22237387630291, 17.317477358037763, 18.99552109886019, 10.861795448283969, 11.468035469472522, 12.568953283974595, 27.52950013906003, 18.502323234968827, 23.677116799909516, 8.691489455308146, 5.400899157566268, 5.396642352814274, 4.569621905493878, 4.564428962952381, 3.742798903014571, 3.7402299103992314, 3.7432200224619065, 3.7415935408152006, 3.744774399660571, 3.740394990234507, 2.917860979775495, 2.914578402555598, 2.916453039292911, 2.918280978645889, 2.9195204053056414, 2.9155976820877387, 2.9131444164714715, 2.9184121933566374, 2.91460916568404, 2.097056536763887, 2.0958823245548497, 2.0952558811338777, 2.0952845075093793, 2.095464408958363, 2.0966282854046248, 2.095097756453386, 2.091613245990772, 2.095120708307887, 2.0923979889120523, 4.254100420032358, 3.4419955985204025, 8.93070201790288, 9.016805913311078, 149.53919210569504, 109.02450468116568, 5.505229929974439, 36.42337546317505, 84.254857869432, 3.8011847502321, 6.012819158230108, 41.83149669475412, 27.52950013906003, 23.677116799909516, 36.945267539209034, 14.497955612848973, 33.79128736338812, 41.93784171800414, 18.502323234968827, 6.383568640779248, 21.029212172634395, 55.23583664023937, 22.982075133126095, 25.043638328721325, 29.94613789210696, 13.054274670678243, 18.80526378638327, 18.99552109886019, 19.399510023510906, 19.731433389523794, 15.812176913484901, 1.9862292290396888, 1.4704736474482292, 1.4705587779562659, 1.4711754918010291, 0.954776399031353, 0.9548581680714328, 0.954626901855447, 0.9547322317101656, 0.9548167699118015, 0.9545945181491948, 0.955077954070652, 0.9548004895736099, 0.9548076081501132, 0.9545859188332994, 0.9546888978058274, 0.9547409630268576, 0.9548606151093607, 0.954749487979155, 0.9548257524560316, 0.9550825935791037, 0.9545875700831932, 0.9547054803705155, 0.9547315680223205, 0.9550527711297777, 0.9544331928738928, 0.9548102468034642, 0.9548416181865707, 0.9549176848533916, 0.9547579630656736, 0.9548412885379318, 4.245749339776578, 4.976324023198164, 2.3539650994154875, 25.043638328721325, 0.9549909572992558, 14.497955612848973, 4.1225130767157285, 149.53919210569504, 5.348122882874382, 5.355507176520238, 36.42337546317505, 19.399510023510906, 20.035909607725557, 6.383568640779248, 9.160456545666516, 41.83149669475412, 55.23583664023937, 12.568953283974595, 13.525080244826416, 109.02450468116568, 18.80526378638327, 19.731433389523794, 27.592658964722848, 84.254857869432, 33.79128736338812, 22.982075133126095, 36.945267539209034, 2.532930553983999, 1.4857273610849437, 1.4853731303246194, 1.4858164331321806, 1.4859897236608912, 0.96234053916983, 0.9622995881653914, 0.9625073408550261, 0.9625064283934188, 0.962370984706799, 0.9625591520038885, 0.9626111800211733, 0.9624049798403511, 0.9622940128785812, 0.9624264601076922, 0.9626637636845721, 0.962506154019966, 0.9627679699116757, 0.9624910273241047, 0.9621508240536112, 0.9625413506241074, 0.9625353065018933, 0.9624445117728562, 0.9624061739587921, 0.9626428327750897, 0.9626081274989631, 0.9626221009021771, 0.9624081427008901, 0.9625108849045811, 0.9626210045873382, 2.2345492538423883, 2.369610500835671, 4.292626441377101, 3.253949754785372, 3.957712447395535, 19.731433389523794, 84.254857869432, 149.53919210569504, 18.502323234968827, 20.035909607725557, 6.371593413004605, 9.016805913311078, 41.83149669475412, 11.468035469472522, 55.23583664023937, 19.399510023510906, 21.22237387630291, 22.982075133126095, 29.94613789210696, 41.93784171800414, 109.02450468116568, 36.945267539209034, 33.79128736338812, 27.52950013906003, 13.054274670678243, 6.458679631869608, 4.7389547821346785, 4.739695719219956, 4.740767720841057, 3.8797028709625905, 3.8792845882738765, 3.879443540852683, 3.8800654215509156, 3.020218961803388, 3.01995576334011, 3.0183663786161006, 3.0187647829339324, 3.0186864797077884, 3.0189451030298757, 3.0189103682343155, 3.0185019550076957, 3.0189595796086883, 3.0182055525316818, 3.0189122950212846, 3.0188243915154063, 3.019380266053345, 3.0185343836483174, 3.018494200602452, 3.0183493700343313, 3.0200248438816883, 3.0194663931295245, 3.0193053164970842, 3.018535225237538, 2.159590805697538, 2.1595270868719445, 4.627694395122219, 11.713114619313462, 109.02450468116568, 149.53919210569504, 6.317266049878025, 84.254857869432, 21.22237387630291, 36.945267539209034, 33.79128736338812, 41.93784171800414, 55.23583664023937, 20.84329717658813, 8.214870668052486, 41.83149669475412, 17.317477358037763, 29.94613789210696, 18.80526378638327, 27.52950013906003, 36.42337546317505, 21.74686155477635, 23.677116799909516, 10.88833302884923, 27.592658964722848, 20.035909607725557, 21.029212172634395, 11.468035469472522, 16.855641060538805, 4.9306461870309635, 3.4341763624530413, 2.685850766150658, 2.6849093788955503, 2.685878362631825, 2.6854731264159737, 2.684799832412631, 2.684674912650935, 2.6854224912870963, 2.685528085401113, 2.6864188249714314, 1.9369895262937207, 1.936515846931271, 1.936156837892311, 1.936269014353761, 1.9362776644041269, 1.9366502349817716, 1.936557540046913, 1.9361690720052525, 1.9362195788966217, 1.9368445638194893, 1.9365877012789197, 1.9365121378696362, 1.9366965793943274, 1.9364716845825942, 5.814802457422954, 4.315593514346688, 1.1875913504944995, 1.1875862980047667, 1.187934955854657, 15.428420227219245, 5.348122882874382, 2.7658348136076722, 19.731433389523794, 149.53919210569504, 21.74686155477635, 19.399510023510906, 55.23583664023937, 7.802401393151954, 41.93784171800414, 18.502323234968827, 27.592658964722848, 109.02450468116568, 17.317477358037763, 5.2240208395310175, 10.861795448283969, 5.311124272913539, 21.22237387630291, 36.945267539209034, 84.254857869432, 22.982075133126095, 16.855641060538805, 18.99552109886019, 33.79128736338812, 41.83149669475412, 36.42337546317505, 18.80526378638327, 6.734325260871769, 7.60399841277018, 0.9545859188332994, 0.9544331928738928, 0.9545484875109919, 0.9545875700831932, 0.9548257524560316, 0.9547579630656736, 0.954626901855447, 0.9549210583212815, 0.9546888978058274, 0.9546291589186436, 0.9547315680223205, 0.9547322317101656, 0.9548581680714328, 0.9546839164984007, 0.9548167699118015, 0.9548412885379318, 0.9548416181865707, 0.9547404316481096, 0.954639250498948, 0.9550825935791037, 0.955077954070652, 0.9549640082873434, 0.9545259939241071, 0.9549909572992558, 0.9545233111783819, 0.9547409630268576, 0.954749487979155, 0.9548425482272026, 0.9546445153639429, 0.9547269271456938, 0.9547463043788011, 0.9548004895736099, 0.9548929872530866, 0.9548873980048602, 149.53919210569504, 109.02450468116568, 84.254857869432, 55.23583664023937, 27.592658964722848, 41.83149669475412, 15.428420227219245, 21.74686155477635, 36.945267539209034, 33.79128736338812, 21.029212172634395, 19.399510023510906, 41.93784171800414, 22.982075133126095, 20.035909607725557, 29.94613789210696, 16.855641060538805, 19.731433389523794, 36.42337546317505, 5.814802457422954, 18.80526378638327, 20.84329717658813, 18.99552109886019, 1.322599184696168, 1.1874143222336464, 12.568953283974595, 1.3225943797838207, 25.043638328721325, 17.317477358037763, 15.812176913484901, 21.22237387630291, 7.451759082063885, 18.502323234968827, 27.52950013906003, 6.6254811935780085, 5.745935844488441, 5.7422494952924845, 4.857366796789633, 4.859237916768805, 3.9735422632960438, 3.9729768606813733, 3.9733797948321783, 3.97535814449959, 3.0903665993535174, 3.090468648277184, 3.0909178975665728, 3.091914923437538, 3.091665462667795, 3.08967079040344, 3.090985591785513, 3.0892566713595766, 3.091642852750223, 3.0908197189225604, 3.0923174364844845, 3.0912352714676765, 7.451759082063885, 2.2066092264974877, 2.2068199681353424, 2.2062835825294487, 2.206422711150198, 2.205537209110651, 2.206191582350897, 2.2064838434010605, 2.2060174033043634, 8.277924743695094, 14.936224906342614, 13.525080244826416, 25.043638328721325, 7.9203579092795655, 6.430848861485764, 13.054274670678243, 55.23583664023937, 29.94613789210696, 84.254857869432, 15.812176913484901, 20.84329717658813, 27.592658964722848, 41.83149669475412, 41.93784171800414, 23.677116799909516, 21.029212172634395, 6.543442351505533, 109.02450468116568, 27.52950013906003, 18.99552109886019, 33.79128736338812, 149.53919210569504, 36.42337546317505, 20.035909607725557, 36.945267539209034, 22.982075133126095, 21.74686155477635, 14.497955612848973, 18.502323234968827, 16.855641060538805, 0.9546526066214207, 0.9546839164984007, 0.9546550478179004, 0.9546888978058274, 0.9546819739344358, 0.9547288934135206, 0.9545259939241071, 0.9547054803705155, 0.9547269271456938, 0.9548873980048602, 0.9544331928738928, 0.9545484875109919, 0.9547463043788011, 0.9548004895736099, 0.9545945181491948, 0.9547409630268576, 0.9548102468034642, 0.9545233111783819, 0.954639250498948, 0.9546291589186436, 0.9548606151093607, 0.9547322317101656, 0.954749487979155, 0.9545859188332994, 0.9551717414905965, 0.9545875700831932, 0.954626901855447, 0.954815822159636, 0.9548194970260027, 0.9549909572992558, 0.9548867255041356, 149.53919210569504, 109.02450468116568, 84.254857869432, 55.23583664023937, 29.94613789210696, 41.93784171800414, 36.945267539209034, 36.42337546317505, 25.043638328721325, 27.52950013906003, 18.80526378638327, 27.592658964722848, 19.399510023510906, 41.83149669475412, 12.568953283974595, 21.22237387630291, 33.79128736338812, 16.855641060538805, 14.497955612848973, 21.74686155477635, 11.468035469472522, 18.502323234968827, 20.035909607725557, 17.317477358037763, 13.525080244826416, 20.84329717658813, 22.982075133126095, 23.677116799909516, 19.731433389523794, 15.428420227219245], \"Category\": [\"Default\", \"Default\", \"Default\", \"Default\", \"Default\", \"Default\", \"Default\", \"Default\", \"Default\", \"Default\", \"Default\", \"Default\", \"Default\", \"Default\", \"Default\", \"Default\", \"Default\", \"Default\", \"Default\", \"Default\", \"Default\", \"Default\", \"Default\", \"Default\", \"Default\", \"Default\", \"Default\", \"Default\", \"Default\", \"Default\", \"Topic1\", \"Topic1\", \"Topic1\", \"Topic1\", \"Topic1\", \"Topic1\", \"Topic1\", \"Topic1\", \"Topic1\", \"Topic1\", \"Topic1\", \"Topic1\", \"Topic1\", \"Topic1\", \"Topic1\", \"Topic1\", \"Topic1\", \"Topic1\", \"Topic1\", \"Topic1\", \"Topic1\", \"Topic1\", \"Topic1\", \"Topic1\", \"Topic1\", \"Topic1\", \"Topic1\", \"Topic1\", \"Topic1\", \"Topic1\", \"Topic1\", \"Topic1\", \"Topic1\", \"Topic1\", \"Topic1\", \"Topic1\", \"Topic1\", \"Topic1\", \"Topic1\", \"Topic1\", \"Topic1\", \"Topic1\", \"Topic1\", \"Topic1\", \"Topic1\", \"Topic1\", \"Topic1\", \"Topic1\", \"Topic1\", \"Topic1\", \"Topic1\", \"Topic1\", \"Topic1\", \"Topic1\", \"Topic1\", \"Topic1\", \"Topic1\", \"Topic1\", \"Topic1\", \"Topic1\", \"Topic1\", \"Topic1\", \"Topic1\", \"Topic1\", \"Topic1\", \"Topic1\", \"Topic1\", \"Topic1\", \"Topic1\", \"Topic1\", \"Topic1\", \"Topic1\", \"Topic1\", \"Topic1\", \"Topic1\", \"Topic1\", \"Topic1\", \"Topic1\", \"Topic1\", \"Topic1\", \"Topic1\", \"Topic1\", \"Topic1\", \"Topic2\", \"Topic2\", \"Topic2\", \"Topic2\", \"Topic2\", \"Topic2\", \"Topic2\", \"Topic2\", \"Topic2\", \"Topic2\", \"Topic2\", \"Topic2\", \"Topic2\", \"Topic2\", \"Topic2\", \"Topic2\", \"Topic2\", \"Topic2\", \"Topic2\", \"Topic2\", \"Topic2\", \"Topic2\", \"Topic2\", \"Topic2\", \"Topic2\", \"Topic2\", \"Topic2\", \"Topic2\", \"Topic2\", \"Topic2\", \"Topic2\", \"Topic2\", \"Topic2\", \"Topic2\", \"Topic2\", \"Topic2\", \"Topic2\", \"Topic2\", \"Topic2\", \"Topic2\", \"Topic2\", \"Topic2\", \"Topic2\", \"Topic2\", \"Topic2\", \"Topic2\", \"Topic2\", \"Topic2\", \"Topic2\", \"Topic2\", \"Topic2\", \"Topic2\", \"Topic2\", \"Topic2\", \"Topic2\", \"Topic2\", \"Topic2\", \"Topic2\", \"Topic2\", \"Topic2\", \"Topic2\", \"Topic2\", \"Topic2\", \"Topic2\", \"Topic2\", \"Topic2\", \"Topic2\", \"Topic2\", \"Topic2\", \"Topic2\", \"Topic2\", \"Topic2\", \"Topic2\", \"Topic3\", \"Topic3\", \"Topic3\", \"Topic3\", \"Topic3\", \"Topic3\", \"Topic3\", \"Topic3\", \"Topic3\", \"Topic3\", \"Topic3\", \"Topic3\", \"Topic3\", \"Topic3\", \"Topic3\", \"Topic3\", \"Topic3\", \"Topic3\", \"Topic3\", \"Topic3\", \"Topic3\", \"Topic3\", \"Topic3\", \"Topic3\", \"Topic3\", \"Topic3\", \"Topic3\", \"Topic3\", \"Topic3\", \"Topic3\", \"Topic3\", \"Topic3\", \"Topic3\", \"Topic3\", \"Topic3\", \"Topic3\", \"Topic3\", \"Topic3\", \"Topic3\", \"Topic3\", \"Topic3\", \"Topic3\", \"Topic3\", \"Topic3\", \"Topic3\", \"Topic3\", \"Topic3\", \"Topic3\", \"Topic3\", \"Topic3\", \"Topic3\", \"Topic3\", \"Topic3\", \"Topic3\", \"Topic3\", \"Topic3\", \"Topic3\", \"Topic3\", \"Topic3\", \"Topic3\", \"Topic3\", \"Topic4\", \"Topic4\", \"Topic4\", \"Topic4\", \"Topic4\", \"Topic4\", \"Topic4\", \"Topic4\", \"Topic4\", \"Topic4\", \"Topic4\", \"Topic4\", \"Topic4\", \"Topic4\", \"Topic4\", \"Topic4\", \"Topic4\", \"Topic4\", \"Topic4\", \"Topic4\", \"Topic4\", \"Topic4\", \"Topic4\", \"Topic4\", \"Topic4\", \"Topic4\", \"Topic4\", \"Topic4\", \"Topic4\", \"Topic4\", \"Topic4\", \"Topic4\", \"Topic4\", \"Topic4\", \"Topic4\", \"Topic4\", \"Topic4\", \"Topic4\", \"Topic4\", \"Topic4\", \"Topic4\", \"Topic4\", \"Topic4\", \"Topic4\", \"Topic4\", \"Topic4\", \"Topic4\", \"Topic4\", \"Topic4\", \"Topic4\", \"Topic4\", \"Topic4\", \"Topic4\", \"Topic4\", \"Topic4\", \"Topic4\", \"Topic4\", \"Topic5\", \"Topic5\", \"Topic5\", \"Topic5\", \"Topic5\", \"Topic5\", \"Topic5\", \"Topic5\", \"Topic5\", \"Topic5\", \"Topic5\", \"Topic5\", \"Topic5\", \"Topic5\", \"Topic5\", \"Topic5\", \"Topic5\", \"Topic5\", \"Topic5\", \"Topic5\", \"Topic5\", \"Topic5\", \"Topic5\", \"Topic5\", \"Topic5\", \"Topic5\", \"Topic5\", \"Topic5\", \"Topic5\", \"Topic5\", \"Topic5\", \"Topic5\", \"Topic5\", \"Topic5\", \"Topic5\", \"Topic5\", \"Topic5\", \"Topic5\", \"Topic5\", \"Topic5\", \"Topic5\", \"Topic5\", \"Topic5\", \"Topic5\", \"Topic5\", \"Topic5\", \"Topic5\", \"Topic5\", \"Topic5\", \"Topic5\", \"Topic5\", \"Topic5\", \"Topic5\", \"Topic5\", \"Topic5\", \"Topic6\", \"Topic6\", \"Topic6\", \"Topic6\", \"Topic6\", \"Topic6\", \"Topic6\", \"Topic6\", \"Topic6\", \"Topic6\", \"Topic6\", \"Topic6\", \"Topic6\", \"Topic6\", \"Topic6\", \"Topic6\", \"Topic6\", \"Topic6\", \"Topic6\", \"Topic6\", \"Topic6\", \"Topic6\", \"Topic6\", \"Topic6\", \"Topic6\", \"Topic6\", \"Topic6\", \"Topic6\", \"Topic6\", \"Topic6\", \"Topic6\", \"Topic6\", \"Topic6\", \"Topic6\", \"Topic6\", \"Topic6\", \"Topic6\", \"Topic6\", \"Topic6\", \"Topic6\", \"Topic6\", \"Topic6\", \"Topic6\", \"Topic6\", \"Topic6\", \"Topic6\", \"Topic6\", \"Topic6\", \"Topic6\", \"Topic6\", \"Topic6\", \"Topic6\", \"Topic6\", \"Topic6\", \"Topic6\", \"Topic6\", \"Topic6\", \"Topic7\", \"Topic7\", \"Topic7\", \"Topic7\", \"Topic7\", \"Topic7\", \"Topic7\", \"Topic7\", \"Topic7\", \"Topic7\", \"Topic7\", \"Topic7\", \"Topic7\", \"Topic7\", \"Topic7\", \"Topic7\", \"Topic7\", \"Topic7\", \"Topic7\", \"Topic7\", \"Topic7\", \"Topic7\", \"Topic7\", \"Topic7\", \"Topic7\", \"Topic7\", \"Topic7\", \"Topic7\", \"Topic7\", \"Topic7\", \"Topic7\", \"Topic7\", \"Topic7\", \"Topic7\", \"Topic7\", \"Topic7\", \"Topic7\", \"Topic7\", \"Topic7\", \"Topic7\", \"Topic7\", \"Topic7\", \"Topic7\", \"Topic7\", \"Topic7\", \"Topic7\", \"Topic7\", \"Topic7\", \"Topic7\", \"Topic7\", \"Topic7\", \"Topic7\", \"Topic7\", \"Topic7\", \"Topic7\", \"Topic7\", \"Topic7\", \"Topic7\", \"Topic7\", \"Topic8\", \"Topic8\", \"Topic8\", \"Topic8\", \"Topic8\", \"Topic8\", \"Topic8\", \"Topic8\", \"Topic8\", \"Topic8\", \"Topic8\", \"Topic8\", \"Topic8\", \"Topic8\", \"Topic8\", \"Topic8\", \"Topic8\", \"Topic8\", \"Topic8\", \"Topic8\", \"Topic8\", \"Topic8\", \"Topic8\", \"Topic8\", \"Topic8\", \"Topic8\", \"Topic8\", \"Topic8\", \"Topic8\", \"Topic8\", \"Topic8\", \"Topic8\", \"Topic8\", \"Topic8\", \"Topic8\", \"Topic8\", \"Topic8\", \"Topic8\", \"Topic8\", \"Topic8\", \"Topic8\", \"Topic8\", \"Topic8\", \"Topic8\", \"Topic8\", \"Topic8\", \"Topic8\", \"Topic8\", \"Topic8\", \"Topic8\", \"Topic8\", \"Topic8\", \"Topic8\", \"Topic8\", \"Topic8\", \"Topic8\", \"Topic8\", \"Topic8\", \"Topic8\", \"Topic8\", \"Topic8\", \"Topic8\", \"Topic8\", \"Topic8\", \"Topic8\", \"Topic8\", \"Topic8\", \"Topic8\", \"Topic9\", \"Topic9\", \"Topic9\", \"Topic9\", \"Topic9\", \"Topic9\", \"Topic9\", \"Topic9\", \"Topic9\", \"Topic9\", \"Topic9\", \"Topic9\", \"Topic9\", \"Topic9\", \"Topic9\", \"Topic9\", \"Topic9\", \"Topic9\", \"Topic9\", \"Topic9\", \"Topic9\", \"Topic9\", \"Topic9\", \"Topic9\", \"Topic9\", \"Topic9\", \"Topic9\", \"Topic9\", \"Topic9\", \"Topic9\", \"Topic9\", \"Topic9\", \"Topic9\", \"Topic9\", \"Topic9\", \"Topic9\", \"Topic9\", \"Topic9\", \"Topic9\", \"Topic9\", \"Topic9\", \"Topic9\", \"Topic9\", \"Topic9\", \"Topic9\", \"Topic9\", \"Topic9\", \"Topic9\", \"Topic9\", \"Topic9\", \"Topic9\", \"Topic9\", \"Topic9\", \"Topic9\", \"Topic9\", \"Topic9\", \"Topic9\", \"Topic9\", \"Topic9\", \"Topic9\", \"Topic9\", \"Topic10\", \"Topic10\", \"Topic10\", \"Topic10\", \"Topic10\", \"Topic10\", \"Topic10\", \"Topic10\", \"Topic10\", \"Topic10\", \"Topic10\", \"Topic10\", \"Topic10\", \"Topic10\", \"Topic10\", \"Topic10\", \"Topic10\", \"Topic10\", \"Topic10\", \"Topic10\", \"Topic10\", \"Topic10\", \"Topic10\", \"Topic10\", \"Topic10\", \"Topic10\", \"Topic10\", \"Topic10\", \"Topic10\", \"Topic10\", \"Topic10\", \"Topic10\", \"Topic10\", \"Topic10\", \"Topic10\", \"Topic10\", \"Topic10\", \"Topic10\", \"Topic10\", \"Topic10\", \"Topic10\", \"Topic10\", \"Topic10\", \"Topic10\", \"Topic10\", \"Topic10\", \"Topic10\", \"Topic10\", \"Topic10\", \"Topic10\", \"Topic10\", \"Topic10\", \"Topic10\", \"Topic10\", \"Topic10\", \"Topic10\", \"Topic10\", \"Topic10\", \"Topic10\", \"Topic10\", \"Topic10\"], \"logprob\": [30.0, 29.0, 28.0, 27.0, 26.0, 25.0, 24.0, 23.0, 22.0, 21.0, 20.0, 19.0, 18.0, 17.0, 16.0, 15.0, 14.0, 13.0, 12.0, 11.0, 10.0, 9.0, 8.0, 7.0, 6.0, 5.0, 4.0, 3.0, 2.0, 1.0, -7.4655, -7.4664, -7.4667, -7.4668, -7.4671, -7.4675, -7.4678, -7.4679, -7.4682, -7.4681, -7.4684, -7.4684, -7.4693, -7.4691, -7.4692, -7.4697, -7.4697, -7.4697, -7.4694, -7.4697, -7.4698, -7.4697, -7.4698, -7.4698, -7.4698, -7.4701, -7.4699, -7.4703, -7.4702, -7.4702, -6.1597, -6.4398, -6.5515, -7.4141, -7.4195, -6.863, -6.9083, -7.1319, -7.3501, -7.4254, -6.9851, -7.3569, -7.4286, -7.4293, -7.4294, -7.4297, -7.43, -7.4302, -7.432, -7.4322, -7.4327, -7.4337, -7.4341, -7.1453, -7.0963, -7.0737, -7.0116, -7.2913, -7.2997, -7.4342, -7.049, -7.2186, -7.3115, -7.2842, -7.3233, -7.0975, -7.1077, -7.168, -7.1553, -7.1675, -7.3511, -7.22, -7.1809, -7.1544, -7.191, -7.2031, -7.2115, -7.2097, -7.2115, -7.2467, -7.2586, -7.2821, -7.2767, -7.4503, -7.4507, -7.4508, -7.4506, -7.4508, -7.4505, -7.4509, -7.451, -7.4508, -7.4509, -7.4509, -7.451, -7.451, -7.451, -7.451, -7.4509, -7.451, -7.451, -7.4509, -7.4511, -7.451, -7.4514, -7.451, -7.4512, -7.4508, -7.4507, -7.451, -7.4509, -7.4511, -7.451, -7.4509, -7.451, -7.2295, -7.2585, -7.3196, -7.3631, -7.4441, -7.3884, -7.4445, -7.3907, -7.4026, -7.3946, -7.3947, -7.4059, -7.3994, -7.3993, -7.4095, -7.4052, -7.4117, -7.4136, -7.4367, -7.4335, -7.4369, -7.4336, -7.4187, -7.4315, -7.4177, -7.4162, -7.4447, -7.4401, -7.4453, -7.4454, -7.415, -7.4185, -7.4192, -7.4224, -7.425, -7.4254, -7.4259, -7.427, -7.4276, -7.4291, -7.4301, -4.6217, -5.1243, -5.1251, -5.3037, -5.3052, -5.522, -5.5229, -5.5221, -5.5226, -5.5223, -5.5234, -5.8011, -5.8022, -5.8017, -5.8011, -5.8007, -5.8021, -5.8031, -5.8016, -5.803, -6.1866, -6.1876, -6.1879, -6.1879, -6.188, -6.1875, -6.1887, -6.1904, -6.1888, -6.1901, -5.5236, -5.8016, -5.1239, -5.1232, -3.1405, -3.4826, -5.5224, -4.2807, -3.7827, -5.8003, -5.521, -4.431, -4.7151, -4.8318, -4.7156, -5.1233, -4.8285, -4.8284, -5.1235, -5.5208, -5.1169, -4.8304, -5.1175, -5.1262, -5.1109, -5.2993, -5.2948, -5.294, -5.297, -5.3027, -5.5132, -4.7553, -5.1451, -5.1454, -5.1456, -5.7911, -5.791, -5.7914, -5.7914, -5.7914, -5.7916, -5.7911, -5.7914, -5.7914, -5.7917, -5.7916, -5.7916, -5.7915, -5.7916, -5.7915, -5.7913, -5.7918, -5.7917, -5.7917, -5.7914, -5.792, -5.7916, -5.7916, -5.7915, -5.7917, -5.7916, -4.476, -4.4761, -5.1455, -3.6762, -5.7915, -4.4745, -5.145, -3.6668, -5.1423, -5.1436, -4.4705, -4.7514, -4.7517, -5.1437, -5.1418, -4.7427, -4.741, -5.142, -5.1387, -4.7289, -5.1386, -5.1322, -5.1352, -5.1131, -5.7677, -5.7688, -5.7693, -4.4987, -5.1678, -5.1685, -5.1684, -5.1687, -5.8142, -5.8143, -5.814, -5.814, -5.8142, -5.8141, -5.8141, -5.8144, -5.8145, -5.8144, -5.8142, -5.8143, -5.8141, -5.8144, -5.8148, -5.8144, -5.8144, -5.8145, -5.8146, -5.8144, -5.8144, -5.8144, -5.8147, -5.8146, -5.8144, -5.1678, -5.1671, -4.7775, -5.168, -5.1669, -4.4924, -3.9373, -3.7946, -4.7719, -4.7714, -5.1642, -5.1635, -4.7662, -5.1628, -4.761, -5.1572, -5.1559, -5.1573, -5.1474, -5.142, -5.0977, -5.7649, -5.7764, -5.785, -5.7908, -5.1418, -5.4709, -5.4714, -5.4713, -5.6878, -5.6888, -5.6891, -5.6891, -5.9676, -5.9679, -5.9685, -5.9686, -5.9687, -5.9687, -5.9687, -5.9689, -5.9691, -5.9694, -5.9692, -5.9694, -5.9693, -5.9699, -5.97, -5.9701, -5.9697, -5.9699, -5.9702, -5.9706, -6.3561, -6.3563, -5.6887, -4.891, -3.1661, -3.1049, -5.4714, -3.7633, -4.6908, -4.4523, -4.6057, -4.5242, -4.5232, -5.0071, -5.4709, -4.6899, -5.137, -4.8921, -5.1388, -5.0064, -4.8898, -5.137, -5.1393, -5.4723, -5.1351, -5.29, -5.2892, -5.4689, -5.4693, -4.7273, -5.1247, -5.404, -5.4045, -5.4042, -5.4044, -5.4047, -5.4047, -5.4047, -5.4047, -5.4048, -5.7926, -5.7937, -5.7939, -5.7938, -5.7939, -5.7937, -5.7938, -5.7941, -5.7941, -5.7938, -5.794, -5.7941, -5.794, -5.7943, -4.7279, -5.1253, -6.4398, -6.4398, -6.4396, -3.962, -5.1236, -5.7941, -4.3256, -2.8669, -4.4425, -4.5734, -4.1239, -5.1243, -4.3249, -4.7273, -4.5729, -4.1245, -4.904, -5.4045, -5.1226, -5.4047, -4.9026, -4.7204, -4.4368, -4.9041, -5.1237, -5.1207, -5.1201, -5.1151, -5.3922, -5.3996, -5.4022, -5.4025, -7.4499, -7.4504, -7.4507, -7.4508, -7.4509, -7.4509, -7.4511, -7.4508, -7.4511, -7.4512, -7.4511, -7.4514, -7.4512, -7.4514, -7.4513, -7.4513, -7.4513, -7.4516, -7.4517, -7.4513, -7.4513, -7.4514, -7.4519, -7.4514, -7.4519, -7.4517, -7.4517, -7.4517, -7.4519, -7.4518, -7.4518, -7.4518, -7.4518, -7.4518, -6.9772, -7.1531, -7.2219, -7.276, -7.3091, -7.3043, -7.3554, -7.3453, -7.338, -7.3439, -7.361, -7.3653, -7.352, -7.3644, -7.3685, -7.3623, -7.376, -7.3745, -7.3629, -7.4049, -7.3818, -7.3821, -7.3856, -7.4437, -7.4459, -7.3991, -7.4441, -7.3871, -7.3936, -7.3999, -7.4, -7.4108, -7.403, -7.4031, -5.3406, -5.4938, -5.4948, -5.6717, -5.6736, -5.8896, -5.89, -5.8901, -5.8914, -6.1693, -6.1693, -6.1692, -6.1691, -6.1693, -6.1701, -6.1703, -6.1709, -6.1707, -6.1725, -6.1722, -6.1732, -5.3406, -6.5584, -6.5583, -6.5587, -6.5586, -6.559, -6.5587, -6.5586, -6.5591, -5.3435, -4.8084, -4.9895, -4.4616, -5.4929, -5.6726, -5.094, -3.9292, -4.4627, -3.7716, -4.989, -4.8083, -4.655, -4.4065, -4.4048, -4.8084, -4.8938, -5.6712, -3.8325, -4.7285, -4.9897, -4.6539, -3.832, -4.6558, -4.9892, -4.7277, -4.9886, -5.0926, -5.3402, -5.3398, -5.492, -7.4517, -7.4519, -7.4524, -7.453, -7.4532, -7.4534, -7.4541, -7.454, -7.4541, -7.4543, -7.4548, -7.4547, -7.4548, -7.4548, -7.455, -7.455, -7.455, -7.4555, -7.4554, -7.4555, -7.4554, -7.4555, -7.4556, -7.4559, -7.4553, -7.456, -7.456, -7.4559, -7.4559, -7.4557, -7.456, -6.6626, -6.8123, -6.9395, -7.0875, -7.1939, -7.1749, -7.1889, -7.2122, -7.2366, -7.2564, -7.2785, -7.2598, -7.2886, -7.2508, -7.319, -7.2962, -7.2755, -7.3136, -7.3276, -7.3141, -7.341, -7.3222, -7.3194, -7.3254, -7.339, -7.3297, -7.3261, -7.3305, -7.3382, -7.348], \"loglift\": [30.0, 29.0, 28.0, 27.0, 26.0, 25.0, 24.0, 23.0, 22.0, 21.0, 20.0, 19.0, 18.0, 17.0, 16.0, 15.0, 14.0, 13.0, 12.0, 11.0, 10.0, 9.0, 8.0, 7.0, 6.0, 5.0, 4.0, 3.0, 2.0, 1.0, 0.8952, 0.8944, 0.8938, 0.8938, 0.8933, 0.893, 0.8928, 0.8926, 0.8924, 0.8923, 0.8922, 0.892, 0.8913, 0.8911, 0.8911, 0.8908, 0.8908, 0.8908, 0.8908, 0.8907, 0.8905, 0.8905, 0.8905, 0.8905, 0.8904, 0.8904, 0.8903, 0.8902, 0.8902, 0.8901, -2.8531, -2.8173, -2.6712, 0.6672, 0.6615, -2.2825, -2.1894, -0.9801, 0.2293, 0.6553, -1.8916, 0.2223, 0.6519, 0.6511, 0.6511, 0.6508, 0.6503, 0.6501, 0.6483, 0.648, 0.6474, 0.6463, 0.6459, -1.5052, -1.9467, -2.1591, -2.7091, -0.4955, -0.4334, 0.6459, -2.4711, -1.1036, -0.3731, -0.6758, -0.3284, -2.3928, -2.3138, -1.7718, -1.9759, -1.8993, -0.1063, -1.4371, -1.849, -2.1556, -1.8421, -1.7137, -1.8315, -1.9326, -1.9525, -1.9302, -2.2621, -1.1575, -2.042, 0.9099, 0.9099, 0.9098, 0.9098, 0.9098, 0.9098, 0.9098, 0.9097, 0.9096, 0.9096, 0.9096, 0.9095, 0.9095, 0.9095, 0.9095, 0.9095, 0.9095, 0.9094, 0.9094, 0.9094, 0.9094, 0.9094, 0.9094, 0.9094, 0.9094, 0.9093, 0.9093, 0.9093, 0.9093, 0.9093, 0.9092, 0.9092, -3.9229, -3.636, -3.4393, -3.0606, 0.5907, -2.1538, 0.5903, -2.3941, -2.0227, -2.8167, -2.8143, -1.828, -2.6805, -2.6947, -2.093, -2.6113, -2.0629, -2.1454, 0.086, -0.2477, 0.086, -0.248, -1.9293, -0.7129, -2.0858, -2.2368, 0.5895, 0.0829, 0.5892, 0.5892, -2.5003, -2.1414, -2.1601, -1.96, -2.0551, -1.4966, -1.5514, -1.6441, -2.4288, -2.0329, -2.2805, 1.53, 1.5032, 1.5032, 1.491, 1.4906, 1.4722, 1.4721, 1.4721, 1.472, 1.4715, 1.4715, 1.4422, 1.4421, 1.442, 1.442, 1.442, 1.442, 1.4417, 1.4415, 1.4413, 1.387, 1.3865, 1.3865, 1.3865, 1.3864, 1.3863, 1.3858, 1.3857, 1.3857, 1.3856, 1.3426, 1.2765, 1.0007, 0.9918, 0.166, 0.1399, 1.086, 0.4382, 0.0975, 1.1785, 0.9992, 0.1495, 0.2838, 0.3178, -0.0109, 0.5168, -0.0346, -0.2504, 0.2727, 0.9396, 0.1513, -0.5279, 0.0619, -0.0328, -0.1962, 0.4457, 0.0851, 0.0759, 0.0519, 0.0292, 0.0401, 2.8726, 2.7835, 2.783, 2.7824, 2.5693, 2.5692, 2.5691, 2.569, 2.569, 2.5689, 2.5689, 2.5689, 2.5689, 2.5688, 2.5688, 2.5688, 2.5688, 2.5688, 2.5688, 2.5688, 2.5687, 2.5687, 2.5687, 2.5687, 2.5687, 2.5687, 2.5687, 2.5687, 2.5687, 2.5687, 2.3922, 2.2333, 2.3125, 1.4173, 2.5686, 1.1656, 1.7526, -0.3602, 1.495, 1.4924, 0.2484, 0.5974, 0.5649, 1.3167, 0.9574, -0.1622, -0.4385, 0.6409, 0.5709, -1.1064, 0.2414, 0.1997, -0.1386, -1.2328, -0.9738, -0.5894, -1.0647, 2.886, 2.7504, 2.7499, 2.7498, 2.7493, 2.5383, 2.5383, 2.5383, 2.5383, 2.5382, 2.5382, 2.5381, 2.538, 2.538, 2.538, 2.538, 2.538, 2.5379, 2.5379, 2.5379, 2.5379, 2.5379, 2.5379, 2.5378, 2.5378, 2.5378, 2.5378, 2.5378, 2.5378, 2.5377, 2.3422, 2.2843, 2.0797, 1.9663, 1.7715, 0.8394, -0.0571, -0.4881, 0.6243, 0.5452, 1.2981, 0.9515, -0.1857, 0.7117, -0.4585, 0.1916, 0.1032, 0.0221, -0.2327, -0.5641, -1.4752, -1.0602, -0.9825, -0.7862, -0.0458, 1.3069, 1.2874, 1.2867, 1.2866, 1.2706, 1.2696, 1.2693, 1.2691, 1.2412, 1.241, 1.2409, 1.2407, 1.2406, 1.2405, 1.2405, 1.2404, 1.2401, 1.24, 1.24, 1.2398, 1.2398, 1.2394, 1.2394, 1.2393, 1.2391, 1.2391, 1.2389, 1.2388, 1.188, 1.1879, 1.0934, 0.9624, 0.4564, 0.2017, 0.9994, 0.117, 0.5683, 0.2523, 0.1882, 0.0537, -0.2207, 0.27, 0.7373, -0.1095, 0.3254, 0.0226, 0.2411, -0.0076, -0.1709, 0.0976, 0.0103, 0.4541, -0.1386, 0.0265, -0.021, 0.4056, 0.0201, 1.9914, 1.9557, 1.9221, 1.9219, 1.9219, 1.9219, 1.9218, 1.9218, 1.9215, 1.9215, 1.9211, 1.8604, 1.8595, 1.8595, 1.8595, 1.8594, 1.8594, 1.8594, 1.8593, 1.8593, 1.8592, 1.8592, 1.8591, 1.8591, 1.8589, 1.8258, 1.7266, 1.7024, 1.7023, 1.7023, 1.6159, 1.5138, 1.5027, 1.0063, 0.4396, 0.7921, 0.7754, 0.1785, 1.1354, 0.253, 0.6689, 0.4236, -0.5019, 0.5584, 1.2564, 0.8062, 1.2396, 0.3564, -0.0157, -0.5565, 0.2753, 0.3657, 0.2492, -0.3262, -0.5347, -0.6734, -0.0197, 1.0047, 0.883, 0.9107, 0.9104, 0.9099, 0.9098, 0.9095, 0.9094, 0.9094, 0.9094, 0.9094, 0.9093, 0.9093, 0.9091, 0.9091, 0.9091, 0.909, 0.909, 0.909, 0.9088, 0.9088, 0.9088, 0.9088, 0.9088, 0.9088, 0.9087, 0.9087, 0.9087, 0.9087, 0.9086, 0.9086, 0.9086, 0.9086, 0.9086, 0.9085, 0.9085, -3.6707, -3.5306, -3.3417, -2.9735, -2.3125, -2.7238, -1.7775, -2.1107, -2.6333, -2.55, -2.0928, -2.0165, -2.7741, -2.185, -2.0519, -2.4476, -1.8865, -2.0426, -2.644, -0.8512, -2.0019, -2.105, -2.0157, 0.5908, 0.6964, -1.6162, 0.5904, -2.2937, -1.9312, -1.8466, -2.141, -1.1051, -2.0068, -2.4043, 1.0826, 1.0718, 1.0714, 1.0619, 1.0596, 1.0448, 1.0446, 1.0444, 1.0426, 1.0165, 1.0165, 1.0164, 1.0162, 1.0161, 1.016, 1.0153, 1.0152, 1.0147, 1.0132, 1.013, 1.0123, 0.965, 0.9643, 0.9643, 0.9641, 0.9641, 0.9641, 0.9641, 0.9641, 0.9638, 0.857, 0.8019, 0.72, 0.6319, 0.7518, 0.7804, 0.651, 0.3732, 0.452, 0.1086, 0.5643, 0.4687, 0.3415, 0.174, 0.1731, 0.3412, 0.3744, 0.7644, -0.21, 0.2703, 0.3802, 0.1399, -0.5254, 0.0631, 0.3274, -0.0231, 0.1908, 0.1421, 0.2999, 0.0564, -0.0026, 0.9088, 0.9086, 0.9081, 0.9075, 0.9073, 0.9071, 0.9065, 0.9065, 0.9063, 0.906, 0.9059, 0.9059, 0.9056, 0.9056, 0.9056, 0.9055, 0.9053, 0.9052, 0.9051, 0.905, 0.9049, 0.9049, 0.9048, 0.9047, 0.9047, 0.9046, 0.9045, 0.9045, 0.9044, 0.9044, 0.9043, -3.3561, -3.1898, -3.0592, -2.785, -2.2792, -2.597, -2.4843, -2.4933, -2.1431, -2.2576, -1.8985, -2.2632, -1.9398, -2.6704, -1.5361, -2.0372, -2.4816, -1.8242, -1.6875, -2.0795, -1.4665, -1.926, -2.0029, -1.8631, -1.6294, -2.0527, -2.1467, -2.1809, -2.0063, -1.7701]}, \"token.table\": {\"Topic\": [4, 4, 4, 4, 9, 4, 4, 6, 9, 4, 7, 9, 4, 9, 4, 4, 4, 7, 4, 6, 7, 9, 3, 6, 6, 3, 4, 6, 7, 9, 9, 3, 3, 3, 7, 6, 7, 4, 3, 9, 3, 3, 3, 3, 4, 6, 7, 9, 3, 5, 6, 7, 9, 9, 6, 4, 3, 4, 4, 6, 5, 7, 5, 3, 4, 5, 6, 7, 9, 3, 9, 9, 9, 4, 5, 9, 9, 4, 4, 3, 4, 3, 9, 6, 4, 4, 5, 3, 3, 5, 6, 9, 6, 7, 9, 5, 3, 5, 6, 7, 9, 3, 5, 6, 7, 9, 3, 3, 4, 6, 7, 9, 3, 4, 5, 6, 7, 9, 3, 4, 5, 6, 7, 9, 3, 4, 5, 6, 7, 9, 3, 4, 5, 6, 7, 9, 9, 4, 9, 5, 5, 6, 9, 5, 9, 6, 3, 4, 5, 6, 9, 3, 6, 9, 3, 4, 5, 6, 7, 9, 3, 6, 7, 7, 9, 9, 7, 4, 5, 3, 5, 3, 7, 3, 5, 6, 7, 9, 9, 3, 4, 9, 4, 7, 3, 5, 6, 5, 4, 3, 9, 9, 3, 4, 5, 6, 7, 9, 9, 5, 7, 4, 9, 4, 4, 3, 4, 4, 5, 9, 9, 4, 3, 3, 6, 4, 7, 4, 3, 6, 9, 3, 6, 7, 9, 3, 4, 6, 7, 9, 3, 4, 5, 6, 7, 9, 9, 3, 4, 4, 9, 3, 5, 7, 7, 6, 7, 9, 4, 4, 7, 4, 9, 3, 6, 7, 9, 4, 6, 7, 9, 9, 3, 9, 6, 3, 6, 4, 7, 6, 4, 3, 7, 9, 4, 7, 9, 5, 4, 3, 3, 7, 9, 3, 4, 5, 9, 7, 7, 3, 4, 4, 4, 3, 3, 4, 5, 6, 7, 9, 6, 6, 4, 3, 4, 6, 9, 5, 5, 5, 6, 9, 3, 4, 3, 3, 4, 6, 7, 9, 5, 7, 9, 3, 3, 3, 5, 6, 7, 3, 4, 5, 6, 7, 9, 6, 5, 3, 9, 3, 6, 9, 4, 4, 5, 6, 7, 9, 3, 4, 4, 7, 7, 5, 6, 7, 7, 4, 3, 4, 5, 7, 9, 9, 4, 9, 7, 7, 9, 9, 9, 9, 4, 9, 5, 3, 5, 9, 5, 3, 3, 3, 7, 4, 3, 4, 4, 3, 4, 5, 6, 7, 9, 3, 5, 6, 7, 9, 6, 7, 7, 6, 3, 3, 9, 3, 3, 9, 3, 3, 6, 4, 9, 3, 7, 3, 4, 6, 7, 9, 5, 9, 5, 3, 3, 4, 5, 6, 7, 9, 3, 9, 5, 3, 6, 6, 5, 3, 4, 5, 3, 4, 5, 9, 7, 4, 4, 3, 6, 5, 5, 3, 5, 3, 4, 6, 7, 9, 7, 4, 4, 4, 3, 5, 9, 6, 6, 7, 9, 5, 9, 3, 6, 7, 9, 6, 6, 6, 9, 3, 4, 6, 9, 3, 5, 9, 3, 5, 4, 7, 6, 3, 4, 5, 6, 7, 9, 4, 5, 6, 9, 4, 5, 6, 7, 9, 3, 6, 7, 3, 7, 9, 6, 3, 4, 6, 7, 3], \"Freq\": [1.0476404061967415, 1.0474045198916109, 1.0475271896500105, 1.0474692382415052, 0.9063680038964421, 1.0473314115473424, 0.4710593678394695, 0.23552968391973475, 0.23552968391973475, 0.1484929760981798, 0.2969859521963596, 0.5939719043927192, 1.0475014608078919, 0.8234914445093399, 1.0474199182688364, 1.0473392199940903, 1.0472377673195312, 0.7447324832952839, 1.0469321448302549, 0.1882840522297602, 0.3765681044595204, 0.3765681044595204, 0.9539125337203125, 0.9938704843384312, 0.9936060403061583, 0.238683359880492, 0.079561119960164, 0.238683359880492, 0.079561119960164, 0.39780559980082, 0.970357878605318, 0.9544423620128115, 0.7913727606015594, 0.7913419794518326, 1.0328062196432783, 1.0310067891893904, 0.8417969309443818, 1.0473213620791058, 0.7892276216821138, 0.2630758738940379, 0.9265020123841576, 1.0289485474730602, 0.7912800365213567, 0.04598364676581877, 0.04598364676581877, 0.2759018805949126, 0.2759018805949126, 0.3678691741265502, 0.16696643881139253, 0.033393287762278505, 0.26714630209822804, 0.033393287762278505, 0.5008993164341776, 0.9705854698896561, 0.9939207269322429, 1.0474434478074914, 0.9537177300361861, 0.6800136213458717, 1.047516116142662, 0.8437451981491222, 1.0388068824209886, 0.7447617670921568, 1.0391003219040993, 0.2061907746717452, 0.1030953873358726, 0.0515476936679363, 0.1546430810038089, 0.2577384683396815, 0.2061907746717452, 1.0286467704370597, 0.9703507821998641, 0.9062814497232887, 0.9065017823805996, 0.23295761083724625, 0.4659152216744925, 0.4659152216744925, 0.8707388984228248, 1.0476433506537164, 1.0471598838509373, 0.7052019707558245, 0.23506732358527482, 0.5598664013172514, 0.4478931210538011, 1.0310757091520448, 1.0472069824891763, 0.6797285609861465, 1.0391331958878687, 0.955841102217798, 0.4989340143206734, 0.16631133810689114, 0.16631133810689114, 0.16631133810689114, 0.25633133944574665, 0.38449700916861995, 0.38449700916861995, 1.0389229291071547, 0.16691369210339843, 0.023844813157628347, 0.2622929447339118, 0.16691369210339843, 0.38151701052205356, 0.27023633391887525, 0.1080945335675501, 0.05404726678377505, 0.27023633391887525, 0.3242836007026503, 1.027956231415523, 0.09595410855852811, 0.047977054279264054, 0.3358393799548484, 0.047977054279264054, 0.5277475970719047, 0.21653652911052307, 0.027067066138815384, 0.027067066138815384, 0.32480479366578463, 0.1353353306940769, 0.32480479366578463, 0.23847849688503633, 0.01834449976038741, 0.009172249880193705, 0.40357899472852304, 0.07337799904154964, 0.25682299664542374, 0.1413602463836445, 0.0471200821278815, 0.0471200821278815, 0.471200821278815, 0.188480328511526, 0.188480328511526, 0.24742677474041866, 0.03343605064059712, 0.026748840512477695, 0.3076116658934935, 0.1939290937154633, 0.18724188358734387, 0.9711073954498268, 1.047574639716251, 0.9709772346354962, 1.0388410406556927, 0.7895992240506703, 0.6829951093289056, 0.3414975546644528, 1.0389531150086273, 0.9065395843224182, 1.031117957184945, 0.1497311606378601, 0.0998207737585734, 0.0998207737585734, 0.2495519343964335, 0.44919348191358033, 0.29564410477658964, 0.25340923266564824, 0.46458359322035514, 0.21270640207112465, 0.05317660051778116, 0.05317660051778116, 0.31905960310668696, 0.10635320103556233, 0.21270640207112465, 0.8020543305807156, 0.993915126160224, 0.8735719087697326, 1.0326862871960407, 0.7560869623775879, 0.9068085506507819, 0.7447477244611996, 1.0473115093803973, 1.0388443349197436, 0.7580136353701542, 0.2526712117900514, 0.3615544916421201, 0.7231089832842402, 0.29059735772860107, 0.036324669716075134, 0.25427268801252595, 0.036324669716075134, 0.4358960365929016, 0.9705642135546303, 0.1996515016855895, 0.1996515016855895, 0.5989545050567686, 1.0069331227025438, 1.0327826664415527, 0.8763418233619973, 1.038970724516962, 0.9289824456369834, 1.0386718620185713, 1.0477422699318546, 0.7912772409646421, 0.7560897091997707, 0.9066111613644694, 0.2390543200729906, 0.047810864014598116, 0.047810864014598116, 0.2390543200729906, 0.07171629602189718, 0.3824869121167849, 0.9701461967017733, 0.4475175466732111, 0.4475175466732111, 0.42481513436554763, 0.42481513436554763, 1.047206309795585, 1.047322401652462, 0.8014490150186009, 1.0473285172083386, 1.0476157189327533, 0.30731882031348673, 0.6146376406269735, 0.9707265600873781, 1.0472446346681035, 0.9204406265619027, 1.0292975248006946, 0.9935813761945669, 1.0473951676231041, 0.8420440701278504, 1.0473656460450087, 0.15282475893898834, 0.15282475893898834, 0.6112990357559533, 0.1897271967303596, 0.12648479782023972, 0.12648479782023972, 0.5691815901910788, 0.10916486476572657, 0.10916486476572657, 0.3274945942971797, 0.10916486476572657, 0.43665945906290626, 0.09184142304891352, 0.09184142304891352, 0.09184142304891352, 0.36736569219565407, 0.09184142304891352, 0.36736569219565407, 0.9704858208918019, 0.9542520477263845, 1.0474051028443003, 1.0473183707650735, 0.9707586150547894, 0.8715874015904025, 0.2905291338634675, 1.0327443465014277, 0.7449691545801108, 0.12963090002381092, 0.6481545001190545, 0.25926180004762184, 1.0472732712778916, 1.0472930870714114, 1.032909709576949, 0.2425704858640903, 0.7277114575922708, 0.21057595520451483, 0.15793196640338614, 0.15793196640338614, 0.47379589921015836, 0.07393671474759034, 0.14787342949518067, 0.14787342949518067, 0.665430432728313, 0.9064195081153246, 0.13419650165649663, 0.8051790099389798, 0.9937245950544572, 0.7916409292566889, 0.9937353943496556, 1.0472106819903853, 1.0327109995774868, 0.9937839532778387, 1.0471567074120014, 0.15550046681846028, 0.15550046681846028, 0.6220018672738411, 0.18698149274059758, 0.5609444782217927, 0.18698149274059758, 1.0388304381833904, 1.0470216793685128, 0.9561997199212726, 0.3828468647876888, 0.3828468647876888, 0.1914234323938444, 1.0298150627333924, 1.0470625605505046, 1.038784295954513, 0.755880807417965, 1.0329406962921657, 0.7446430104031379, 0.9592790481526056, 1.0472075474061715, 1.047510339090741, 1.0474987821891757, 1.029308388948982, 0.12672931969134857, 0.03620837705467102, 0.03620837705467102, 0.1991460738006906, 0.14483350821868407, 0.47070890171072327, 0.8439360323869709, 1.0309104526390034, 1.0472438971227371, 0.34487621106859334, 0.13795048442743735, 0.06897524221371867, 0.41385145328231204, 0.6729521638523821, 1.0389164053592135, 1.039040426931013, 0.9938598070147155, 1.0061986504371951, 0.6028546344681093, 0.40190308964540616, 1.0275660326086788, 0.1087245706851048, 0.0362415235617016, 0.2174491413702096, 0.181207617808508, 0.4348982827404192, 1.038829255076101, 0.8598744388327744, 0.17197488776655487, 0.9591489428765354, 0.7921026589598663, 0.5545200870541906, 0.11090401741083813, 0.3327120522325144, 1.0329741686511245, 0.21756085867081074, 0.04351217173416214, 0.04351217173416214, 0.17404868693664857, 0.17404868693664857, 0.3916095456074593, 0.8440679820536684, 1.0390636176528152, 0.5449363674468596, 0.3632909116312397, 0.12173046179399825, 0.486921847175993, 0.36519138538199475, 1.0474140987245695, 0.08719889318985473, 0.08719889318985473, 0.3487955727594189, 0.08719889318985473, 0.3487955727594189, 0.9545373517422948, 1.047565202803426, 1.047467106880579, 1.0140658668941724, 1.0329676415751436, 1.039177416574067, 0.9939680872575392, 1.032760431147091, 0.7449344922681806, 1.0474109646918646, 0.20272222098794707, 0.050680555246986767, 0.10136111049397353, 0.35476388672890735, 0.25340277623493385, 0.9066419263286164, 1.0474616414816509, 0.8231743471947216, 0.8421660251822624, 0.6951535148124701, 0.23171783827082337, 0.9055946013122369, 1.0068017358938235, 1.0066584762287163, 1.0470349522129425, 0.8701802692064601, 1.0388971918433956, 0.2525138412819427, 0.12625692064097135, 0.6312846032048568, 1.0390602028715308, 0.7916743359421643, 1.02800245142674, 1.0281504227904734, 0.7449040983359778, 1.0475728276169038, 0.8015391897180751, 1.047385870225221, 1.0470298660271584, 0.11549026215828812, 0.05774513107914406, 0.05774513107914406, 0.34647078647486435, 0.23098052431657623, 0.23098052431657623, 0.17798195804153547, 0.05932731934717849, 0.23730927738871396, 0.17798195804153547, 0.29663659673589243, 0.9938097315393954, 0.8420404877347847, 1.0326073848982322, 0.9938730375566861, 0.9545243105803125, 0.2416064487084527, 0.724819346125358, 0.7915357710655486, 0.7918520497202197, 0.7560430477154684, 0.9546093941628915, 0.801116350365972, 0.9261286937118173, 1.0474177611034876, 0.7562542229339803, 0.8020897302753724, 0.7446353594509955, 0.18413162073642028, 0.09206581036821014, 0.18413162073642028, 0.27619743110463046, 0.36826324147284056, 0.673030650153698, 0.7561094291997748, 1.0389540999421314, 0.9545989365048514, 0.22550628510279971, 0.011868751847515773, 0.04747500739006309, 0.2848500443403786, 0.07121251108509465, 0.3560625554254732, 0.7923512810813624, 0.756321494815081, 1.0393380902454852, 0.7914456211394761, 0.9933693115398514, 0.9935530353396818, 1.0390209386284155, 0.9257717750562631, 1.0475296663611346, 0.6730709995606164, 0.5601710353694759, 0.18672367845649196, 0.18672367845649196, 0.18672367845649196, 1.0329143239776057, 1.04729446872916, 1.0471303339123035, 0.8753459438714078, 0.9933054649152606, 0.6732315130686766, 1.038949289492072, 0.7916981260992842, 1.0391834373037676, 0.32945875683960985, 0.05490979280660164, 0.21963917122640655, 0.05490979280660164, 0.32945875683960985, 1.0327846445621596, 1.0473986601609764, 1.0472941071621846, 1.0474148268412773, 0.7916118182050956, 1.0389543961079508, 0.970272492706446, 0.9937643303902296, 0.8643613122370754, 0.21609032805926884, 1.0066996377246504, 0.42201028381978317, 0.42201028381978317, 0.2377644944068123, 0.2377644944068123, 0.047552898881362465, 0.4755289888136246, 0.9261013682423087, 0.9933920345515131, 0.9937360285905489, 0.9064446218274327, 0.1339026435756673, 0.06695132178783365, 0.1339026435756673, 0.7364645396661702, 0.3064130410082889, 0.07660326025207223, 0.6128260820165778, 0.7915571685541946, 1.039062328420617, 1.047275955150221, 1.0325301055328084, 0.9938595299194896, 0.20715398986498207, 0.02959342712356887, 0.02959342712356887, 0.29593427123568866, 0.0887802813707066, 0.3551211254828264, 0.1569466121235814, 0.1569466121235814, 0.3138932242471628, 0.4708398363707443, 0.6800529895488705, 0.13150975917099045, 0.13150975917099045, 0.2630195183419809, 0.5260390366839618, 0.1582963250406888, 0.6331853001627552, 0.1582963250406888, 0.8017974072476013, 0.7444855513254784, 0.970616300146351, 0.9937198299252665, 0.46995656643143535, 0.15665218881047846, 0.15665218881047846, 0.15665218881047846, 0.791475312587051], \"Term\": [\"1,26\", \"1,41\", \"180.000\", \"2,24\", \"2.400\", \"2020\", \"2021\", \"2021\", \"2021\", \"2022\", \"2022\", \"2022\", \"2500\", \"3.000\", \"650\", \"659.000\", \"662.000\", \"7,4\", \"970.000\", \"aber\", \"aber\", \"aber\", \"airlines\", \"aktiengesellschaften\", \"aktiva\", \"al\", \"al\", \"al\", \"al\", \"al\", \"angebote\", \"angebotenen\", \"angeh\\u00f6rigen\", \"angestellte\", \"angezogen\", \"anlagen\", \"anzeige\", \"anzuheben\", \"april\", \"april\", \"arbeitgeber\", \"arbeitgebern\", \"arbeitgeberseite\", \"auch\", \"auch\", \"auch\", \"auch\", \"auch\", \"auf\", \"auf\", \"auf\", \"auf\", \"auf\", \"aufgaben\", \"aufschwung\", \"aussicht\", \"austrian\", \"bahn\", \"bahnchef\", \"bank\", \"barbara\", \"bedeutet\", \"befragten\", \"bei\", \"bei\", \"bei\", \"bei\", \"bei\", \"bei\", \"beide\", \"bekomman\", \"bekommt\", \"berechnet\", \"berlin\", \"berlin\", \"berlin\", \"bertelsmann\", \"berthold\", \"besch\\u00e4ftigte\", \"besch\\u00e4ftigten\", \"besch\\u00e4ftigten\", \"bis\", \"bis\", \"blase\", \"boni\", \"bonus\", \"boxen\", \"bund\", \"dabei\", \"dabei\", \"dabei\", \"dabei\", \"damit\", \"damit\", \"damit\", \"darauf\", \"das\", \"das\", \"das\", \"das\", \"das\", \"dass\", \"dass\", \"dass\", \"dass\", \"dass\", \"dbb\", \"dem\", \"dem\", \"dem\", \"dem\", \"dem\", \"den\", \"den\", \"den\", \"den\", \"den\", \"den\", \"der\", \"der\", \"der\", \"der\", \"der\", \"der\", \"des\", \"des\", \"des\", \"des\", \"des\", \"des\", \"die\", \"die\", \"die\", \"die\", \"die\", \"die\", \"digitale\", \"doppelt\", \"dort\", \"dringen\", \"duh\", \"durch\", \"durch\", \"durchgef\\u00fchrt\", \"eigene\", \"eigenkapital\", \"ein\", \"ein\", \"ein\", \"ein\", \"ein\", \"eine\", \"eine\", \"eine\", \"einer\", \"einer\", \"einer\", \"einer\", \"einer\", \"einer\", \"einkommen\", \"einlagen\", \"einstellungen\", \"energiepreise\", \"engagement\", \"entgeltpunkte\", \"entspannung\", \"erfolgsabh\\u00e4ngiger\", \"erhoben\", \"erkl\\u00e4rten\", \"erkl\\u00e4rten\", \"erst\", \"erst\", \"es\", \"es\", \"es\", \"es\", \"es\", \"etwa\", \"euro\", \"euro\", \"euro\", \"evg\", \"ezb\", \"faeser\", \"filialen\", \"firmen\", \"folgten\", \"fordert\", \"frank\", \"f\\u00fchrungskraft\", \"f\\u00fchrungskr\\u00e4fte\", \"f\\u00fcr\", \"f\\u00fcr\", \"f\\u00fcr\", \"f\\u00fcr\", \"f\\u00fcr\", \"f\\u00fcr\", \"gasheizungen\", \"gegen\", \"gegen\", \"geld\", \"geld\", \"geringen\", \"gesamtverg\\u00fctung\", \"gescheitert\", \"gesch\\u00e4ftsbericht\", \"gesch\\u00e4ftsberichten\", \"gesetz\", \"gesetz\", \"gesetzliche\", \"gestellt\", \"gewerkschaften\", \"gewesen\", \"gewinne\", \"gezahlt\", \"grafiken\", \"grundgehalt\", \"gut\", \"gut\", \"gut\", \"haben\", \"haben\", \"haben\", \"haben\", \"hat\", \"hat\", \"hat\", \"hat\", \"hat\", \"hatte\", \"hatte\", \"hatte\", \"hatte\", \"hatte\", \"hatte\", \"heizung\", \"hie\\u00df\", \"hinzukam\", \"huber\", \"h\\u00e4fner\", \"h\\u00e4tten\", \"h\\u00e4tten\", \"h\\u00f6he\", \"imk\", \"inflation\", \"inflation\", \"inflation\", \"infrastruktur\", \"infrastrukturvorstand\", \"inhalte\", \"insgesamt\", \"insgesamt\", \"ist\", \"ist\", \"ist\", \"ist\", \"jahr\", \"jahr\", \"jahr\", \"jahr\", \"kalender\", \"kann\", \"kann\", \"kapitalismus\", \"karin\", \"kasino\", \"kollegen\", \"konsums\", \"krise\", \"k\\u00e4mpfen\", \"k\\u00f6nnen\", \"k\\u00f6nnen\", \"k\\u00f6nnen\", \"lag\", \"lag\", \"lag\", \"lagern\", \"landete\", \"laufzeit\", \"laut\", \"laut\", \"laut\", \"lautete\", \"lehnt\", \"leiter\", \"lernen\", \"lest\", \"liegen\", \"lohn\", \"lohngruppen\", \"lutz\", \"l\\u00f6hne\", \"l\\u00f6sung\", \"m\", \"m\", \"m\", \"m\", \"m\", \"m\", \"mark\", \"market\", \"martin\", \"mehr\", \"mehr\", \"mehr\", \"mehr\", \"mehrweg\", \"mehrwegangebotspflicht\", \"mehrwegl\\u00f6sungen\", \"methode\", \"milliarden\", \"millionen\", \"millionen\", \"mindestbetrag\", \"mit\", \"mit\", \"mit\", \"mit\", \"mit\", \"mitnehmen\", \"m\\u00e4rz\", \"m\\u00e4rz\", \"m\\u00f6glich\", \"m\\u00f6glichkeit\", \"nach\", \"nach\", \"nach\", \"netzwerke\", \"nicht\", \"nicht\", \"nicht\", \"nicht\", \"nicht\", \"nicht\", \"niederstwertprinzip\", \"niedriger\", \"nun\", \"nun\", \"nur\", \"nur\", \"nur\", \"oberen\", \"oder\", \"oder\", \"oder\", \"oder\", \"oder\", \"ostern\", \"personalvorstand\", \"plus\", \"preise\", \"preisver\\u00e4nderung\", \"preisvorteile\", \"prinzip\", \"privaten\", \"privatsph\\u00e4re\", \"problemen\", \"prozent\", \"prozent\", \"prozent\", \"prozent\", \"prozent\", \"psychologe\", \"p\\u00fcnktlichkeit\", \"rabe\", \"rasant\", \"rechnen\", \"rechnen\", \"rente\", \"rentenversicherung\", \"rentner\", \"richard\", \"rtl\", \"r\\u00fcckgabestellen\", \"sagte\", \"sagte\", \"sagte\", \"sanktionieren\", \"scheitern\", \"schlichtung\", \"schlichtungskommission\", \"schon\", \"schritten\", \"seien\", \"seiler\", \"seinem\", \"sich\", \"sich\", \"sich\", \"sich\", \"sich\", \"sich\", \"sie\", \"sie\", \"sie\", \"sie\", \"sie\", \"silicon\", \"sinken\", \"sinkt\", \"sinn\", \"sinne\", \"soll\", \"soll\", \"sprach\", \"staatsrat\", \"starttermin\", \"streik\", \"streiks\", \"suisse\", \"s\\u00e4mtlichen\", \"tagesplanung\", \"tarifverhandlungen\", \"teuerung\", \"um\", \"um\", \"um\", \"um\", \"um\", \"umfrage\", \"umgehen\", \"umwelthilfe\", \"un\", \"und\", \"und\", \"und\", \"und\", \"und\", \"und\", \"uneinigkeit\", \"unfallversicherung\", \"unterlassungserkl\\u00e4rungen\", \"unterstreiche\", \"usa\", \"valley\", \"verbraucherinnen\", \"verdi\", \"verdiente\", \"vereins\", \"vergangenen\", \"vergangenen\", \"vergangenen\", \"vergangenen\", \"vergleich\", \"verg\\u00fctung\", \"verhandelt\", \"verhandlungen\", \"verluste\", \"verst\\u00f6\\u00dfe\", \"verst\\u00f6\\u00dfen\", \"verwaltungsangestellte\", \"vollzugsaufgaben\", \"von\", \"von\", \"von\", \"von\", \"von\", \"vorjahresmonat\", \"vorstandsmitglieder\", \"vorstandsmitgliedern\", \"vorstandsvorsitzenden\", \"votiert\", \"weiteren\", \"welche\", \"welt\", \"wenn\", \"wenn\", \"wer\", \"werde\", \"werde\", \"werden\", \"werden\", \"werden\", \"werden\", \"werner\", \"wertpapiere\", \"wertzuw\\u00e4chse\", \"wichtigen\", \"wie\", \"wie\", \"wie\", \"wie\", \"wir\", \"wir\", \"wir\", \"w\\u00e4hrend\", \"w\\u00fcnschten\", \"zahlreichen\", \"zentralbank\", \"zentralbanken\", \"zu\", \"zu\", \"zu\", \"zu\", \"zu\", \"zu\", \"zudem\", \"zudem\", \"zudem\", \"zudem\", \"zufolge\", \"zum\", \"zum\", \"zum\", \"zum\", \"zur\", \"zur\", \"zur\", \"\\u00f6ffentlichen\", \"\\u00f6konomen\", \"\\u00f6l-\", \"\\u00f6sterreich\", \"\\u00fcber\", \"\\u00fcber\", \"\\u00fcber\", \"\\u00fcber\", \"\\u00fcberbr\\u00fcckbar\"]}, \"R\": 30, \"lambda.step\": 0.01, \"plot.opts\": {\"xlab\": \"PC1\", \"ylab\": \"PC2\"}, \"topic.order\": [1, 2, 3, 4, 5, 6, 7, 8, 9, 10]};\n",
       "\n",
       "function LDAvis_load_lib(url, callback){\n",
       "  var s = document.createElement('script');\n",
       "  s.src = url;\n",
       "  s.async = true;\n",
       "  s.onreadystatechange = s.onload = callback;\n",
       "  s.onerror = function(){console.warn(\"failed to load library \" + url);};\n",
       "  document.getElementsByTagName(\"head\")[0].appendChild(s);\n",
       "}\n",
       "\n",
       "if(typeof(LDAvis) !== \"undefined\"){\n",
       "   // already loaded: just create the visualization\n",
       "   !function(LDAvis){\n",
       "       new LDAvis(\"#\" + \"ldavis_el101602564673328176763394856\", ldavis_el101602564673328176763394856_data);\n",
       "   }(LDAvis);\n",
       "}else if(typeof define === \"function\" && define.amd){\n",
       "   // require.js is available: use it to load d3/LDAvis\n",
       "   require.config({paths: {d3: \"https://d3js.org/d3.v5\"}});\n",
       "   require([\"d3\"], function(d3){\n",
       "      window.d3 = d3;\n",
       "      LDAvis_load_lib(\"https://cdn.jsdelivr.net/gh/bmabey/pyLDAvis@3.4.0/pyLDAvis/js/ldavis.v3.0.0.js\", function(){\n",
       "        new LDAvis(\"#\" + \"ldavis_el101602564673328176763394856\", ldavis_el101602564673328176763394856_data);\n",
       "      });\n",
       "    });\n",
       "}else{\n",
       "    // require.js not available: dynamically load d3 & LDAvis\n",
       "    LDAvis_load_lib(\"https://d3js.org/d3.v5.js\", function(){\n",
       "         LDAvis_load_lib(\"https://cdn.jsdelivr.net/gh/bmabey/pyLDAvis@3.4.0/pyLDAvis/js/ldavis.v3.0.0.js\", function(){\n",
       "                 new LDAvis(\"#\" + \"ldavis_el101602564673328176763394856\", ldavis_el101602564673328176763394856_data);\n",
       "            })\n",
       "         });\n",
       "}\n",
       "</script>"
      ],
      "text/plain": [
       "<IPython.core.display.HTML object>"
      ]
     },
     "execution_count": 51,
     "metadata": {},
     "output_type": "execute_result"
    }
   ],
   "source": [
    "# Visualize the LDA model\n",
    "lda_display = gensimvis.prepare(lda_model, corpus, dictionary, sort_topics=False)\n",
    "pyLDAvis.display(lda_display)"
   ]
  },
  {
   "cell_type": "code",
   "execution_count": 1,
   "id": "222fb73d",
   "metadata": {},
   "outputs": [],
   "source": [
    "# word cloud"
   ]
  },
  {
   "cell_type": "code",
   "execution_count": null,
   "id": "d398f041",
   "metadata": {},
   "outputs": [],
   "source": []
  }
 ],
 "metadata": {
  "kernelspec": {
   "display_name": "Python 3 (ipykernel)",
   "language": "python",
   "name": "python3"
  },
  "language_info": {
   "codemirror_mode": {
    "name": "ipython",
    "version": 3
   },
   "file_extension": ".py",
   "mimetype": "text/x-python",
   "name": "python",
   "nbconvert_exporter": "python",
   "pygments_lexer": "ipython3",
   "version": "3.9.13"
  }
 },
 "nbformat": 4,
 "nbformat_minor": 5
}
